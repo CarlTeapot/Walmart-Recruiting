{
  "nbformat": 4,
  "nbformat_minor": 0,
  "metadata": {
    "colab": {
      "provenance": [],
      "gpuType": "T4",
      "authorship_tag": "ABX9TyPYXWOcP1zINuooF6sMP0/p",
      "include_colab_link": true
    },
    "kernelspec": {
      "name": "python3",
      "display_name": "Python 3"
    },
    "language_info": {
      "name": "python"
    },
    "accelerator": "GPU"
  },
  "cells": [
    {
      "cell_type": "markdown",
      "metadata": {
        "id": "view-in-github",
        "colab_type": "text"
      },
      "source": [
        "<a href=\"https://colab.research.google.com/github/CarlTeapot/Walmart-Recruiting/blob/main/model_experiment_PatchTST.ipynb\" target=\"_parent\"><img src=\"https://colab.research.google.com/assets/colab-badge.svg\" alt=\"Open In Colab\"/></a>"
      ]
    },
    {
      "cell_type": "code",
      "execution_count": null,
      "metadata": {
        "colab": {
          "base_uri": "https://localhost:8080/",
          "height": 1000
        },
        "id": "yzJMbPvRUNDj",
        "outputId": "faba9409-8a97-4498-daca-ba0c1c2e172d"
      },
      "outputs": [
        {
          "output_type": "stream",
          "name": "stdout",
          "text": [
            "Collecting mlflow==2.2.2\n",
            "  Downloading mlflow-2.2.2-py3-none-any.whl.metadata (11 kB)\n",
            "Requirement already satisfied: click<9,>=7.0 in /usr/local/lib/python3.11/dist-packages (from mlflow==2.2.2) (8.2.1)\n",
            "Collecting cloudpickle<3 (from mlflow==2.2.2)\n",
            "  Downloading cloudpickle-2.2.1-py3-none-any.whl.metadata (6.9 kB)\n",
            "Collecting databricks-cli<1,>=0.8.7 (from mlflow==2.2.2)\n",
            "  Downloading databricks_cli-0.18.0-py2.py3-none-any.whl.metadata (4.0 kB)\n",
            "Requirement already satisfied: entrypoints<1 in /usr/local/lib/python3.11/dist-packages (from mlflow==2.2.2) (0.4)\n",
            "Requirement already satisfied: gitpython<4,>=2.1.0 in /usr/local/lib/python3.11/dist-packages (from mlflow==2.2.2) (3.1.45)\n",
            "Requirement already satisfied: pyyaml<7,>=5.1 in /usr/local/lib/python3.11/dist-packages (from mlflow==2.2.2) (6.0.2)\n",
            "Collecting protobuf<5,>=3.12.0 (from mlflow==2.2.2)\n",
            "  Downloading protobuf-4.25.8-cp37-abi3-manylinux2014_x86_64.whl.metadata (541 bytes)\n",
            "Collecting pytz<2023 (from mlflow==2.2.2)\n",
            "  Downloading pytz-2022.7.1-py2.py3-none-any.whl.metadata (21 kB)\n",
            "Requirement already satisfied: requests<3,>=2.17.3 in /usr/local/lib/python3.11/dist-packages (from mlflow==2.2.2) (2.32.3)\n",
            "Collecting packaging<24 (from mlflow==2.2.2)\n",
            "  Downloading packaging-23.2-py3-none-any.whl.metadata (3.2 kB)\n",
            "Collecting importlib-metadata!=4.7.0,<7,>=3.7.0 (from mlflow==2.2.2)\n",
            "  Downloading importlib_metadata-6.11.0-py3-none-any.whl.metadata (4.9 kB)\n",
            "Requirement already satisfied: sqlparse<1,>=0.4.0 in /usr/local/lib/python3.11/dist-packages (from mlflow==2.2.2) (0.5.3)\n",
            "Collecting alembic<2 (from mlflow==2.2.2)\n",
            "  Downloading alembic-1.16.4-py3-none-any.whl.metadata (7.3 kB)\n",
            "Collecting docker<7,>=4.0.0 (from mlflow==2.2.2)\n",
            "  Downloading docker-6.1.3-py3-none-any.whl.metadata (3.5 kB)\n",
            "Collecting Flask<3 (from mlflow==2.2.2)\n",
            "  Downloading flask-2.3.3-py3-none-any.whl.metadata (3.6 kB)\n",
            "Collecting numpy<2 (from mlflow==2.2.2)\n",
            "  Downloading numpy-1.26.4-cp311-cp311-manylinux_2_17_x86_64.manylinux2014_x86_64.whl.metadata (61 kB)\n",
            "\u001b[2K     \u001b[90m━━━━━━━━━━━━━━━━━━━━━━━━━━━━━━━━━━━━━━━━\u001b[0m \u001b[32m61.0/61.0 kB\u001b[0m \u001b[31m2.1 MB/s\u001b[0m eta \u001b[36m0:00:00\u001b[0m\n",
            "\u001b[?25hRequirement already satisfied: scipy<2 in /usr/local/lib/python3.11/dist-packages (from mlflow==2.2.2) (1.16.0)\n",
            "Requirement already satisfied: pandas<3 in /usr/local/lib/python3.11/dist-packages (from mlflow==2.2.2) (2.2.2)\n",
            "Collecting querystring-parser<2 (from mlflow==2.2.2)\n",
            "  Downloading querystring_parser-1.2.4-py2.py3-none-any.whl.metadata (559 bytes)\n",
            "Requirement already satisfied: sqlalchemy<3,>=1.4.0 in /usr/local/lib/python3.11/dist-packages (from mlflow==2.2.2) (2.0.41)\n",
            "Requirement already satisfied: scikit-learn<2 in /usr/local/lib/python3.11/dist-packages (from mlflow==2.2.2) (1.6.1)\n",
            "Collecting pyarrow<12,>=4.0.0 (from mlflow==2.2.2)\n",
            "  Downloading pyarrow-11.0.0-cp311-cp311-manylinux_2_17_x86_64.manylinux2014_x86_64.whl.metadata (3.0 kB)\n",
            "Requirement already satisfied: shap<1,>=0.40 in /usr/local/lib/python3.11/dist-packages (from mlflow==2.2.2) (0.48.0)\n",
            "Requirement already satisfied: markdown<4,>=3.3 in /usr/local/lib/python3.11/dist-packages (from mlflow==2.2.2) (3.8.2)\n",
            "Requirement already satisfied: matplotlib<4 in /usr/local/lib/python3.11/dist-packages (from mlflow==2.2.2) (3.10.0)\n",
            "Collecting gunicorn<21 (from mlflow==2.2.2)\n",
            "  Downloading gunicorn-20.1.0-py3-none-any.whl.metadata (3.8 kB)\n",
            "Requirement already satisfied: Jinja2<4,>=2.11 in /usr/local/lib/python3.11/dist-packages (from mlflow==2.2.2) (3.1.6)\n",
            "Requirement already satisfied: Mako in /usr/lib/python3/dist-packages (from alembic<2->mlflow==2.2.2) (1.1.3)\n",
            "Requirement already satisfied: typing-extensions>=4.12 in /usr/local/lib/python3.11/dist-packages (from alembic<2->mlflow==2.2.2) (4.14.1)\n",
            "Requirement already satisfied: pyjwt>=1.7.0 in /usr/local/lib/python3.11/dist-packages (from databricks-cli<1,>=0.8.7->mlflow==2.2.2) (2.10.1)\n",
            "Requirement already satisfied: oauthlib>=3.1.0 in /usr/local/lib/python3.11/dist-packages (from databricks-cli<1,>=0.8.7->mlflow==2.2.2) (3.3.1)\n",
            "Requirement already satisfied: tabulate>=0.7.7 in /usr/local/lib/python3.11/dist-packages (from databricks-cli<1,>=0.8.7->mlflow==2.2.2) (0.9.0)\n",
            "Requirement already satisfied: six>=1.10.0 in /usr/local/lib/python3.11/dist-packages (from databricks-cli<1,>=0.8.7->mlflow==2.2.2) (1.17.0)\n",
            "Requirement already satisfied: urllib3<3,>=1.26.7 in /usr/local/lib/python3.11/dist-packages (from databricks-cli<1,>=0.8.7->mlflow==2.2.2) (2.5.0)\n",
            "Requirement already satisfied: websocket-client>=0.32.0 in /usr/local/lib/python3.11/dist-packages (from docker<7,>=4.0.0->mlflow==2.2.2) (1.8.0)\n",
            "Requirement already satisfied: Werkzeug>=2.3.7 in /usr/local/lib/python3.11/dist-packages (from Flask<3->mlflow==2.2.2) (3.1.3)\n",
            "Requirement already satisfied: itsdangerous>=2.1.2 in /usr/local/lib/python3.11/dist-packages (from Flask<3->mlflow==2.2.2) (2.2.0)\n",
            "Requirement already satisfied: blinker>=1.6.2 in /usr/local/lib/python3.11/dist-packages (from Flask<3->mlflow==2.2.2) (1.9.0)\n",
            "Requirement already satisfied: gitdb<5,>=4.0.1 in /usr/local/lib/python3.11/dist-packages (from gitpython<4,>=2.1.0->mlflow==2.2.2) (4.0.12)\n",
            "Requirement already satisfied: setuptools>=3.0 in /usr/local/lib/python3.11/dist-packages (from gunicorn<21->mlflow==2.2.2) (75.2.0)\n",
            "Requirement already satisfied: zipp>=0.5 in /usr/local/lib/python3.11/dist-packages (from importlib-metadata!=4.7.0,<7,>=3.7.0->mlflow==2.2.2) (3.23.0)\n",
            "Requirement already satisfied: MarkupSafe>=2.0 in /usr/local/lib/python3.11/dist-packages (from Jinja2<4,>=2.11->mlflow==2.2.2) (3.0.2)\n",
            "Requirement already satisfied: contourpy>=1.0.1 in /usr/local/lib/python3.11/dist-packages (from matplotlib<4->mlflow==2.2.2) (1.3.2)\n",
            "Requirement already satisfied: cycler>=0.10 in /usr/local/lib/python3.11/dist-packages (from matplotlib<4->mlflow==2.2.2) (0.12.1)\n",
            "Requirement already satisfied: fonttools>=4.22.0 in /usr/local/lib/python3.11/dist-packages (from matplotlib<4->mlflow==2.2.2) (4.59.0)\n",
            "Requirement already satisfied: kiwisolver>=1.3.1 in /usr/local/lib/python3.11/dist-packages (from matplotlib<4->mlflow==2.2.2) (1.4.8)\n",
            "Requirement already satisfied: pillow>=8 in /usr/local/lib/python3.11/dist-packages (from matplotlib<4->mlflow==2.2.2) (11.3.0)\n",
            "Requirement already satisfied: pyparsing>=2.3.1 in /usr/local/lib/python3.11/dist-packages (from matplotlib<4->mlflow==2.2.2) (3.2.3)\n",
            "Requirement already satisfied: python-dateutil>=2.7 in /usr/local/lib/python3.11/dist-packages (from matplotlib<4->mlflow==2.2.2) (2.9.0.post0)\n",
            "Requirement already satisfied: tzdata>=2022.7 in /usr/local/lib/python3.11/dist-packages (from pandas<3->mlflow==2.2.2) (2025.2)\n",
            "Requirement already satisfied: charset-normalizer<4,>=2 in /usr/local/lib/python3.11/dist-packages (from requests<3,>=2.17.3->mlflow==2.2.2) (3.4.2)\n",
            "Requirement already satisfied: idna<4,>=2.5 in /usr/local/lib/python3.11/dist-packages (from requests<3,>=2.17.3->mlflow==2.2.2) (3.10)\n",
            "Requirement already satisfied: certifi>=2017.4.17 in /usr/local/lib/python3.11/dist-packages (from requests<3,>=2.17.3->mlflow==2.2.2) (2025.7.14)\n",
            "Requirement already satisfied: joblib>=1.2.0 in /usr/local/lib/python3.11/dist-packages (from scikit-learn<2->mlflow==2.2.2) (1.5.1)\n",
            "Requirement already satisfied: threadpoolctl>=3.1.0 in /usr/local/lib/python3.11/dist-packages (from scikit-learn<2->mlflow==2.2.2) (3.6.0)\n",
            "Requirement already satisfied: tqdm>=4.27.0 in /usr/local/lib/python3.11/dist-packages (from shap<1,>=0.40->mlflow==2.2.2) (4.67.1)\n",
            "Requirement already satisfied: slicer==0.0.8 in /usr/local/lib/python3.11/dist-packages (from shap<1,>=0.40->mlflow==2.2.2) (0.0.8)\n",
            "Requirement already satisfied: numba>=0.54 in /usr/local/lib/python3.11/dist-packages (from shap<1,>=0.40->mlflow==2.2.2) (0.60.0)\n",
            "Requirement already satisfied: greenlet>=1 in /usr/local/lib/python3.11/dist-packages (from sqlalchemy<3,>=1.4.0->mlflow==2.2.2) (3.2.3)\n",
            "Requirement already satisfied: smmap<6,>=3.0.1 in /usr/local/lib/python3.11/dist-packages (from gitdb<5,>=4.0.1->gitpython<4,>=2.1.0->mlflow==2.2.2) (5.0.2)\n",
            "Requirement already satisfied: llvmlite<0.44,>=0.43.0dev0 in /usr/local/lib/python3.11/dist-packages (from numba>=0.54->shap<1,>=0.40->mlflow==2.2.2) (0.43.0)\n",
            "Downloading mlflow-2.2.2-py3-none-any.whl (17.6 MB)\n",
            "\u001b[2K   \u001b[90m━━━━━━━━━━━━━━━━━━━━━━━━━━━━━━━━━━━━━━━━\u001b[0m \u001b[32m17.6/17.6 MB\u001b[0m \u001b[31m15.7 MB/s\u001b[0m eta \u001b[36m0:00:00\u001b[0m\n",
            "\u001b[?25hDownloading alembic-1.16.4-py3-none-any.whl (247 kB)\n",
            "\u001b[2K   \u001b[90m━━━━━━━━━━━━━━━━━━━━━━━━━━━━━━━━━━━━━━━━\u001b[0m \u001b[32m247.0/247.0 kB\u001b[0m \u001b[31m14.8 MB/s\u001b[0m eta \u001b[36m0:00:00\u001b[0m\n",
            "\u001b[?25hDownloading cloudpickle-2.2.1-py3-none-any.whl (25 kB)\n",
            "Downloading databricks_cli-0.18.0-py2.py3-none-any.whl (150 kB)\n",
            "\u001b[2K   \u001b[90m━━━━━━━━━━━━━━━━━━━━━━━━━━━━━━━━━━━━━━━━\u001b[0m \u001b[32m150.3/150.3 kB\u001b[0m \u001b[31m10.0 MB/s\u001b[0m eta \u001b[36m0:00:00\u001b[0m\n",
            "\u001b[?25hDownloading docker-6.1.3-py3-none-any.whl (148 kB)\n",
            "\u001b[2K   \u001b[90m━━━━━━━━━━━━━━━━━━━━━━━━━━━━━━━━━━━━━━━━\u001b[0m \u001b[32m148.1/148.1 kB\u001b[0m \u001b[31m7.4 MB/s\u001b[0m eta \u001b[36m0:00:00\u001b[0m\n",
            "\u001b[?25hDownloading flask-2.3.3-py3-none-any.whl (96 kB)\n",
            "\u001b[2K   \u001b[90m━━━━━━━━━━━━━━━━━━━━━━━━━━━━━━━━━━━━━━━━\u001b[0m \u001b[32m96.1/96.1 kB\u001b[0m \u001b[31m2.6 MB/s\u001b[0m eta \u001b[36m0:00:00\u001b[0m\n",
            "\u001b[?25hDownloading gunicorn-20.1.0-py3-none-any.whl (79 kB)\n",
            "\u001b[2K   \u001b[90m━━━━━━━━━━━━━━━━━━━━━━━━━━━━━━━━━━━━━━━━\u001b[0m \u001b[32m79.5/79.5 kB\u001b[0m \u001b[31m4.6 MB/s\u001b[0m eta \u001b[36m0:00:00\u001b[0m\n",
            "\u001b[?25hDownloading importlib_metadata-6.11.0-py3-none-any.whl (23 kB)\n",
            "Downloading numpy-1.26.4-cp311-cp311-manylinux_2_17_x86_64.manylinux2014_x86_64.whl (18.3 MB)\n",
            "\u001b[2K   \u001b[90m━━━━━━━━━━━━━━━━━━━━━━━━━━━━━━━━━━━━━━━━\u001b[0m \u001b[32m18.3/18.3 MB\u001b[0m \u001b[31m23.7 MB/s\u001b[0m eta \u001b[36m0:00:00\u001b[0m\n",
            "\u001b[?25hDownloading packaging-23.2-py3-none-any.whl (53 kB)\n",
            "\u001b[2K   \u001b[90m━━━━━━━━━━━━━━━━━━━━━━━━━━━━━━━━━━━━━━━━\u001b[0m \u001b[32m53.0/53.0 kB\u001b[0m \u001b[31m1.7 MB/s\u001b[0m eta \u001b[36m0:00:00\u001b[0m\n",
            "\u001b[?25hDownloading protobuf-4.25.8-cp37-abi3-manylinux2014_x86_64.whl (294 kB)\n",
            "\u001b[2K   \u001b[90m━━━━━━━━━━━━━━━━━━━━━━━━━━━━━━━━━━━━━━━━\u001b[0m \u001b[32m294.9/294.9 kB\u001b[0m \u001b[31m15.6 MB/s\u001b[0m eta \u001b[36m0:00:00\u001b[0m\n",
            "\u001b[?25hDownloading pyarrow-11.0.0-cp311-cp311-manylinux_2_17_x86_64.manylinux2014_x86_64.whl (34.9 MB)\n",
            "\u001b[2K   \u001b[90m━━━━━━━━━━━━━━━━━━━━━━━━━━━━━━━━━━━━━━━━\u001b[0m \u001b[32m34.9/34.9 MB\u001b[0m \u001b[31m14.8 MB/s\u001b[0m eta \u001b[36m0:00:00\u001b[0m\n",
            "\u001b[?25hDownloading pytz-2022.7.1-py2.py3-none-any.whl (499 kB)\n",
            "\u001b[2K   \u001b[90m━━━━━━━━━━━━━━━━━━━━━━━━━━━━━━━━━━━━━━━━\u001b[0m \u001b[32m499.4/499.4 kB\u001b[0m \u001b[31m14.2 MB/s\u001b[0m eta \u001b[36m0:00:00\u001b[0m\n",
            "\u001b[?25hDownloading querystring_parser-1.2.4-py2.py3-none-any.whl (7.9 kB)\n",
            "Installing collected packages: pytz, querystring-parser, protobuf, packaging, numpy, importlib-metadata, gunicorn, cloudpickle, pyarrow, Flask, docker, databricks-cli, alembic, mlflow\n",
            "  Attempting uninstall: pytz\n",
            "    Found existing installation: pytz 2025.2\n",
            "    Uninstalling pytz-2025.2:\n",
            "      Successfully uninstalled pytz-2025.2\n",
            "  Attempting uninstall: protobuf\n",
            "    Found existing installation: protobuf 5.29.5\n",
            "    Uninstalling protobuf-5.29.5:\n",
            "      Successfully uninstalled protobuf-5.29.5\n",
            "  Attempting uninstall: packaging\n",
            "    Found existing installation: packaging 25.0\n",
            "    Uninstalling packaging-25.0:\n",
            "      Successfully uninstalled packaging-25.0\n",
            "  Attempting uninstall: numpy\n",
            "    Found existing installation: numpy 2.0.2\n",
            "    Uninstalling numpy-2.0.2:\n",
            "      Successfully uninstalled numpy-2.0.2\n",
            "  Attempting uninstall: importlib-metadata\n",
            "    Found existing installation: importlib_metadata 8.7.0\n",
            "    Uninstalling importlib_metadata-8.7.0:\n",
            "      Successfully uninstalled importlib_metadata-8.7.0\n",
            "  Attempting uninstall: cloudpickle\n",
            "    Found existing installation: cloudpickle 3.1.1\n",
            "    Uninstalling cloudpickle-3.1.1:\n",
            "      Successfully uninstalled cloudpickle-3.1.1\n",
            "  Attempting uninstall: pyarrow\n",
            "    Found existing installation: pyarrow 18.1.0\n",
            "    Uninstalling pyarrow-18.1.0:\n",
            "      Successfully uninstalled pyarrow-18.1.0\n",
            "  Attempting uninstall: Flask\n",
            "    Found existing installation: Flask 3.1.1\n",
            "    Uninstalling Flask-3.1.1:\n",
            "      Successfully uninstalled Flask-3.1.1\n",
            "\u001b[31mERROR: pip's dependency resolver does not currently take into account all the packages that are installed. This behaviour is the source of the following dependency conflicts.\n",
            "distributed 2025.5.0 requires cloudpickle>=3.0.0, but you have cloudpickle 2.2.1 which is incompatible.\n",
            "opencv-python 4.12.0.88 requires numpy<2.3.0,>=2; python_version >= \"3.9\", but you have numpy 1.26.4 which is incompatible.\n",
            "opencv-python-headless 4.12.0.88 requires numpy<2.3.0,>=2; python_version >= \"3.9\", but you have numpy 1.26.4 which is incompatible.\n",
            "opencv-contrib-python 4.12.0.88 requires numpy<2.3.0,>=2; python_version >= \"3.9\", but you have numpy 1.26.4 which is incompatible.\n",
            "datasets 4.0.0 requires pyarrow>=15.0.0, but you have pyarrow 11.0.0 which is incompatible.\n",
            "ydf 0.13.0 requires protobuf<7.0.0,>=5.29.1, but you have protobuf 4.25.8 which is incompatible.\n",
            "thinc 8.3.6 requires numpy<3.0.0,>=2.0.0, but you have numpy 1.26.4 which is incompatible.\n",
            "xarray 2025.7.1 requires packaging>=24.1, but you have packaging 23.2 which is incompatible.\n",
            "grpcio-status 1.71.2 requires protobuf<6.0dev,>=5.26.1, but you have protobuf 4.25.8 which is incompatible.\n",
            "dask 2025.5.0 requires cloudpickle>=3.0.0, but you have cloudpickle 2.2.1 which is incompatible.\n",
            "google-cloud-bigquery 3.35.1 requires packaging>=24.2.0, but you have packaging 23.2 which is incompatible.\n",
            "pylibcudf-cu12 25.6.0 requires pyarrow<20.0.0a0,>=14.0.0; platform_machine == \"x86_64\", but you have pyarrow 11.0.0 which is incompatible.\n",
            "cudf-cu12 25.6.0 requires pyarrow<20.0.0a0,>=14.0.0; platform_machine == \"x86_64\", but you have pyarrow 11.0.0 which is incompatible.\n",
            "db-dtypes 1.4.3 requires packaging>=24.2.0, but you have packaging 23.2 which is incompatible.\n",
            "db-dtypes 1.4.3 requires pyarrow>=13.0.0, but you have pyarrow 11.0.0 which is incompatible.\n",
            "bigframes 2.12.0 requires pyarrow>=15.0.2, but you have pyarrow 11.0.0 which is incompatible.\u001b[0m\u001b[31m\n",
            "\u001b[0mSuccessfully installed Flask-2.3.3 alembic-1.16.4 cloudpickle-2.2.1 databricks-cli-0.18.0 docker-6.1.3 gunicorn-20.1.0 importlib-metadata-6.11.0 mlflow-2.2.2 numpy-1.26.4 packaging-23.2 protobuf-4.25.8 pyarrow-11.0.0 pytz-2022.7.1 querystring-parser-1.2.4\n"
          ]
        },
        {
          "output_type": "display_data",
          "data": {
            "application/vnd.colab-display-data+json": {
              "pip_warning": {
                "packages": [
                  "google",
                  "importlib_metadata",
                  "numpy",
                  "packaging"
                ]
              },
              "id": "4d35a559ac924c75aba476b5fc7840ed"
            }
          },
          "metadata": {}
        }
      ],
      "source": [
        " !pip install mlflow==2.2.2"
      ]
    },
    {
      "cell_type": "code",
      "source": [
        "from google.colab import drive\n",
        "import pandas as pd\n",
        "\n",
        "drive.mount('/content/drive')\n",
        "\n",
        "train_df = pd.read_csv('/content/drive/MyDrive/ML PROEQTI/clean_train_data.csv')\n",
        "\n",
        "display(train_df.head())"
      ],
      "metadata": {
        "colab": {
          "base_uri": "https://localhost:8080/",
          "height": 348
        },
        "id": "MKQTDm30UYfl",
        "outputId": "379dccf5-2d1c-44f5-976c-82d1b3c9d224"
      },
      "execution_count": 22,
      "outputs": [
        {
          "output_type": "stream",
          "name": "stdout",
          "text": [
            "Drive already mounted at /content/drive; to attempt to forcibly remount, call drive.mount(\"/content/drive\", force_remount=True).\n"
          ]
        },
        {
          "output_type": "display_data",
          "data": {
            "text/plain": [
              "   Store  Dept        Date  Weekly_Sales  IsHoliday Type    Size  Temperature  \\\n",
              "0      1     1  2010-02-05      24924.50          0    A  151315        42.31   \n",
              "1      1     1  2010-02-12      46039.49          1    A  151315        38.51   \n",
              "2      1     1  2010-02-19      41595.55          0    A  151315        39.93   \n",
              "3      1     1  2010-02-26      19403.54          0    A  151315        46.63   \n",
              "4      1     1  2010-03-05      21827.90          0    A  151315        46.50   \n",
              "\n",
              "   Fuel_Price  MarkDown1  ...  MarkDown4  MarkDown5         CPI  Unemployment  \\\n",
              "0       2.572        NaN  ...        NaN        NaN  211.096358         8.106   \n",
              "1       2.548        NaN  ...        NaN        NaN  211.242170         8.106   \n",
              "2       2.514        NaN  ...        NaN        NaN  211.289143         8.106   \n",
              "3       2.561        NaN  ...        NaN        NaN  211.319643         8.106   \n",
              "4       2.625        NaN  ...        NaN        NaN  211.350143         8.106   \n",
              "\n",
              "   Season  Month  Year  Week  Holiday_in_1_week_lag  Weeks_until_next_holiday  \n",
              "0  Winter      2  2010     5                    1.0                         1  \n",
              "1  Winter      2  2010     6                    0.0                        30  \n",
              "2  Winter      2  2010     7                    0.0                        29  \n",
              "3  Winter      2  2010     8                    0.0                        28  \n",
              "4  Spring      3  2010     9                    0.0                        27  \n",
              "\n",
              "[5 rows x 22 columns]"
            ],
            "text/html": [
              "\n",
              "  <div id=\"df-dc6cc8d1-dc55-4b2f-ad99-4986043abf3f\" class=\"colab-df-container\">\n",
              "    <div>\n",
              "<style scoped>\n",
              "    .dataframe tbody tr th:only-of-type {\n",
              "        vertical-align: middle;\n",
              "    }\n",
              "\n",
              "    .dataframe tbody tr th {\n",
              "        vertical-align: top;\n",
              "    }\n",
              "\n",
              "    .dataframe thead th {\n",
              "        text-align: right;\n",
              "    }\n",
              "</style>\n",
              "<table border=\"1\" class=\"dataframe\">\n",
              "  <thead>\n",
              "    <tr style=\"text-align: right;\">\n",
              "      <th></th>\n",
              "      <th>Store</th>\n",
              "      <th>Dept</th>\n",
              "      <th>Date</th>\n",
              "      <th>Weekly_Sales</th>\n",
              "      <th>IsHoliday</th>\n",
              "      <th>Type</th>\n",
              "      <th>Size</th>\n",
              "      <th>Temperature</th>\n",
              "      <th>Fuel_Price</th>\n",
              "      <th>MarkDown1</th>\n",
              "      <th>...</th>\n",
              "      <th>MarkDown4</th>\n",
              "      <th>MarkDown5</th>\n",
              "      <th>CPI</th>\n",
              "      <th>Unemployment</th>\n",
              "      <th>Season</th>\n",
              "      <th>Month</th>\n",
              "      <th>Year</th>\n",
              "      <th>Week</th>\n",
              "      <th>Holiday_in_1_week_lag</th>\n",
              "      <th>Weeks_until_next_holiday</th>\n",
              "    </tr>\n",
              "  </thead>\n",
              "  <tbody>\n",
              "    <tr>\n",
              "      <th>0</th>\n",
              "      <td>1</td>\n",
              "      <td>1</td>\n",
              "      <td>2010-02-05</td>\n",
              "      <td>24924.50</td>\n",
              "      <td>0</td>\n",
              "      <td>A</td>\n",
              "      <td>151315</td>\n",
              "      <td>42.31</td>\n",
              "      <td>2.572</td>\n",
              "      <td>NaN</td>\n",
              "      <td>...</td>\n",
              "      <td>NaN</td>\n",
              "      <td>NaN</td>\n",
              "      <td>211.096358</td>\n",
              "      <td>8.106</td>\n",
              "      <td>Winter</td>\n",
              "      <td>2</td>\n",
              "      <td>2010</td>\n",
              "      <td>5</td>\n",
              "      <td>1.0</td>\n",
              "      <td>1</td>\n",
              "    </tr>\n",
              "    <tr>\n",
              "      <th>1</th>\n",
              "      <td>1</td>\n",
              "      <td>1</td>\n",
              "      <td>2010-02-12</td>\n",
              "      <td>46039.49</td>\n",
              "      <td>1</td>\n",
              "      <td>A</td>\n",
              "      <td>151315</td>\n",
              "      <td>38.51</td>\n",
              "      <td>2.548</td>\n",
              "      <td>NaN</td>\n",
              "      <td>...</td>\n",
              "      <td>NaN</td>\n",
              "      <td>NaN</td>\n",
              "      <td>211.242170</td>\n",
              "      <td>8.106</td>\n",
              "      <td>Winter</td>\n",
              "      <td>2</td>\n",
              "      <td>2010</td>\n",
              "      <td>6</td>\n",
              "      <td>0.0</td>\n",
              "      <td>30</td>\n",
              "    </tr>\n",
              "    <tr>\n",
              "      <th>2</th>\n",
              "      <td>1</td>\n",
              "      <td>1</td>\n",
              "      <td>2010-02-19</td>\n",
              "      <td>41595.55</td>\n",
              "      <td>0</td>\n",
              "      <td>A</td>\n",
              "      <td>151315</td>\n",
              "      <td>39.93</td>\n",
              "      <td>2.514</td>\n",
              "      <td>NaN</td>\n",
              "      <td>...</td>\n",
              "      <td>NaN</td>\n",
              "      <td>NaN</td>\n",
              "      <td>211.289143</td>\n",
              "      <td>8.106</td>\n",
              "      <td>Winter</td>\n",
              "      <td>2</td>\n",
              "      <td>2010</td>\n",
              "      <td>7</td>\n",
              "      <td>0.0</td>\n",
              "      <td>29</td>\n",
              "    </tr>\n",
              "    <tr>\n",
              "      <th>3</th>\n",
              "      <td>1</td>\n",
              "      <td>1</td>\n",
              "      <td>2010-02-26</td>\n",
              "      <td>19403.54</td>\n",
              "      <td>0</td>\n",
              "      <td>A</td>\n",
              "      <td>151315</td>\n",
              "      <td>46.63</td>\n",
              "      <td>2.561</td>\n",
              "      <td>NaN</td>\n",
              "      <td>...</td>\n",
              "      <td>NaN</td>\n",
              "      <td>NaN</td>\n",
              "      <td>211.319643</td>\n",
              "      <td>8.106</td>\n",
              "      <td>Winter</td>\n",
              "      <td>2</td>\n",
              "      <td>2010</td>\n",
              "      <td>8</td>\n",
              "      <td>0.0</td>\n",
              "      <td>28</td>\n",
              "    </tr>\n",
              "    <tr>\n",
              "      <th>4</th>\n",
              "      <td>1</td>\n",
              "      <td>1</td>\n",
              "      <td>2010-03-05</td>\n",
              "      <td>21827.90</td>\n",
              "      <td>0</td>\n",
              "      <td>A</td>\n",
              "      <td>151315</td>\n",
              "      <td>46.50</td>\n",
              "      <td>2.625</td>\n",
              "      <td>NaN</td>\n",
              "      <td>...</td>\n",
              "      <td>NaN</td>\n",
              "      <td>NaN</td>\n",
              "      <td>211.350143</td>\n",
              "      <td>8.106</td>\n",
              "      <td>Spring</td>\n",
              "      <td>3</td>\n",
              "      <td>2010</td>\n",
              "      <td>9</td>\n",
              "      <td>0.0</td>\n",
              "      <td>27</td>\n",
              "    </tr>\n",
              "  </tbody>\n",
              "</table>\n",
              "<p>5 rows × 22 columns</p>\n",
              "</div>\n",
              "    <div class=\"colab-df-buttons\">\n",
              "\n",
              "  <div class=\"colab-df-container\">\n",
              "    <button class=\"colab-df-convert\" onclick=\"convertToInteractive('df-dc6cc8d1-dc55-4b2f-ad99-4986043abf3f')\"\n",
              "            title=\"Convert this dataframe to an interactive table.\"\n",
              "            style=\"display:none;\">\n",
              "\n",
              "  <svg xmlns=\"http://www.w3.org/2000/svg\" height=\"24px\" viewBox=\"0 -960 960 960\">\n",
              "    <path d=\"M120-120v-720h720v720H120Zm60-500h600v-160H180v160Zm220 220h160v-160H400v160Zm0 220h160v-160H400v160ZM180-400h160v-160H180v160Zm440 0h160v-160H620v160ZM180-180h160v-160H180v160Zm440 0h160v-160H620v160Z\"/>\n",
              "  </svg>\n",
              "    </button>\n",
              "\n",
              "  <style>\n",
              "    .colab-df-container {\n",
              "      display:flex;\n",
              "      gap: 12px;\n",
              "    }\n",
              "\n",
              "    .colab-df-convert {\n",
              "      background-color: #E8F0FE;\n",
              "      border: none;\n",
              "      border-radius: 50%;\n",
              "      cursor: pointer;\n",
              "      display: none;\n",
              "      fill: #1967D2;\n",
              "      height: 32px;\n",
              "      padding: 0 0 0 0;\n",
              "      width: 32px;\n",
              "    }\n",
              "\n",
              "    .colab-df-convert:hover {\n",
              "      background-color: #E2EBFA;\n",
              "      box-shadow: 0px 1px 2px rgba(60, 64, 67, 0.3), 0px 1px 3px 1px rgba(60, 64, 67, 0.15);\n",
              "      fill: #174EA6;\n",
              "    }\n",
              "\n",
              "    .colab-df-buttons div {\n",
              "      margin-bottom: 4px;\n",
              "    }\n",
              "\n",
              "    [theme=dark] .colab-df-convert {\n",
              "      background-color: #3B4455;\n",
              "      fill: #D2E3FC;\n",
              "    }\n",
              "\n",
              "    [theme=dark] .colab-df-convert:hover {\n",
              "      background-color: #434B5C;\n",
              "      box-shadow: 0px 1px 3px 1px rgba(0, 0, 0, 0.15);\n",
              "      filter: drop-shadow(0px 1px 2px rgba(0, 0, 0, 0.3));\n",
              "      fill: #FFFFFF;\n",
              "    }\n",
              "  </style>\n",
              "\n",
              "    <script>\n",
              "      const buttonEl =\n",
              "        document.querySelector('#df-dc6cc8d1-dc55-4b2f-ad99-4986043abf3f button.colab-df-convert');\n",
              "      buttonEl.style.display =\n",
              "        google.colab.kernel.accessAllowed ? 'block' : 'none';\n",
              "\n",
              "      async function convertToInteractive(key) {\n",
              "        const element = document.querySelector('#df-dc6cc8d1-dc55-4b2f-ad99-4986043abf3f');\n",
              "        const dataTable =\n",
              "          await google.colab.kernel.invokeFunction('convertToInteractive',\n",
              "                                                    [key], {});\n",
              "        if (!dataTable) return;\n",
              "\n",
              "        const docLinkHtml = 'Like what you see? Visit the ' +\n",
              "          '<a target=\"_blank\" href=https://colab.research.google.com/notebooks/data_table.ipynb>data table notebook</a>'\n",
              "          + ' to learn more about interactive tables.';\n",
              "        element.innerHTML = '';\n",
              "        dataTable['output_type'] = 'display_data';\n",
              "        await google.colab.output.renderOutput(dataTable, element);\n",
              "        const docLink = document.createElement('div');\n",
              "        docLink.innerHTML = docLinkHtml;\n",
              "        element.appendChild(docLink);\n",
              "      }\n",
              "    </script>\n",
              "  </div>\n",
              "\n",
              "\n",
              "    <div id=\"df-fdd3f2e7-675f-4a27-aa34-65c569a400af\">\n",
              "      <button class=\"colab-df-quickchart\" onclick=\"quickchart('df-fdd3f2e7-675f-4a27-aa34-65c569a400af')\"\n",
              "                title=\"Suggest charts\"\n",
              "                style=\"display:none;\">\n",
              "\n",
              "<svg xmlns=\"http://www.w3.org/2000/svg\" height=\"24px\"viewBox=\"0 0 24 24\"\n",
              "     width=\"24px\">\n",
              "    <g>\n",
              "        <path d=\"M19 3H5c-1.1 0-2 .9-2 2v14c0 1.1.9 2 2 2h14c1.1 0 2-.9 2-2V5c0-1.1-.9-2-2-2zM9 17H7v-7h2v7zm4 0h-2V7h2v10zm4 0h-2v-4h2v4z\"/>\n",
              "    </g>\n",
              "</svg>\n",
              "      </button>\n",
              "\n",
              "<style>\n",
              "  .colab-df-quickchart {\n",
              "      --bg-color: #E8F0FE;\n",
              "      --fill-color: #1967D2;\n",
              "      --hover-bg-color: #E2EBFA;\n",
              "      --hover-fill-color: #174EA6;\n",
              "      --disabled-fill-color: #AAA;\n",
              "      --disabled-bg-color: #DDD;\n",
              "  }\n",
              "\n",
              "  [theme=dark] .colab-df-quickchart {\n",
              "      --bg-color: #3B4455;\n",
              "      --fill-color: #D2E3FC;\n",
              "      --hover-bg-color: #434B5C;\n",
              "      --hover-fill-color: #FFFFFF;\n",
              "      --disabled-bg-color: #3B4455;\n",
              "      --disabled-fill-color: #666;\n",
              "  }\n",
              "\n",
              "  .colab-df-quickchart {\n",
              "    background-color: var(--bg-color);\n",
              "    border: none;\n",
              "    border-radius: 50%;\n",
              "    cursor: pointer;\n",
              "    display: none;\n",
              "    fill: var(--fill-color);\n",
              "    height: 32px;\n",
              "    padding: 0;\n",
              "    width: 32px;\n",
              "  }\n",
              "\n",
              "  .colab-df-quickchart:hover {\n",
              "    background-color: var(--hover-bg-color);\n",
              "    box-shadow: 0 1px 2px rgba(60, 64, 67, 0.3), 0 1px 3px 1px rgba(60, 64, 67, 0.15);\n",
              "    fill: var(--button-hover-fill-color);\n",
              "  }\n",
              "\n",
              "  .colab-df-quickchart-complete:disabled,\n",
              "  .colab-df-quickchart-complete:disabled:hover {\n",
              "    background-color: var(--disabled-bg-color);\n",
              "    fill: var(--disabled-fill-color);\n",
              "    box-shadow: none;\n",
              "  }\n",
              "\n",
              "  .colab-df-spinner {\n",
              "    border: 2px solid var(--fill-color);\n",
              "    border-color: transparent;\n",
              "    border-bottom-color: var(--fill-color);\n",
              "    animation:\n",
              "      spin 1s steps(1) infinite;\n",
              "  }\n",
              "\n",
              "  @keyframes spin {\n",
              "    0% {\n",
              "      border-color: transparent;\n",
              "      border-bottom-color: var(--fill-color);\n",
              "      border-left-color: var(--fill-color);\n",
              "    }\n",
              "    20% {\n",
              "      border-color: transparent;\n",
              "      border-left-color: var(--fill-color);\n",
              "      border-top-color: var(--fill-color);\n",
              "    }\n",
              "    30% {\n",
              "      border-color: transparent;\n",
              "      border-left-color: var(--fill-color);\n",
              "      border-top-color: var(--fill-color);\n",
              "      border-right-color: var(--fill-color);\n",
              "    }\n",
              "    40% {\n",
              "      border-color: transparent;\n",
              "      border-right-color: var(--fill-color);\n",
              "      border-top-color: var(--fill-color);\n",
              "    }\n",
              "    60% {\n",
              "      border-color: transparent;\n",
              "      border-right-color: var(--fill-color);\n",
              "    }\n",
              "    80% {\n",
              "      border-color: transparent;\n",
              "      border-right-color: var(--fill-color);\n",
              "      border-bottom-color: var(--fill-color);\n",
              "    }\n",
              "    90% {\n",
              "      border-color: transparent;\n",
              "      border-bottom-color: var(--fill-color);\n",
              "    }\n",
              "  }\n",
              "</style>\n",
              "\n",
              "      <script>\n",
              "        async function quickchart(key) {\n",
              "          const quickchartButtonEl =\n",
              "            document.querySelector('#' + key + ' button');\n",
              "          quickchartButtonEl.disabled = true;  // To prevent multiple clicks.\n",
              "          quickchartButtonEl.classList.add('colab-df-spinner');\n",
              "          try {\n",
              "            const charts = await google.colab.kernel.invokeFunction(\n",
              "                'suggestCharts', [key], {});\n",
              "          } catch (error) {\n",
              "            console.error('Error during call to suggestCharts:', error);\n",
              "          }\n",
              "          quickchartButtonEl.classList.remove('colab-df-spinner');\n",
              "          quickchartButtonEl.classList.add('colab-df-quickchart-complete');\n",
              "        }\n",
              "        (() => {\n",
              "          let quickchartButtonEl =\n",
              "            document.querySelector('#df-fdd3f2e7-675f-4a27-aa34-65c569a400af button');\n",
              "          quickchartButtonEl.style.display =\n",
              "            google.colab.kernel.accessAllowed ? 'block' : 'none';\n",
              "        })();\n",
              "      </script>\n",
              "    </div>\n",
              "\n",
              "    </div>\n",
              "  </div>\n"
            ],
            "application/vnd.google.colaboratory.intrinsic+json": {
              "type": "dataframe"
            }
          },
          "metadata": {}
        }
      ]
    },
    {
      "cell_type": "code",
      "source": [
        "train_df['Date'] = pd.to_datetime(train_df['Date'])"
      ],
      "metadata": {
        "id": "31g28L-OVApA"
      },
      "execution_count": 23,
      "outputs": []
    },
    {
      "cell_type": "code",
      "source": [
        "import pandas as pd\n",
        "import numpy as np\n",
        "import torch\n",
        "import torch.nn as nn\n",
        "import torch.optim as optim\n",
        "from torch.utils.data import DataLoader, TensorDataset\n",
        "from sklearn.preprocessing import StandardScaler, LabelEncoder\n",
        "import wandb\n",
        "import matplotlib.pyplot as plt\n",
        "import joblib"
      ],
      "metadata": {
        "id": "R2REEdTVUnvR"
      },
      "execution_count": 24,
      "outputs": []
    },
    {
      "cell_type": "code",
      "source": [],
      "metadata": {
        "colab": {
          "base_uri": "https://localhost:8080/",
          "height": 217
        },
        "id": "wY2OOZX6tDoz",
        "outputId": "5b9328c9-8141-42db-c986-08fa553c9f94"
      },
      "execution_count": 41,
      "outputs": [
        {
          "output_type": "error",
          "ename": "NameError",
          "evalue": "name 'sample_ts' is not defined",
          "traceback": [
            "\u001b[0;31m---------------------------------------------------------------------------\u001b[0m",
            "\u001b[0;31mNameError\u001b[0m                                 Traceback (most recent call last)",
            "\u001b[0;32m/tmp/ipython-input-1504445169.py\u001b[0m in \u001b[0;36m<cell line: 0>\u001b[0;34m()\u001b[0m\n\u001b[1;32m      1\u001b[0m \u001b[0;31m# Original Time Series\u001b[0m\u001b[0;34m\u001b[0m\u001b[0;34m\u001b[0m\u001b[0m\n\u001b[1;32m      2\u001b[0m \u001b[0mplt\u001b[0m\u001b[0;34m.\u001b[0m\u001b[0mfigure\u001b[0m\u001b[0;34m(\u001b[0m\u001b[0mfigsize\u001b[0m\u001b[0;34m=\u001b[0m\u001b[0;34m(\u001b[0m\u001b[0;36m10\u001b[0m\u001b[0;34m,\u001b[0m \u001b[0;36m5\u001b[0m\u001b[0;34m)\u001b[0m\u001b[0;34m)\u001b[0m\u001b[0;34m\u001b[0m\u001b[0;34m\u001b[0m\u001b[0m\n\u001b[0;32m----> 3\u001b[0;31m \u001b[0mplt\u001b[0m\u001b[0;34m.\u001b[0m\u001b[0mplot\u001b[0m\u001b[0;34m(\u001b[0m\u001b[0mrange\u001b[0m\u001b[0;34m(\u001b[0m\u001b[0mlen\u001b[0m\u001b[0;34m(\u001b[0m\u001b[0msample_ts\u001b[0m\u001b[0;34m)\u001b[0m\u001b[0;34m)\u001b[0m\u001b[0;34m,\u001b[0m \u001b[0msample_ts\u001b[0m\u001b[0;34m,\u001b[0m \u001b[0mlabel\u001b[0m\u001b[0;34m=\u001b[0m\u001b[0;34m'Original Time Series'\u001b[0m\u001b[0;34m,\u001b[0m \u001b[0mmarker\u001b[0m\u001b[0;34m=\u001b[0m\u001b[0;34m'o'\u001b[0m\u001b[0;34m)\u001b[0m\u001b[0;34m\u001b[0m\u001b[0;34m\u001b[0m\u001b[0m\n\u001b[0m\u001b[1;32m      4\u001b[0m \u001b[0mplt\u001b[0m\u001b[0;34m.\u001b[0m\u001b[0mtitle\u001b[0m\u001b[0;34m(\u001b[0m\u001b[0;34m'Original Weekly Sales Time Series'\u001b[0m\u001b[0;34m)\u001b[0m\u001b[0;34m\u001b[0m\u001b[0;34m\u001b[0m\u001b[0m\n\u001b[1;32m      5\u001b[0m \u001b[0mplt\u001b[0m\u001b[0;34m.\u001b[0m\u001b[0mxlabel\u001b[0m\u001b[0;34m(\u001b[0m\u001b[0;34m'Week Index'\u001b[0m\u001b[0;34m)\u001b[0m\u001b[0;34m\u001b[0m\u001b[0;34m\u001b[0m\u001b[0m\n",
            "\u001b[0;31mNameError\u001b[0m: name 'sample_ts' is not defined"
          ]
        },
        {
          "output_type": "display_data",
          "data": {
            "text/plain": [
              "<Figure size 1000x500 with 0 Axes>"
            ]
          },
          "metadata": {}
        }
      ]
    },
    {
      "cell_type": "code",
      "source": [
        "# Select a sample time series\n",
        "sample_ts = train_df[(train_df['Store'] == 1) & (train_df['Dept'] == 16)]['Weekly_Sales'].values\n",
        "\n",
        "# Define patch parameters from the best model\n",
        "patch_len = 8\n",
        "stride = 8\n",
        "\n",
        "# Original Time Series\n",
        "plt.figure(figsize=(10, 5))\n",
        "plt.plot(range(len(sample_ts)), sample_ts, label='Original Time Series', marker='o')\n",
        "plt.title('Original Weekly Sales Time Series')\n",
        "plt.xlabel('Week Index')\n",
        "plt.ylabel('Weekly Sales')\n",
        "\n",
        "# Show Patches\n",
        "for i in range(0, len(sample_ts) - patch_len + 1, stride):\n",
        "    plt.axvspan(i, i + patch_len - 1, color='red', alpha=0.2, label=f'Patch {i//stride + 1}' if i == 0 else \"\")\n",
        "\n",
        "plt.legend()\n",
        "plt.show()"
      ],
      "metadata": {
        "colab": {
          "base_uri": "https://localhost:8080/",
          "height": 487
        },
        "id": "0nX0WahhtOnj",
        "outputId": "5d75c643-75ec-4017-890d-d2e0947f812a"
      },
      "execution_count": 42,
      "outputs": [
        {
          "output_type": "display_data",
          "data": {
            "text/plain": [
              "<Figure size 1000x500 with 1 Axes>"
            ],
            "image/png": "[encoded data removed]"
          },
          "metadata": {}
        }
      ]
    },
    {
      "cell_type": "code",
      "source": [
        "print(train_df.columns)"
      ],
      "metadata": {
        "colab": {
          "base_uri": "https://localhost:8080/"
        },
        "id": "hWYrYK9IV6vA",
        "outputId": "0ede27dc-b7eb-421e-a2e9-2047d85c61a2"
      },
      "execution_count": 25,
      "outputs": [
        {
          "output_type": "stream",
          "name": "stdout",
          "text": [
            "Index(['Store', 'Dept', 'Date', 'Weekly_Sales', 'IsHoliday', 'Type', 'Size',\n",
            "       'Temperature', 'Fuel_Price', 'MarkDown1', 'MarkDown2', 'MarkDown3',\n",
            "       'MarkDown4', 'MarkDown5', 'CPI', 'Unemployment', 'Season', 'Month',\n",
            "       'Year', 'Week', 'Holiday_in_1_week_lag', 'Weeks_until_next_holiday'],\n",
            "      dtype='object')\n"
          ]
        }
      ]
    },
    {
      "cell_type": "code",
      "source": [
        "# Check for NaN values\n",
        "if train_df.isna().any().any():\n",
        "    train_df = train_df.fillna(0)"
      ],
      "metadata": {
        "id": "kcZCUt7knCXa"
      },
      "execution_count": 26,
      "outputs": []
    },
    {
      "cell_type": "code",
      "source": [
        "# Sample 10% of store-dept pairs for faster training\n",
        "sample_groups = train_df.groupby(['Store', 'Dept']).size().reset_index().sample(frac=0.1, random_state=42)\n",
        "train_df = train_df.merge(sample_groups[['Store', 'Dept']], on=['Store', 'Dept'])"
      ],
      "metadata": {
        "id": "32vBEQYUSuix"
      },
      "execution_count": 27,
      "outputs": []
    },
    {
      "cell_type": "code",
      "source": [
        "display(train_df.head())"
      ],
      "metadata": {
        "colab": {
          "base_uri": "https://localhost:8080/",
          "height": 331
        },
        "id": "Xg_2qK2JTSmG",
        "outputId": "d9290b21-8913-443d-cab9-b535911edc5a"
      },
      "execution_count": 28,
      "outputs": [
        {
          "output_type": "display_data",
          "data": {
            "text/plain": [
              "   Store  Dept       Date  Weekly_Sales  IsHoliday Type    Size  Temperature  \\\n",
              "0      1    16 2010-02-05      10217.55          0    A  151315        42.31   \n",
              "1      1    16 2010-02-12      11873.89          1    A  151315        38.51   \n",
              "2      1    16 2010-02-19      13855.54          0    A  151315        39.93   \n",
              "3      1    16 2010-02-26      12881.02          0    A  151315        46.63   \n",
              "4      1    16 2010-03-05      17129.81          0    A  151315        46.50   \n",
              "\n",
              "   Fuel_Price  MarkDown1  ...  MarkDown4  MarkDown5         CPI  Unemployment  \\\n",
              "0       2.572        0.0  ...        0.0        0.0  211.096358         8.106   \n",
              "1       2.548        0.0  ...        0.0        0.0  211.242170         8.106   \n",
              "2       2.514        0.0  ...        0.0        0.0  211.289143         8.106   \n",
              "3       2.561        0.0  ...        0.0        0.0  211.319643         8.106   \n",
              "4       2.625        0.0  ...        0.0        0.0  211.350143         8.106   \n",
              "\n",
              "   Season  Month  Year  Week  Holiday_in_1_week_lag  Weeks_until_next_holiday  \n",
              "0  Winter      2  2010     5                    1.0                         1  \n",
              "1  Winter      2  2010     6                    0.0                        30  \n",
              "2  Winter      2  2010     7                    0.0                        29  \n",
              "3  Winter      2  2010     8                    0.0                        28  \n",
              "4  Spring      3  2010     9                    0.0                        27  \n",
              "\n",
              "[5 rows x 22 columns]"
            ],
            "text/html": [
              "\n",
              "  <div id=\"df-d02ea3a4-1564-40f3-ae46-0c730a0db376\" class=\"colab-df-container\">\n",
              "    <div>\n",
              "<style scoped>\n",
              "    .dataframe tbody tr th:only-of-type {\n",
              "        vertical-align: middle;\n",
              "    }\n",
              "\n",
              "    .dataframe tbody tr th {\n",
              "        vertical-align: top;\n",
              "    }\n",
              "\n",
              "    .dataframe thead th {\n",
              "        text-align: right;\n",
              "    }\n",
              "</style>\n",
              "<table border=\"1\" class=\"dataframe\">\n",
              "  <thead>\n",
              "    <tr style=\"text-align: right;\">\n",
              "      <th></th>\n",
              "      <th>Store</th>\n",
              "      <th>Dept</th>\n",
              "      <th>Date</th>\n",
              "      <th>Weekly_Sales</th>\n",
              "      <th>IsHoliday</th>\n",
              "      <th>Type</th>\n",
              "      <th>Size</th>\n",
              "      <th>Temperature</th>\n",
              "      <th>Fuel_Price</th>\n",
              "      <th>MarkDown1</th>\n",
              "      <th>...</th>\n",
              "      <th>MarkDown4</th>\n",
              "      <th>MarkDown5</th>\n",
              "      <th>CPI</th>\n",
              "      <th>Unemployment</th>\n",
              "      <th>Season</th>\n",
              "      <th>Month</th>\n",
              "      <th>Year</th>\n",
              "      <th>Week</th>\n",
              "      <th>Holiday_in_1_week_lag</th>\n",
              "      <th>Weeks_until_next_holiday</th>\n",
              "    </tr>\n",
              "  </thead>\n",
              "  <tbody>\n",
              "    <tr>\n",
              "      <th>0</th>\n",
              "      <td>1</td>\n",
              "      <td>16</td>\n",
              "      <td>2010-02-05</td>\n",
              "      <td>10217.55</td>\n",
              "      <td>0</td>\n",
              "      <td>A</td>\n",
              "      <td>151315</td>\n",
              "      <td>42.31</td>\n",
              "      <td>2.572</td>\n",
              "      <td>0.0</td>\n",
              "      <td>...</td>\n",
              "      <td>0.0</td>\n",
              "      <td>0.0</td>\n",
              "      <td>211.096358</td>\n",
              "      <td>8.106</td>\n",
              "      <td>Winter</td>\n",
              "      <td>2</td>\n",
              "      <td>2010</td>\n",
              "      <td>5</td>\n",
              "      <td>1.0</td>\n",
              "      <td>1</td>\n",
              "    </tr>\n",
              "    <tr>\n",
              "      <th>1</th>\n",
              "      <td>1</td>\n",
              "      <td>16</td>\n",
              "      <td>2010-02-12</td>\n",
              "      <td>11873.89</td>\n",
              "      <td>1</td>\n",
              "      <td>A</td>\n",
              "      <td>151315</td>\n",
              "      <td>38.51</td>\n",
              "      <td>2.548</td>\n",
              "      <td>0.0</td>\n",
              "      <td>...</td>\n",
              "      <td>0.0</td>\n",
              "      <td>0.0</td>\n",
              "      <td>211.242170</td>\n",
              "      <td>8.106</td>\n",
              "      <td>Winter</td>\n",
              "      <td>2</td>\n",
              "      <td>2010</td>\n",
              "      <td>6</td>\n",
              "      <td>0.0</td>\n",
              "      <td>30</td>\n",
              "    </tr>\n",
              "    <tr>\n",
              "      <th>2</th>\n",
              "      <td>1</td>\n",
              "      <td>16</td>\n",
              "      <td>2010-02-19</td>\n",
              "      <td>13855.54</td>\n",
              "      <td>0</td>\n",
              "      <td>A</td>\n",
              "      <td>151315</td>\n",
              "      <td>39.93</td>\n",
              "      <td>2.514</td>\n",
              "      <td>0.0</td>\n",
              "      <td>...</td>\n",
              "      <td>0.0</td>\n",
              "      <td>0.0</td>\n",
              "      <td>211.289143</td>\n",
              "      <td>8.106</td>\n",
              "      <td>Winter</td>\n",
              "      <td>2</td>\n",
              "      <td>2010</td>\n",
              "      <td>7</td>\n",
              "      <td>0.0</td>\n",
              "      <td>29</td>\n",
              "    </tr>\n",
              "    <tr>\n",
              "      <th>3</th>\n",
              "      <td>1</td>\n",
              "      <td>16</td>\n",
              "      <td>2010-02-26</td>\n",
              "      <td>12881.02</td>\n",
              "      <td>0</td>\n",
              "      <td>A</td>\n",
              "      <td>151315</td>\n",
              "      <td>46.63</td>\n",
              "      <td>2.561</td>\n",
              "      <td>0.0</td>\n",
              "      <td>...</td>\n",
              "      <td>0.0</td>\n",
              "      <td>0.0</td>\n",
              "      <td>211.319643</td>\n",
              "      <td>8.106</td>\n",
              "      <td>Winter</td>\n",
              "      <td>2</td>\n",
              "      <td>2010</td>\n",
              "      <td>8</td>\n",
              "      <td>0.0</td>\n",
              "      <td>28</td>\n",
              "    </tr>\n",
              "    <tr>\n",
              "      <th>4</th>\n",
              "      <td>1</td>\n",
              "      <td>16</td>\n",
              "      <td>2010-03-05</td>\n",
              "      <td>17129.81</td>\n",
              "      <td>0</td>\n",
              "      <td>A</td>\n",
              "      <td>151315</td>\n",
              "      <td>46.50</td>\n",
              "      <td>2.625</td>\n",
              "      <td>0.0</td>\n",
              "      <td>...</td>\n",
              "      <td>0.0</td>\n",
              "      <td>0.0</td>\n",
              "      <td>211.350143</td>\n",
              "      <td>8.106</td>\n",
              "      <td>Spring</td>\n",
              "      <td>3</td>\n",
              "      <td>2010</td>\n",
              "      <td>9</td>\n",
              "      <td>0.0</td>\n",
              "      <td>27</td>\n",
              "    </tr>\n",
              "  </tbody>\n",
              "</table>\n",
              "<p>5 rows × 22 columns</p>\n",
              "</div>\n",
              "    <div class=\"colab-df-buttons\">\n",
              "\n",
              "  <div class=\"colab-df-container\">\n",
              "    <button class=\"colab-df-convert\" onclick=\"convertToInteractive('df-d02ea3a4-1564-40f3-ae46-0c730a0db376')\"\n",
              "            title=\"Convert this dataframe to an interactive table.\"\n",
              "            style=\"display:none;\">\n",
              "\n",
              "  <svg xmlns=\"http://www.w3.org/2000/svg\" height=\"24px\" viewBox=\"0 -960 960 960\">\n",
              "    <path d=\"M120-120v-720h720v720H120Zm60-500h600v-160H180v160Zm220 220h160v-160H400v160Zm0 220h160v-160H400v160ZM180-400h160v-160H180v160Zm440 0h160v-160H620v160ZM180-180h160v-160H180v160Zm440 0h160v-160H620v160Z\"/>\n",
              "  </svg>\n",
              "    </button>\n",
              "\n",
              "  <style>\n",
              "    .colab-df-container {\n",
              "      display:flex;\n",
              "      gap: 12px;\n",
              "    }\n",
              "\n",
              "    .colab-df-convert {\n",
              "      background-color: #E8F0FE;\n",
              "      border: none;\n",
              "      border-radius: 50%;\n",
              "      cursor: pointer;\n",
              "      display: none;\n",
              "      fill: #1967D2;\n",
              "      height: 32px;\n",
              "      padding: 0 0 0 0;\n",
              "      width: 32px;\n",
              "    }\n",
              "\n",
              "    .colab-df-convert:hover {\n",
              "      background-color: #E2EBFA;\n",
              "      box-shadow: 0px 1px 2px rgba(60, 64, 67, 0.3), 0px 1px 3px 1px rgba(60, 64, 67, 0.15);\n",
              "      fill: #174EA6;\n",
              "    }\n",
              "\n",
              "    .colab-df-buttons div {\n",
              "      margin-bottom: 4px;\n",
              "    }\n",
              "\n",
              "    [theme=dark] .colab-df-convert {\n",
              "      background-color: #3B4455;\n",
              "      fill: #D2E3FC;\n",
              "    }\n",
              "\n",
              "    [theme=dark] .colab-df-convert:hover {\n",
              "      background-color: #434B5C;\n",
              "      box-shadow: 0px 1px 3px 1px rgba(0, 0, 0, 0.15);\n",
              "      filter: drop-shadow(0px 1px 2px rgba(0, 0, 0, 0.3));\n",
              "      fill: #FFFFFF;\n",
              "    }\n",
              "  </style>\n",
              "\n",
              "    <script>\n",
              "      const buttonEl =\n",
              "        document.querySelector('#df-d02ea3a4-1564-40f3-ae46-0c730a0db376 button.colab-df-convert');\n",
              "      buttonEl.style.display =\n",
              "        google.colab.kernel.accessAllowed ? 'block' : 'none';\n",
              "\n",
              "      async function convertToInteractive(key) {\n",
              "        const element = document.querySelector('#df-d02ea3a4-1564-40f3-ae46-0c730a0db376');\n",
              "        const dataTable =\n",
              "          await google.colab.kernel.invokeFunction('convertToInteractive',\n",
              "                                                    [key], {});\n",
              "        if (!dataTable) return;\n",
              "\n",
              "        const docLinkHtml = 'Like what you see? Visit the ' +\n",
              "          '<a target=\"_blank\" href=https://colab.research.google.com/notebooks/data_table.ipynb>data table notebook</a>'\n",
              "          + ' to learn more about interactive tables.';\n",
              "        element.innerHTML = '';\n",
              "        dataTable['output_type'] = 'display_data';\n",
              "        await google.colab.output.renderOutput(dataTable, element);\n",
              "        const docLink = document.createElement('div');\n",
              "        docLink.innerHTML = docLinkHtml;\n",
              "        element.appendChild(docLink);\n",
              "      }\n",
              "    </script>\n",
              "  </div>\n",
              "\n",
              "\n",
              "    <div id=\"df-91a08c0c-efad-47bb-89f3-7b9a6839af61\">\n",
              "      <button class=\"colab-df-quickchart\" onclick=\"quickchart('df-91a08c0c-efad-47bb-89f3-7b9a6839af61')\"\n",
              "                title=\"Suggest charts\"\n",
              "                style=\"display:none;\">\n",
              "\n",
              "<svg xmlns=\"http://www.w3.org/2000/svg\" height=\"24px\"viewBox=\"0 0 24 24\"\n",
              "     width=\"24px\">\n",
              "    <g>\n",
              "        <path d=\"M19 3H5c-1.1 0-2 .9-2 2v14c0 1.1.9 2 2 2h14c1.1 0 2-.9 2-2V5c0-1.1-.9-2-2-2zM9 17H7v-7h2v7zm4 0h-2V7h2v10zm4 0h-2v-4h2v4z\"/>\n",
              "    </g>\n",
              "</svg>\n",
              "      </button>\n",
              "\n",
              "<style>\n",
              "  .colab-df-quickchart {\n",
              "      --bg-color: #E8F0FE;\n",
              "      --fill-color: #1967D2;\n",
              "      --hover-bg-color: #E2EBFA;\n",
              "      --hover-fill-color: #174EA6;\n",
              "      --disabled-fill-color: #AAA;\n",
              "      --disabled-bg-color: #DDD;\n",
              "  }\n",
              "\n",
              "  [theme=dark] .colab-df-quickchart {\n",
              "      --bg-color: #3B4455;\n",
              "      --fill-color: #D2E3FC;\n",
              "      --hover-bg-color: #434B5C;\n",
              "      --hover-fill-color: #FFFFFF;\n",
              "      --disabled-bg-color: #3B4455;\n",
              "      --disabled-fill-color: #666;\n",
              "  }\n",
              "\n",
              "  .colab-df-quickchart {\n",
              "    background-color: var(--bg-color);\n",
              "    border: none;\n",
              "    border-radius: 50%;\n",
              "    cursor: pointer;\n",
              "    display: none;\n",
              "    fill: var(--fill-color);\n",
              "    height: 32px;\n",
              "    padding: 0;\n",
              "    width: 32px;\n",
              "  }\n",
              "\n",
              "  .colab-df-quickchart:hover {\n",
              "    background-color: var(--hover-bg-color);\n",
              "    box-shadow: 0 1px 2px rgba(60, 64, 67, 0.3), 0 1px 3px 1px rgba(60, 64, 67, 0.15);\n",
              "    fill: var(--button-hover-fill-color);\n",
              "  }\n",
              "\n",
              "  .colab-df-quickchart-complete:disabled,\n",
              "  .colab-df-quickchart-complete:disabled:hover {\n",
              "    background-color: var(--disabled-bg-color);\n",
              "    fill: var(--disabled-fill-color);\n",
              "    box-shadow: none;\n",
              "  }\n",
              "\n",
              "  .colab-df-spinner {\n",
              "    border: 2px solid var(--fill-color);\n",
              "    border-color: transparent;\n",
              "    border-bottom-color: var(--fill-color);\n",
              "    animation:\n",
              "      spin 1s steps(1) infinite;\n",
              "  }\n",
              "\n",
              "  @keyframes spin {\n",
              "    0% {\n",
              "      border-color: transparent;\n",
              "      border-bottom-color: var(--fill-color);\n",
              "      border-left-color: var(--fill-color);\n",
              "    }\n",
              "    20% {\n",
              "      border-color: transparent;\n",
              "      border-left-color: var(--fill-color);\n",
              "      border-top-color: var(--fill-color);\n",
              "    }\n",
              "    30% {\n",
              "      border-color: transparent;\n",
              "      border-left-color: var(--fill-color);\n",
              "      border-top-color: var(--fill-color);\n",
              "      border-right-color: var(--fill-color);\n",
              "    }\n",
              "    40% {\n",
              "      border-color: transparent;\n",
              "      border-right-color: var(--fill-color);\n",
              "      border-top-color: var(--fill-color);\n",
              "    }\n",
              "    60% {\n",
              "      border-color: transparent;\n",
              "      border-right-color: var(--fill-color);\n",
              "    }\n",
              "    80% {\n",
              "      border-color: transparent;\n",
              "      border-right-color: var(--fill-color);\n",
              "      border-bottom-color: var(--fill-color);\n",
              "    }\n",
              "    90% {\n",
              "      border-color: transparent;\n",
              "      border-bottom-color: var(--fill-color);\n",
              "    }\n",
              "  }\n",
              "</style>\n",
              "\n",
              "      <script>\n",
              "        async function quickchart(key) {\n",
              "          const quickchartButtonEl =\n",
              "            document.querySelector('#' + key + ' button');\n",
              "          quickchartButtonEl.disabled = true;  // To prevent multiple clicks.\n",
              "          quickchartButtonEl.classList.add('colab-df-spinner');\n",
              "          try {\n",
              "            const charts = await google.colab.kernel.invokeFunction(\n",
              "                'suggestCharts', [key], {});\n",
              "          } catch (error) {\n",
              "            console.error('Error during call to suggestCharts:', error);\n",
              "          }\n",
              "          quickchartButtonEl.classList.remove('colab-df-spinner');\n",
              "          quickchartButtonEl.classList.add('colab-df-quickchart-complete');\n",
              "        }\n",
              "        (() => {\n",
              "          let quickchartButtonEl =\n",
              "            document.querySelector('#df-91a08c0c-efad-47bb-89f3-7b9a6839af61 button');\n",
              "          quickchartButtonEl.style.display =\n",
              "            google.colab.kernel.accessAllowed ? 'block' : 'none';\n",
              "        })();\n",
              "      </script>\n",
              "    </div>\n",
              "\n",
              "    </div>\n",
              "  </div>\n"
            ],
            "application/vnd.google.colaboratory.intrinsic+json": {
              "type": "dataframe"
            }
          },
          "metadata": {}
        }
      ]
    },
    {
      "cell_type": "code",
      "source": [
        "import wandb\n",
        "import pandas as pd\n",
        "import numpy as np\n",
        "import torch\n",
        "from torch.utils.data import DataLoader, TensorDataset\n",
        "from sklearn.preprocessing import StandardScaler, LabelEncoder\n",
        "import joblib\n",
        "\n",
        "# W&B Grid Search setup\n",
        "sweep_config = {\n",
        "    'method': 'grid',\n",
        "    'name': 'patchtst_grid_search',\n",
        "    'metric': {'goal': 'minimize', 'name': 'val_wmae'},\n",
        "    'parameters': {\n",
        "        'seq_len': {'values': [26]},  # Fixed for now\n",
        "        'pred_len': {'values': [1]},\n",
        "        'patch_len': {'values': [4, 8, 12]},  # Reduced from 16 to limit combinations\n",
        "        'stride': {'values': [4, 8, 12]},\n",
        "        'd_model': {'values': [32, 64]},      # Reduced from 128 for speed\n",
        "        'learning_rate': {'values': [1e-4, 1e-3]},\n",
        "        'n_layers': {'values': [1, 2]},\n",
        "        'epochs': {'values': [10]}\n",
        "    }\n",
        "}\n",
        "\n",
        "sweep_id = wandb.sweep(sweep_config, project='walmart-sales-forecasting')\n",
        "\n",
        "device = torch.device(\"cuda\" if torch.cuda.is_available() else \"cpu\")\n",
        "print(f\"Using device: {device}\")"
      ],
      "metadata": {
        "colab": {
          "base_uri": "https://localhost:8080/"
        },
        "id": "-PQsnJdElBC0",
        "outputId": "904af837-2152-4f09-c1a9-0df7d6e9e7fe"
      },
      "execution_count": 36,
      "outputs": [
        {
          "output_type": "stream",
          "name": "stdout",
          "text": [
            "Create sweep with ID: 2cqrtvqx\n",
            "Sweep URL: https://wandb.ai/gtoro22-free-university-of-tbilisi-/walmart-sales-forecasting/sweeps/2cqrtvqx\n",
            "Using device: cpu\n"
          ]
        }
      ]
    },
    {
      "cell_type": "code",
      "source": [
        "# Preprocess\n",
        "feature_cols = ['Weekly_Sales', 'Temperature', 'Fuel_Price', 'MarkDown1', 'MarkDown2', 'MarkDown3',\n",
        "                'MarkDown4', 'MarkDown5', 'CPI', 'Unemployment', 'Size', 'Year', 'Month', 'Week',\n",
        "                'Weeks_until_next_holiday', 'IsHoliday', 'Holiday_in_1_week_lag', 'Type', 'Season']\n",
        "le_store = LabelEncoder()\n",
        "le_dept = LabelEncoder()\n",
        "le_type = LabelEncoder()\n",
        "le_season = LabelEncoder()\n",
        "train_df['Store'] = le_store.fit_transform(train_df['Store'])\n",
        "train_df['Dept'] = le_dept.fit_transform(train_df['Dept'])\n",
        "train_df['Type'] = le_type.fit_transform(train_df['Type'])\n",
        "train_df['Season'] = le_season.fit_transform(train_df['Season'])\n",
        "joblib.dump(le_store, 'le_store.pkl')\n",
        "joblib.dump(le_dept, 'le_dept.pkl')\n",
        "joblib.dump(le_type, 'le_type.pkl')\n",
        "joblib.dump(le_season, 'le_season.pkl')\n",
        "num_cols = ['Weekly_Sales', 'Temperature', 'Fuel_Price', 'MarkDown1', 'MarkDown2', 'MarkDown3',\n",
        "            'MarkDown4', 'MarkDown5', 'CPI', 'Unemployment', 'Size', 'Year', 'Month', 'Week',\n",
        "            'Weeks_until_next_holiday']\n",
        "scaler = StandardScaler()\n",
        "train_df[num_cols] = scaler.fit_transform(train_df[num_cols])\n",
        "joblib.dump(scaler, 'scaler.pkl')\n",
        "if np.any(np.isnan(train_df[num_cols].values)):\n",
        "    print(\"Warning: NaN values after scaling\")\n",
        "    train_df[num_cols] = np.nan_to_num(train_df[num_cols].values, nan=0.0)"
      ],
      "metadata": {
        "id": "7qUp5r2cdB5i"
      },
      "execution_count": 30,
      "outputs": []
    },
    {
      "cell_type": "code",
      "source": [
        "# Create sequences\n",
        "def create_sequences(df, seq_len, pred_len, feature_cols, target_col):\n",
        "    sequences = []\n",
        "    targets = []\n",
        "    is_holiday = []\n",
        "    groups = df.groupby(['Store', 'Dept'])\n",
        "    for (store, dept), group in groups:\n",
        "        group = group.sort_values('Date')\n",
        "        data = group[feature_cols].values\n",
        "        target_data = group[target_col].values\n",
        "        holiday_data = group['IsHoliday'].values\n",
        "        for i in range(len(group) - seq_len - pred_len + 1):\n",
        "            seq = data[i:i+seq_len]\n",
        "            target = target_data[i+seq_len:i+seq_len+pred_len]\n",
        "            holiday = holiday_data[i+seq_len:i+seq_len+pred_len]\n",
        "            sequences.append(seq)\n",
        "            targets.append(target)\n",
        "            is_holiday.append(holiday)\n",
        "    return np.array(sequences), np.array(targets), np.array(is_holiday)"
      ],
      "metadata": {
        "id": "lrzXSycGUoNo"
      },
      "execution_count": 31,
      "outputs": []
    },
    {
      "cell_type": "code",
      "source": [
        "# PatchTST model\n",
        "class PatchTST(nn.Module):\n",
        "    def __init__(self, c_in, seq_len, pred_len, n_layers, d_model, d_ff, patch_len, stride, n_heads=8):\n",
        "        super(PatchTST, self).__init__()\n",
        "        self.seq_len = seq_len\n",
        "        self.pred_len = pred_len\n",
        "        self.patch_len = patch_len\n",
        "        self.stride = stride\n",
        "        self.n_patches = (seq_len - patch_len) // stride + 1\n",
        "        self.patch_embed = nn.Linear(patch_len * c_in, d_model)\n",
        "        self.pos_embed = nn.Parameter(torch.randn(1, self.n_patches, d_model))\n",
        "        encoder_layer = nn.TransformerEncoderLayer(d_model, n_heads, d_ff, dropout=0.1, batch_first=True)\n",
        "        self.transformer = nn.TransformerEncoder(encoder_layer, num_layers=n_layers)\n",
        "        self.output_layer = nn.Linear(d_model * self.n_patches, pred_len)\n",
        "        self.apply(self._init_weights)\n",
        "\n",
        "    def _init_weights(self, module):\n",
        "        if isinstance(module, nn.Linear):\n",
        "            nn.init.xavier_uniform_(module.weight)\n",
        "            if module.bias is not None:\n",
        "                nn.init.zeros_(module.bias)\n",
        "        elif isinstance(module, nn.Parameter):\n",
        "            nn.init.normal_(module, mean=0.0, std=0.02)\n",
        "\n",
        "    def forward(self, x):\n",
        "        batch_size = x.size(0)\n",
        "        patches = x.unfold(1, self.patch_len, self.stride)\n",
        "        patches = patches.permute(0, 1, 3, 2).reshape(batch_size, self.n_patches, -1)\n",
        "        patches = self.patch_embed(patches) + self.pos_embed\n",
        "        output = self.transformer(patches)\n",
        "        output = output.reshape(batch_size, -1)\n",
        "        output = self.output_layer(output)\n",
        "        return output\n",
        "\n",
        "# WMAE metric\n",
        "def wmae(y_pred, y_true, is_holiday):\n",
        "    weights = np.where(is_holiday, 5, 1)\n",
        "    return np.sum(weights * np.abs(y_pred - y_true)) / np.sum(weights)\n",
        "\n",
        "# Split for validation\n",
        "val_size = int(0.2 * len(X))\n",
        "train_idx = np.arange(len(X) - val_size)\n",
        "val_idx = np.arange(len(X) - val_size, len(X))\n",
        "X_train, y_train, is_holiday_train = X[train_idx], y[train_idx], is_holiday[train_idx]\n",
        "X_val, y_val, is_holiday_val = X[val_idx], y[val_idx], is_holiday[val_idx]\n",
        "\n",
        "# DataLoader\n",
        "train_dataset = TensorDataset(X_train, y_train)\n",
        "train_loader = DataLoader(train_dataset, batch_size=16, shuffle=True)\n",
        "val_dataset = TensorDataset(X_val, y_val)\n",
        "val_loader = DataLoader(val_dataset, batch_size=16)\n",
        "\n",
        "# Training function\n",
        "def train():\n",
        "    wandb.init()  # Initializes config for each trial\n",
        "    config = wandb.config\n",
        "\n",
        "    # Initialize model\n",
        "    model = PatchTST(c_in=len(feature_cols), seq_len=config.seq_len, pred_len=config.pred_len,\n",
        "                     n_layers=config.n_layers, d_model=config.d_model, n_heads=8,\n",
        "                     d_ff=config.d_model * 2, patch_len=config.patch_len, stride=config.stride)\n",
        "    model = model.to(device)\n",
        "\n",
        "    # Training loop\n",
        "    criterion = nn.L1Loss()\n",
        "    optimizer = optim.Adam(model.parameters(), lr=config.learning_rate)\n",
        "    for epoch in range(config.epochs):\n",
        "        model.train()\n",
        "        total_loss = 0\n",
        "        nan_count = 0\n",
        "        for batch_X, batch_y in train_loader:\n",
        "            batch_X, batch_y = batch_X.to(device), batch_y.to(device)\n",
        "            outputs = model(batch_X)\n",
        "            if torch.any(torch.isnan(outputs)):\n",
        "                nan_count += 1\n",
        "                continue\n",
        "            loss = criterion(outputs, batch_y)\n",
        "            if torch.isnan(loss):\n",
        "                nan_count += 1\n",
        "                continue\n",
        "            optimizer.zero_grad()\n",
        "            loss.backward()\n",
        "            torch.nn.utils.clip_grad_norm_(model.parameters(), max_norm=1.0)\n",
        "            optimizer.step()\n",
        "            total_loss += loss.item()\n",
        "\n",
        "        model.eval()\n",
        "        val_wmae = 0\n",
        "        with torch.no_grad():\n",
        "            for i, (batch_X, batch_y) in enumerate(val_loader):\n",
        "                batch_X, batch_y = batch_X.to(device), batch_y.to(device)\n",
        "                outputs = model(batch_X).cpu().numpy()\n",
        "                batch_y = batch_y.cpu().numpy()\n",
        "                batch_holiday = is_holiday_val[i * 16:(i + 1) * 16]\n",
        "                if np.any(np.isnan(outputs)) or np.any(np.isnan(batch_y)):\n",
        "                    nan_count += 1\n",
        "                    continue\n",
        "                val_wmae += wmae(outputs, batch_y, batch_holiday)\n",
        "\n",
        "        avg_train_loss = total_loss / max(1, len(train_loader) - nan_count)\n",
        "        avg_val_wmae = val_wmae / max(1, len(val_loader) - nan_count)\n",
        "        wandb.log({'epoch': epoch + 1, 'train_loss': avg_train_loss, 'val_wmae': avg_val_wmae, 'nan_count': nan_count})\n",
        "        print(f'Epoch {epoch+1}/{config.epochs}, Train Loss: {avg_train_loss:.4f}, Val WMAE: {avg_val_wmae:.4f}, NaN Count: {nan_count}')\n",
        "\n",
        "    # Save model\n",
        "    torch.save(model.state_dict(), f'patchtst_model_{wandb.run.id}.pth')\n",
        "    wandb.save(f'patchtst_model_{wandb.run.id}.pth')\n",
        "\n",
        "# Run sweep\n",
        "wandb.agent(sweep_id, function=train, count=24)"
      ],
      "metadata": {
        "id": "o95SdGmCUuPu",
        "colab": {
          "base_uri": "https://localhost:8080/",
          "height": 1000
        },
        "outputId": "7033057e-e60a-477e-f3a3-806112618f6e"
      },
      "execution_count": 37,
      "outputs": [
        {
          "output_type": "stream",
          "name": "stderr",
          "text": [
            "\u001b[34m\u001b[1mwandb\u001b[0m: Agent Starting Run: hdhcdd9n with config:\n",
            "\u001b[34m\u001b[1mwandb\u001b[0m: \td_model: 32\n",
            "\u001b[34m\u001b[1mwandb\u001b[0m: \tepochs: 10\n",
            "\u001b[34m\u001b[1mwandb\u001b[0m: \tlearning_rate: 0.0001\n",
            "\u001b[34m\u001b[1mwandb\u001b[0m: \tn_layers: 1\n",
            "\u001b[34m\u001b[1mwandb\u001b[0m: \tpatch_len: 4\n",
            "\u001b[34m\u001b[1mwandb\u001b[0m: \tpred_len: 1\n",
            "\u001b[34m\u001b[1mwandb\u001b[0m: \tseq_len: 26\n",
            "\u001b[34m\u001b[1mwandb\u001b[0m: \tstride: 4\n"
          ]
        },
        {
          "output_type": "display_data",
          "data": {
            "text/plain": [
              "<IPython.core.display.HTML object>"
            ],
            "text/html": [
              "Tracking run with wandb version 0.21.0"
            ]
          },
          "metadata": {}
        },
        {
          "output_type": "display_data",
          "data": {
            "text/plain": [
              "<IPython.core.display.HTML object>"
            ],
            "text/html": [
              "Run data is saved locally in <code>/content/wandb/run-20250802_064605-hdhcdd9n</code>"
            ]
          },
          "metadata": {}
        },
        {
          "output_type": "display_data",
          "data": {
            "text/plain": [
              "<IPython.core.display.HTML object>"
            ],
            "text/html": [
              "Syncing run <strong><a href='https://wandb.ai/gtoro22-free-university-of-tbilisi-/walmart-sales-forecasting/runs/hdhcdd9n' target=\"_blank\">peachy-sweep-1</a></strong> to <a href='https://wandb.ai/gtoro22-free-university-of-tbilisi-/walmart-sales-forecasting' target=\"_blank\">Weights & Biases</a> (<a href='https://wandb.me/developer-guide' target=\"_blank\">docs</a>)<br>Sweep page: <a href='https://wandb.ai/gtoro22-free-university-of-tbilisi-/walmart-sales-forecasting/sweeps/2cqrtvqx' target=\"_blank\">https://wandb.ai/gtoro22-free-university-of-tbilisi-/walmart-sales-forecasting/sweeps/2cqrtvqx</a>"
            ]
          },
          "metadata": {}
        },
        {
          "output_type": "display_data",
          "data": {
            "text/plain": [
              "<IPython.core.display.HTML object>"
            ],
            "text/html": [
              " View project at <a href='https://wandb.ai/gtoro22-free-university-of-tbilisi-/walmart-sales-forecasting' target=\"_blank\">https://wandb.ai/gtoro22-free-university-of-tbilisi-/walmart-sales-forecasting</a>"
            ]
          },
          "metadata": {}
        },
        {
          "output_type": "display_data",
          "data": {
            "text/plain": [
              "<IPython.core.display.HTML object>"
            ],
            "text/html": [
              " View sweep at <a href='https://wandb.ai/gtoro22-free-university-of-tbilisi-/walmart-sales-forecasting/sweeps/2cqrtvqx' target=\"_blank\">https://wandb.ai/gtoro22-free-university-of-tbilisi-/walmart-sales-forecasting/sweeps/2cqrtvqx</a>"
            ]
          },
          "metadata": {}
        },
        {
          "output_type": "display_data",
          "data": {
            "text/plain": [
              "<IPython.core.display.HTML object>"
            ],
            "text/html": [
              " View run at <a href='https://wandb.ai/gtoro22-free-university-of-tbilisi-/walmart-sales-forecasting/runs/hdhcdd9n' target=\"_blank\">https://wandb.ai/gtoro22-free-university-of-tbilisi-/walmart-sales-forecasting/runs/hdhcdd9n</a>"
            ]
          },
          "metadata": {}
        },
        {
          "output_type": "stream",
          "name": "stdout",
          "text": [
            "Epoch 1/10, Train Loss: 0.4258, Val WMAE: 0.2174, NaN Count: 0\n",
            "Epoch 2/10, Train Loss: 0.2743, Val WMAE: 0.1863, NaN Count: 0\n",
            "Epoch 3/10, Train Loss: 0.2236, Val WMAE: 0.1756, NaN Count: 0\n",
            "Epoch 4/10, Train Loss: 0.1931, Val WMAE: 0.1759, NaN Count: 0\n",
            "Epoch 5/10, Train Loss: 0.1741, Val WMAE: 0.1617, NaN Count: 0\n",
            "Epoch 6/10, Train Loss: 0.1614, Val WMAE: 0.1530, NaN Count: 0\n",
            "Epoch 7/10, Train Loss: 0.1499, Val WMAE: 0.1533, NaN Count: 0\n",
            "Epoch 8/10, Train Loss: 0.1432, Val WMAE: 0.1448, NaN Count: 0\n",
            "Epoch 9/10, Train Loss: 0.1367, Val WMAE: 0.1489, NaN Count: 0\n",
            "Epoch 10/10, Train Loss: 0.1320, Val WMAE: 0.1441, NaN Count: 0\n"
          ]
        },
        {
          "output_type": "display_data",
          "data": {
            "text/plain": [
              "<IPython.core.display.HTML object>"
            ],
            "text/html": []
          },
          "metadata": {}
        },
        {
          "output_type": "display_data",
          "data": {
            "text/plain": [
              "<IPython.core.display.HTML object>"
            ],
            "text/html": [
              "<br>    <style><br>        .wandb-row {<br>            display: flex;<br>            flex-direction: row;<br>            flex-wrap: wrap;<br>            justify-content: flex-start;<br>            width: 100%;<br>        }<br>        .wandb-col {<br>            display: flex;<br>            flex-direction: column;<br>            flex-basis: 100%;<br>            flex: 1;<br>            padding: 10px;<br>        }<br>    </style><br><div class=\"wandb-row\"><div class=\"wandb-col\"><h3>Run history:</h3><br/><table class=\"wandb\"><tr><td>epoch</td><td>▁▂▃▃▄▅▆▆▇█</td></tr><tr><td>nan_count</td><td>▁▁▁▁▁▁▁▁▁▁</td></tr><tr><td>train_loss</td><td>█▄▃▂▂▂▁▁▁▁</td></tr><tr><td>val_wmae</td><td>█▅▄▄▃▂▂▁▁▁</td></tr></table><br/></div><div class=\"wandb-col\"><h3>Run summary:</h3><br/><table class=\"wandb\"><tr><td>epoch</td><td>10</td></tr><tr><td>nan_count</td><td>0</td></tr><tr><td>train_loss</td><td>0.13204</td></tr><tr><td>val_wmae</td><td>0.14405</td></tr></table><br/></div></div>"
            ]
          },
          "metadata": {}
        },
        {
          "output_type": "display_data",
          "data": {
            "text/plain": [
              "<IPython.core.display.HTML object>"
            ],
            "text/html": [
              " View run <strong style=\"color:#cdcd00\">peachy-sweep-1</strong> at: <a href='https://wandb.ai/gtoro22-free-university-of-tbilisi-/walmart-sales-forecasting/runs/hdhcdd9n' target=\"_blank\">https://wandb.ai/gtoro22-free-university-of-tbilisi-/walmart-sales-forecasting/runs/hdhcdd9n</a><br> View project at: <a href='https://wandb.ai/gtoro22-free-university-of-tbilisi-/walmart-sales-forecasting' target=\"_blank\">https://wandb.ai/gtoro22-free-university-of-tbilisi-/walmart-sales-forecasting</a><br>Synced 5 W&B file(s), 0 media file(s), 0 artifact file(s) and 1 other file(s)"
            ]
          },
          "metadata": {}
        },
        {
          "output_type": "display_data",
          "data": {
            "text/plain": [
              "<IPython.core.display.HTML object>"
            ],
            "text/html": [
              "Find logs at: <code>./wandb/run-20250802_064605-hdhcdd9n/logs</code>"
            ]
          },
          "metadata": {}
        },
        {
          "output_type": "stream",
          "name": "stderr",
          "text": [
            "\u001b[34m\u001b[1mwandb\u001b[0m: Agent Starting Run: cshve2p4 with config:\n",
            "\u001b[34m\u001b[1mwandb\u001b[0m: \td_model: 32\n",
            "\u001b[34m\u001b[1mwandb\u001b[0m: \tepochs: 10\n",
            "\u001b[34m\u001b[1mwandb\u001b[0m: \tlearning_rate: 0.0001\n",
            "\u001b[34m\u001b[1mwandb\u001b[0m: \tn_layers: 1\n",
            "\u001b[34m\u001b[1mwandb\u001b[0m: \tpatch_len: 4\n",
            "\u001b[34m\u001b[1mwandb\u001b[0m: \tpred_len: 1\n",
            "\u001b[34m\u001b[1mwandb\u001b[0m: \tseq_len: 26\n",
            "\u001b[34m\u001b[1mwandb\u001b[0m: \tstride: 8\n"
          ]
        },
        {
          "output_type": "display_data",
          "data": {
            "text/plain": [
              "<IPython.core.display.HTML object>"
            ],
            "text/html": [
              "Tracking run with wandb version 0.21.0"
            ]
          },
          "metadata": {}
        },
        {
          "output_type": "display_data",
          "data": {
            "text/plain": [
              "<IPython.core.display.HTML object>"
            ],
            "text/html": [
              "Run data is saved locally in <code>/content/wandb/run-20250802_064817-cshve2p4</code>"
            ]
          },
          "metadata": {}
        },
        {
          "output_type": "display_data",
          "data": {
            "text/plain": [
              "<IPython.core.display.HTML object>"
            ],
            "text/html": [
              "Syncing run <strong><a href='https://wandb.ai/gtoro22-free-university-of-tbilisi-/walmart-sales-forecasting/runs/cshve2p4' target=\"_blank\">exalted-sweep-2</a></strong> to <a href='https://wandb.ai/gtoro22-free-university-of-tbilisi-/walmart-sales-forecasting' target=\"_blank\">Weights & Biases</a> (<a href='https://wandb.me/developer-guide' target=\"_blank\">docs</a>)<br>Sweep page: <a href='https://wandb.ai/gtoro22-free-university-of-tbilisi-/walmart-sales-forecasting/sweeps/2cqrtvqx' target=\"_blank\">https://wandb.ai/gtoro22-free-university-of-tbilisi-/walmart-sales-forecasting/sweeps/2cqrtvqx</a>"
            ]
          },
          "metadata": {}
        },
        {
          "output_type": "display_data",
          "data": {
            "text/plain": [
              "<IPython.core.display.HTML object>"
            ],
            "text/html": [
              " View project at <a href='https://wandb.ai/gtoro22-free-university-of-tbilisi-/walmart-sales-forecasting' target=\"_blank\">https://wandb.ai/gtoro22-free-university-of-tbilisi-/walmart-sales-forecasting</a>"
            ]
          },
          "metadata": {}
        },
        {
          "output_type": "display_data",
          "data": {
            "text/plain": [
              "<IPython.core.display.HTML object>"
            ],
            "text/html": [
              " View sweep at <a href='https://wandb.ai/gtoro22-free-university-of-tbilisi-/walmart-sales-forecasting/sweeps/2cqrtvqx' target=\"_blank\">https://wandb.ai/gtoro22-free-university-of-tbilisi-/walmart-sales-forecasting/sweeps/2cqrtvqx</a>"
            ]
          },
          "metadata": {}
        },
        {
          "output_type": "display_data",
          "data": {
            "text/plain": [
              "<IPython.core.display.HTML object>"
            ],
            "text/html": [
              " View run at <a href='https://wandb.ai/gtoro22-free-university-of-tbilisi-/walmart-sales-forecasting/runs/cshve2p4' target=\"_blank\">https://wandb.ai/gtoro22-free-university-of-tbilisi-/walmart-sales-forecasting/runs/cshve2p4</a>"
            ]
          },
          "metadata": {}
        },
        {
          "output_type": "stream",
          "name": "stdout",
          "text": [
            "Epoch 1/10, Train Loss: 0.4053, Val WMAE: 0.1956, NaN Count: 0\n",
            "Epoch 2/10, Train Loss: 0.2515, Val WMAE: 0.1748, NaN Count: 0\n",
            "Epoch 3/10, Train Loss: 0.2075, Val WMAE: 0.1764, NaN Count: 0\n",
            "Epoch 4/10, Train Loss: 0.1837, Val WMAE: 0.1661, NaN Count: 0\n",
            "Epoch 5/10, Train Loss: 0.1704, Val WMAE: 0.1573, NaN Count: 0\n",
            "Epoch 6/10, Train Loss: 0.1605, Val WMAE: 0.1580, NaN Count: 0\n",
            "Epoch 7/10, Train Loss: 0.1536, Val WMAE: 0.1573, NaN Count: 0\n",
            "Epoch 8/10, Train Loss: 0.1476, Val WMAE: 0.1541, NaN Count: 0\n",
            "Epoch 9/10, Train Loss: 0.1433, Val WMAE: 0.1497, NaN Count: 0\n",
            "Epoch 10/10, Train Loss: 0.1403, Val WMAE: 0.1530, NaN Count: 0\n"
          ]
        },
        {
          "output_type": "display_data",
          "data": {
            "text/plain": [
              "<IPython.core.display.HTML object>"
            ],
            "text/html": []
          },
          "metadata": {}
        },
        {
          "output_type": "display_data",
          "data": {
            "text/plain": [
              "<IPython.core.display.HTML object>"
            ],
            "text/html": [
              "<br>    <style><br>        .wandb-row {<br>            display: flex;<br>            flex-direction: row;<br>            flex-wrap: wrap;<br>            justify-content: flex-start;<br>            width: 100%;<br>        }<br>        .wandb-col {<br>            display: flex;<br>            flex-direction: column;<br>            flex-basis: 100%;<br>            flex: 1;<br>            padding: 10px;<br>        }<br>    </style><br><div class=\"wandb-row\"><div class=\"wandb-col\"><h3>Run history:</h3><br/><table class=\"wandb\"><tr><td>epoch</td><td>▁▂▃▃▄▅▆▆▇█</td></tr><tr><td>nan_count</td><td>▁▁▁▁▁▁▁▁▁▁</td></tr><tr><td>train_loss</td><td>█▄▃▂▂▂▁▁▁▁</td></tr><tr><td>val_wmae</td><td>█▅▅▃▂▂▂▂▁▂</td></tr></table><br/></div><div class=\"wandb-col\"><h3>Run summary:</h3><br/><table class=\"wandb\"><tr><td>epoch</td><td>10</td></tr><tr><td>nan_count</td><td>0</td></tr><tr><td>train_loss</td><td>0.14034</td></tr><tr><td>val_wmae</td><td>0.15303</td></tr></table><br/></div></div>"
            ]
          },
          "metadata": {}
        },
        {
          "output_type": "display_data",
          "data": {
            "text/plain": [
              "<IPython.core.display.HTML object>"
            ],
            "text/html": [
              " View run <strong style=\"color:#cdcd00\">exalted-sweep-2</strong> at: <a href='https://wandb.ai/gtoro22-free-university-of-tbilisi-/walmart-sales-forecasting/runs/cshve2p4' target=\"_blank\">https://wandb.ai/gtoro22-free-university-of-tbilisi-/walmart-sales-forecasting/runs/cshve2p4</a><br> View project at: <a href='https://wandb.ai/gtoro22-free-university-of-tbilisi-/walmart-sales-forecasting' target=\"_blank\">https://wandb.ai/gtoro22-free-university-of-tbilisi-/walmart-sales-forecasting</a><br>Synced 5 W&B file(s), 0 media file(s), 0 artifact file(s) and 1 other file(s)"
            ]
          },
          "metadata": {}
        },
        {
          "output_type": "display_data",
          "data": {
            "text/plain": [
              "<IPython.core.display.HTML object>"
            ],
            "text/html": [
              "Find logs at: <code>./wandb/run-20250802_064817-cshve2p4/logs</code>"
            ]
          },
          "metadata": {}
        },
        {
          "output_type": "stream",
          "name": "stderr",
          "text": [
            "\u001b[34m\u001b[1mwandb\u001b[0m: Agent Starting Run: axpvemc7 with config:\n",
            "\u001b[34m\u001b[1mwandb\u001b[0m: \td_model: 32\n",
            "\u001b[34m\u001b[1mwandb\u001b[0m: \tepochs: 10\n",
            "\u001b[34m\u001b[1mwandb\u001b[0m: \tlearning_rate: 0.0001\n",
            "\u001b[34m\u001b[1mwandb\u001b[0m: \tn_layers: 1\n",
            "\u001b[34m\u001b[1mwandb\u001b[0m: \tpatch_len: 4\n",
            "\u001b[34m\u001b[1mwandb\u001b[0m: \tpred_len: 1\n",
            "\u001b[34m\u001b[1mwandb\u001b[0m: \tseq_len: 26\n",
            "\u001b[34m\u001b[1mwandb\u001b[0m: \tstride: 12\n"
          ]
        },
        {
          "output_type": "display_data",
          "data": {
            "text/plain": [
              "<IPython.core.display.HTML object>"
            ],
            "text/html": [
              "Tracking run with wandb version 0.21.0"
            ]
          },
          "metadata": {}
        },
        {
          "output_type": "display_data",
          "data": {
            "text/plain": [
              "<IPython.core.display.HTML object>"
            ],
            "text/html": [
              "Run data is saved locally in <code>/content/wandb/run-20250802_065009-axpvemc7</code>"
            ]
          },
          "metadata": {}
        },
        {
          "output_type": "display_data",
          "data": {
            "text/plain": [
              "<IPython.core.display.HTML object>"
            ],
            "text/html": [
              "Syncing run <strong><a href='https://wandb.ai/gtoro22-free-university-of-tbilisi-/walmart-sales-forecasting/runs/axpvemc7' target=\"_blank\">noble-sweep-3</a></strong> to <a href='https://wandb.ai/gtoro22-free-university-of-tbilisi-/walmart-sales-forecasting' target=\"_blank\">Weights & Biases</a> (<a href='https://wandb.me/developer-guide' target=\"_blank\">docs</a>)<br>Sweep page: <a href='https://wandb.ai/gtoro22-free-university-of-tbilisi-/walmart-sales-forecasting/sweeps/2cqrtvqx' target=\"_blank\">https://wandb.ai/gtoro22-free-university-of-tbilisi-/walmart-sales-forecasting/sweeps/2cqrtvqx</a>"
            ]
          },
          "metadata": {}
        },
        {
          "output_type": "display_data",
          "data": {
            "text/plain": [
              "<IPython.core.display.HTML object>"
            ],
            "text/html": [
              " View project at <a href='https://wandb.ai/gtoro22-free-university-of-tbilisi-/walmart-sales-forecasting' target=\"_blank\">https://wandb.ai/gtoro22-free-university-of-tbilisi-/walmart-sales-forecasting</a>"
            ]
          },
          "metadata": {}
        },
        {
          "output_type": "display_data",
          "data": {
            "text/plain": [
              "<IPython.core.display.HTML object>"
            ],
            "text/html": [
              " View sweep at <a href='https://wandb.ai/gtoro22-free-university-of-tbilisi-/walmart-sales-forecasting/sweeps/2cqrtvqx' target=\"_blank\">https://wandb.ai/gtoro22-free-university-of-tbilisi-/walmart-sales-forecasting/sweeps/2cqrtvqx</a>"
            ]
          },
          "metadata": {}
        },
        {
          "output_type": "display_data",
          "data": {
            "text/plain": [
              "<IPython.core.display.HTML object>"
            ],
            "text/html": [
              " View run at <a href='https://wandb.ai/gtoro22-free-university-of-tbilisi-/walmart-sales-forecasting/runs/axpvemc7' target=\"_blank\">https://wandb.ai/gtoro22-free-university-of-tbilisi-/walmart-sales-forecasting/runs/axpvemc7</a>"
            ]
          },
          "metadata": {}
        },
        {
          "output_type": "stream",
          "name": "stdout",
          "text": [
            "Epoch 1/10, Train Loss: 0.3907, Val WMAE: 0.2087, NaN Count: 0\n",
            "Epoch 2/10, Train Loss: 0.2344, Val WMAE: 0.1793, NaN Count: 0\n",
            "Epoch 3/10, Train Loss: 0.1959, Val WMAE: 0.1705, NaN Count: 0\n",
            "Epoch 4/10, Train Loss: 0.1790, Val WMAE: 0.1690, NaN Count: 0\n",
            "Epoch 5/10, Train Loss: 0.1676, Val WMAE: 0.1772, NaN Count: 0\n",
            "Epoch 6/10, Train Loss: 0.1605, Val WMAE: 0.1672, NaN Count: 0\n",
            "Epoch 7/10, Train Loss: 0.1566, Val WMAE: 0.1590, NaN Count: 0\n",
            "Epoch 8/10, Train Loss: 0.1523, Val WMAE: 0.1565, NaN Count: 0\n",
            "Epoch 9/10, Train Loss: 0.1494, Val WMAE: 0.1558, NaN Count: 0\n",
            "Epoch 10/10, Train Loss: 0.1473, Val WMAE: 0.1583, NaN Count: 0\n"
          ]
        },
        {
          "output_type": "display_data",
          "data": {
            "text/plain": [
              "<IPython.core.display.HTML object>"
            ],
            "text/html": []
          },
          "metadata": {}
        },
        {
          "output_type": "display_data",
          "data": {
            "text/plain": [
              "<IPython.core.display.HTML object>"
            ],
            "text/html": [
              "<br>    <style><br>        .wandb-row {<br>            display: flex;<br>            flex-direction: row;<br>            flex-wrap: wrap;<br>            justify-content: flex-start;<br>            width: 100%;<br>        }<br>        .wandb-col {<br>            display: flex;<br>            flex-direction: column;<br>            flex-basis: 100%;<br>            flex: 1;<br>            padding: 10px;<br>        }<br>    </style><br><div class=\"wandb-row\"><div class=\"wandb-col\"><h3>Run history:</h3><br/><table class=\"wandb\"><tr><td>epoch</td><td>▁▂▃▃▄▅▆▆▇█</td></tr><tr><td>nan_count</td><td>▁▁▁▁▁▁▁▁▁▁</td></tr><tr><td>train_loss</td><td>█▄▂▂▂▁▁▁▁▁</td></tr><tr><td>val_wmae</td><td>█▄▃▃▄▃▁▁▁▁</td></tr></table><br/></div><div class=\"wandb-col\"><h3>Run summary:</h3><br/><table class=\"wandb\"><tr><td>epoch</td><td>10</td></tr><tr><td>nan_count</td><td>0</td></tr><tr><td>train_loss</td><td>0.1473</td></tr><tr><td>val_wmae</td><td>0.15831</td></tr></table><br/></div></div>"
            ]
          },
          "metadata": {}
        },
        {
          "output_type": "display_data",
          "data": {
            "text/plain": [
              "<IPython.core.display.HTML object>"
            ],
            "text/html": [
              " View run <strong style=\"color:#cdcd00\">noble-sweep-3</strong> at: <a href='https://wandb.ai/gtoro22-free-university-of-tbilisi-/walmart-sales-forecasting/runs/axpvemc7' target=\"_blank\">https://wandb.ai/gtoro22-free-university-of-tbilisi-/walmart-sales-forecasting/runs/axpvemc7</a><br> View project at: <a href='https://wandb.ai/gtoro22-free-university-of-tbilisi-/walmart-sales-forecasting' target=\"_blank\">https://wandb.ai/gtoro22-free-university-of-tbilisi-/walmart-sales-forecasting</a><br>Synced 5 W&B file(s), 0 media file(s), 0 artifact file(s) and 1 other file(s)"
            ]
          },
          "metadata": {}
        },
        {
          "output_type": "display_data",
          "data": {
            "text/plain": [
              "<IPython.core.display.HTML object>"
            ],
            "text/html": [
              "Find logs at: <code>./wandb/run-20250802_065009-axpvemc7/logs</code>"
            ]
          },
          "metadata": {}
        },
        {
          "output_type": "stream",
          "name": "stderr",
          "text": [
            "\u001b[34m\u001b[1mwandb\u001b[0m: Agent Starting Run: jp2l3ixz with config:\n",
            "\u001b[34m\u001b[1mwandb\u001b[0m: \td_model: 32\n",
            "\u001b[34m\u001b[1mwandb\u001b[0m: \tepochs: 10\n",
            "\u001b[34m\u001b[1mwandb\u001b[0m: \tlearning_rate: 0.0001\n",
            "\u001b[34m\u001b[1mwandb\u001b[0m: \tn_layers: 1\n",
            "\u001b[34m\u001b[1mwandb\u001b[0m: \tpatch_len: 8\n",
            "\u001b[34m\u001b[1mwandb\u001b[0m: \tpred_len: 1\n",
            "\u001b[34m\u001b[1mwandb\u001b[0m: \tseq_len: 26\n",
            "\u001b[34m\u001b[1mwandb\u001b[0m: \tstride: 4\n"
          ]
        },
        {
          "output_type": "display_data",
          "data": {
            "text/plain": [
              "<IPython.core.display.HTML object>"
            ],
            "text/html": [
              "Tracking run with wandb version 0.21.0"
            ]
          },
          "metadata": {}
        },
        {
          "output_type": "display_data",
          "data": {
            "text/plain": [
              "<IPython.core.display.HTML object>"
            ],
            "text/html": [
              "Run data is saved locally in <code>/content/wandb/run-20250802_065205-jp2l3ixz</code>"
            ]
          },
          "metadata": {}
        },
        {
          "output_type": "display_data",
          "data": {
            "text/plain": [
              "<IPython.core.display.HTML object>"
            ],
            "text/html": [
              "Syncing run <strong><a href='https://wandb.ai/gtoro22-free-university-of-tbilisi-/walmart-sales-forecasting/runs/jp2l3ixz' target=\"_blank\">copper-sweep-4</a></strong> to <a href='https://wandb.ai/gtoro22-free-university-of-tbilisi-/walmart-sales-forecasting' target=\"_blank\">Weights & Biases</a> (<a href='https://wandb.me/developer-guide' target=\"_blank\">docs</a>)<br>Sweep page: <a href='https://wandb.ai/gtoro22-free-university-of-tbilisi-/walmart-sales-forecasting/sweeps/2cqrtvqx' target=\"_blank\">https://wandb.ai/gtoro22-free-university-of-tbilisi-/walmart-sales-forecasting/sweeps/2cqrtvqx</a>"
            ]
          },
          "metadata": {}
        },
        {
          "output_type": "display_data",
          "data": {
            "text/plain": [
              "<IPython.core.display.HTML object>"
            ],
            "text/html": [
              " View project at <a href='https://wandb.ai/gtoro22-free-university-of-tbilisi-/walmart-sales-forecasting' target=\"_blank\">https://wandb.ai/gtoro22-free-university-of-tbilisi-/walmart-sales-forecasting</a>"
            ]
          },
          "metadata": {}
        },
        {
          "output_type": "display_data",
          "data": {
            "text/plain": [
              "<IPython.core.display.HTML object>"
            ],
            "text/html": [
              " View sweep at <a href='https://wandb.ai/gtoro22-free-university-of-tbilisi-/walmart-sales-forecasting/sweeps/2cqrtvqx' target=\"_blank\">https://wandb.ai/gtoro22-free-university-of-tbilisi-/walmart-sales-forecasting/sweeps/2cqrtvqx</a>"
            ]
          },
          "metadata": {}
        },
        {
          "output_type": "display_data",
          "data": {
            "text/plain": [
              "<IPython.core.display.HTML object>"
            ],
            "text/html": [
              " View run at <a href='https://wandb.ai/gtoro22-free-university-of-tbilisi-/walmart-sales-forecasting/runs/jp2l3ixz' target=\"_blank\">https://wandb.ai/gtoro22-free-university-of-tbilisi-/walmart-sales-forecasting/runs/jp2l3ixz</a>"
            ]
          },
          "metadata": {}
        },
        {
          "output_type": "stream",
          "name": "stdout",
          "text": [
            "Epoch 1/10, Train Loss: 0.3766, Val WMAE: 0.1936, NaN Count: 0\n",
            "Epoch 2/10, Train Loss: 0.2327, Val WMAE: 0.1743, NaN Count: 0\n",
            "Epoch 3/10, Train Loss: 0.1924, Val WMAE: 0.1682, NaN Count: 0\n",
            "Epoch 4/10, Train Loss: 0.1700, Val WMAE: 0.1645, NaN Count: 0\n",
            "Epoch 5/10, Train Loss: 0.1563, Val WMAE: 0.1635, NaN Count: 0\n",
            "Epoch 6/10, Train Loss: 0.1464, Val WMAE: 0.1582, NaN Count: 0\n",
            "Epoch 7/10, Train Loss: 0.1392, Val WMAE: 0.1539, NaN Count: 0\n",
            "Epoch 8/10, Train Loss: 0.1337, Val WMAE: 0.1443, NaN Count: 0\n",
            "Epoch 9/10, Train Loss: 0.1293, Val WMAE: 0.1432, NaN Count: 0\n",
            "Epoch 10/10, Train Loss: 0.1249, Val WMAE: 0.1494, NaN Count: 0\n"
          ]
        },
        {
          "output_type": "display_data",
          "data": {
            "text/plain": [
              "<IPython.core.display.HTML object>"
            ],
            "text/html": []
          },
          "metadata": {}
        },
        {
          "output_type": "display_data",
          "data": {
            "text/plain": [
              "<IPython.core.display.HTML object>"
            ],
            "text/html": [
              "<br>    <style><br>        .wandb-row {<br>            display: flex;<br>            flex-direction: row;<br>            flex-wrap: wrap;<br>            justify-content: flex-start;<br>            width: 100%;<br>        }<br>        .wandb-col {<br>            display: flex;<br>            flex-direction: column;<br>            flex-basis: 100%;<br>            flex: 1;<br>            padding: 10px;<br>        }<br>    </style><br><div class=\"wandb-row\"><div class=\"wandb-col\"><h3>Run history:</h3><br/><table class=\"wandb\"><tr><td>epoch</td><td>▁▂▃▃▄▅▆▆▇█</td></tr><tr><td>nan_count</td><td>▁▁▁▁▁▁▁▁▁▁</td></tr><tr><td>train_loss</td><td>█▄▃▂▂▂▁▁▁▁</td></tr><tr><td>val_wmae</td><td>█▅▄▄▄▃▂▁▁▂</td></tr></table><br/></div><div class=\"wandb-col\"><h3>Run summary:</h3><br/><table class=\"wandb\"><tr><td>epoch</td><td>10</td></tr><tr><td>nan_count</td><td>0</td></tr><tr><td>train_loss</td><td>0.12487</td></tr><tr><td>val_wmae</td><td>0.1494</td></tr></table><br/></div></div>"
            ]
          },
          "metadata": {}
        },
        {
          "output_type": "display_data",
          "data": {
            "text/plain": [
              "<IPython.core.display.HTML object>"
            ],
            "text/html": [
              " View run <strong style=\"color:#cdcd00\">copper-sweep-4</strong> at: <a href='https://wandb.ai/gtoro22-free-university-of-tbilisi-/walmart-sales-forecasting/runs/jp2l3ixz' target=\"_blank\">https://wandb.ai/gtoro22-free-university-of-tbilisi-/walmart-sales-forecasting/runs/jp2l3ixz</a><br> View project at: <a href='https://wandb.ai/gtoro22-free-university-of-tbilisi-/walmart-sales-forecasting' target=\"_blank\">https://wandb.ai/gtoro22-free-university-of-tbilisi-/walmart-sales-forecasting</a><br>Synced 5 W&B file(s), 0 media file(s), 0 artifact file(s) and 1 other file(s)"
            ]
          },
          "metadata": {}
        },
        {
          "output_type": "display_data",
          "data": {
            "text/plain": [
              "<IPython.core.display.HTML object>"
            ],
            "text/html": [
              "Find logs at: <code>./wandb/run-20250802_065205-jp2l3ixz/logs</code>"
            ]
          },
          "metadata": {}
        },
        {
          "output_type": "stream",
          "name": "stderr",
          "text": [
            "\u001b[34m\u001b[1mwandb\u001b[0m: Agent Starting Run: bmpk3fmy with config:\n",
            "\u001b[34m\u001b[1mwandb\u001b[0m: \td_model: 32\n",
            "\u001b[34m\u001b[1mwandb\u001b[0m: \tepochs: 10\n",
            "\u001b[34m\u001b[1mwandb\u001b[0m: \tlearning_rate: 0.0001\n",
            "\u001b[34m\u001b[1mwandb\u001b[0m: \tn_layers: 1\n",
            "\u001b[34m\u001b[1mwandb\u001b[0m: \tpatch_len: 8\n",
            "\u001b[34m\u001b[1mwandb\u001b[0m: \tpred_len: 1\n",
            "\u001b[34m\u001b[1mwandb\u001b[0m: \tseq_len: 26\n",
            "\u001b[34m\u001b[1mwandb\u001b[0m: \tstride: 8\n"
          ]
        },
        {
          "output_type": "display_data",
          "data": {
            "text/plain": [
              "<IPython.core.display.HTML object>"
            ],
            "text/html": [
              "Tracking run with wandb version 0.21.0"
            ]
          },
          "metadata": {}
        },
        {
          "output_type": "display_data",
          "data": {
            "text/plain": [
              "<IPython.core.display.HTML object>"
            ],
            "text/html": [
              "Run data is saved locally in <code>/content/wandb/run-20250802_065407-bmpk3fmy</code>"
            ]
          },
          "metadata": {}
        },
        {
          "output_type": "display_data",
          "data": {
            "text/plain": [
              "<IPython.core.display.HTML object>"
            ],
            "text/html": [
              "Syncing run <strong><a href='https://wandb.ai/gtoro22-free-university-of-tbilisi-/walmart-sales-forecasting/runs/bmpk3fmy' target=\"_blank\">giddy-sweep-5</a></strong> to <a href='https://wandb.ai/gtoro22-free-university-of-tbilisi-/walmart-sales-forecasting' target=\"_blank\">Weights & Biases</a> (<a href='https://wandb.me/developer-guide' target=\"_blank\">docs</a>)<br>Sweep page: <a href='https://wandb.ai/gtoro22-free-university-of-tbilisi-/walmart-sales-forecasting/sweeps/2cqrtvqx' target=\"_blank\">https://wandb.ai/gtoro22-free-university-of-tbilisi-/walmart-sales-forecasting/sweeps/2cqrtvqx</a>"
            ]
          },
          "metadata": {}
        },
        {
          "output_type": "display_data",
          "data": {
            "text/plain": [
              "<IPython.core.display.HTML object>"
            ],
            "text/html": [
              " View project at <a href='https://wandb.ai/gtoro22-free-university-of-tbilisi-/walmart-sales-forecasting' target=\"_blank\">https://wandb.ai/gtoro22-free-university-of-tbilisi-/walmart-sales-forecasting</a>"
            ]
          },
          "metadata": {}
        },
        {
          "output_type": "display_data",
          "data": {
            "text/plain": [
              "<IPython.core.display.HTML object>"
            ],
            "text/html": [
              " View sweep at <a href='https://wandb.ai/gtoro22-free-university-of-tbilisi-/walmart-sales-forecasting/sweeps/2cqrtvqx' target=\"_blank\">https://wandb.ai/gtoro22-free-university-of-tbilisi-/walmart-sales-forecasting/sweeps/2cqrtvqx</a>"
            ]
          },
          "metadata": {}
        },
        {
          "output_type": "display_data",
          "data": {
            "text/plain": [
              "<IPython.core.display.HTML object>"
            ],
            "text/html": [
              " View run at <a href='https://wandb.ai/gtoro22-free-university-of-tbilisi-/walmart-sales-forecasting/runs/bmpk3fmy' target=\"_blank\">https://wandb.ai/gtoro22-free-university-of-tbilisi-/walmart-sales-forecasting/runs/bmpk3fmy</a>"
            ]
          },
          "metadata": {}
        },
        {
          "output_type": "stream",
          "name": "stdout",
          "text": [
            "Epoch 1/10, Train Loss: 0.3950, Val WMAE: 0.2013, NaN Count: 0\n",
            "Epoch 2/10, Train Loss: 0.2403, Val WMAE: 0.1815, NaN Count: 0\n",
            "Epoch 3/10, Train Loss: 0.1952, Val WMAE: 0.1651, NaN Count: 0\n",
            "Epoch 4/10, Train Loss: 0.1702, Val WMAE: 0.1549, NaN Count: 0\n",
            "Epoch 5/10, Train Loss: 0.1544, Val WMAE: 0.1559, NaN Count: 0\n",
            "Epoch 6/10, Train Loss: 0.1433, Val WMAE: 0.1447, NaN Count: 0\n",
            "Epoch 7/10, Train Loss: 0.1364, Val WMAE: 0.1419, NaN Count: 0\n",
            "Epoch 8/10, Train Loss: 0.1296, Val WMAE: 0.1390, NaN Count: 0\n",
            "Epoch 9/10, Train Loss: 0.1253, Val WMAE: 0.1400, NaN Count: 0\n",
            "Epoch 10/10, Train Loss: 0.1219, Val WMAE: 0.1380, NaN Count: 0\n"
          ]
        },
        {
          "output_type": "display_data",
          "data": {
            "text/plain": [
              "<IPython.core.display.HTML object>"
            ],
            "text/html": []
          },
          "metadata": {}
        },
        {
          "output_type": "display_data",
          "data": {
            "text/plain": [
              "<IPython.core.display.HTML object>"
            ],
            "text/html": [
              "<br>    <style><br>        .wandb-row {<br>            display: flex;<br>            flex-direction: row;<br>            flex-wrap: wrap;<br>            justify-content: flex-start;<br>            width: 100%;<br>        }<br>        .wandb-col {<br>            display: flex;<br>            flex-direction: column;<br>            flex-basis: 100%;<br>            flex: 1;<br>            padding: 10px;<br>        }<br>    </style><br><div class=\"wandb-row\"><div class=\"wandb-col\"><h3>Run history:</h3><br/><table class=\"wandb\"><tr><td>epoch</td><td>▁▂▃▃▄▅▆▆▇█</td></tr><tr><td>nan_count</td><td>▁▁▁▁▁▁▁▁▁▁</td></tr><tr><td>train_loss</td><td>█▄▃▂▂▂▁▁▁▁</td></tr><tr><td>val_wmae</td><td>█▆▄▃▃▂▁▁▁▁</td></tr></table><br/></div><div class=\"wandb-col\"><h3>Run summary:</h3><br/><table class=\"wandb\"><tr><td>epoch</td><td>10</td></tr><tr><td>nan_count</td><td>0</td></tr><tr><td>train_loss</td><td>0.12194</td></tr><tr><td>val_wmae</td><td>0.13801</td></tr></table><br/></div></div>"
            ]
          },
          "metadata": {}
        },
        {
          "output_type": "display_data",
          "data": {
            "text/plain": [
              "<IPython.core.display.HTML object>"
            ],
            "text/html": [
              " View run <strong style=\"color:#cdcd00\">giddy-sweep-5</strong> at: <a href='https://wandb.ai/gtoro22-free-university-of-tbilisi-/walmart-sales-forecasting/runs/bmpk3fmy' target=\"_blank\">https://wandb.ai/gtoro22-free-university-of-tbilisi-/walmart-sales-forecasting/runs/bmpk3fmy</a><br> View project at: <a href='https://wandb.ai/gtoro22-free-university-of-tbilisi-/walmart-sales-forecasting' target=\"_blank\">https://wandb.ai/gtoro22-free-university-of-tbilisi-/walmart-sales-forecasting</a><br>Synced 5 W&B file(s), 0 media file(s), 0 artifact file(s) and 1 other file(s)"
            ]
          },
          "metadata": {}
        },
        {
          "output_type": "display_data",
          "data": {
            "text/plain": [
              "<IPython.core.display.HTML object>"
            ],
            "text/html": [
              "Find logs at: <code>./wandb/run-20250802_065407-bmpk3fmy/logs</code>"
            ]
          },
          "metadata": {}
        },
        {
          "output_type": "stream",
          "name": "stderr",
          "text": [
            "\u001b[34m\u001b[1mwandb\u001b[0m: Agent Starting Run: 6a9hsdqi with config:\n",
            "\u001b[34m\u001b[1mwandb\u001b[0m: \td_model: 32\n",
            "\u001b[34m\u001b[1mwandb\u001b[0m: \tepochs: 10\n",
            "\u001b[34m\u001b[1mwandb\u001b[0m: \tlearning_rate: 0.0001\n",
            "\u001b[34m\u001b[1mwandb\u001b[0m: \tn_layers: 1\n",
            "\u001b[34m\u001b[1mwandb\u001b[0m: \tpatch_len: 8\n",
            "\u001b[34m\u001b[1mwandb\u001b[0m: \tpred_len: 1\n",
            "\u001b[34m\u001b[1mwandb\u001b[0m: \tseq_len: 26\n",
            "\u001b[34m\u001b[1mwandb\u001b[0m: \tstride: 12\n"
          ]
        },
        {
          "output_type": "display_data",
          "data": {
            "text/plain": [
              "<IPython.core.display.HTML object>"
            ],
            "text/html": [
              "Tracking run with wandb version 0.21.0"
            ]
          },
          "metadata": {}
        },
        {
          "output_type": "display_data",
          "data": {
            "text/plain": [
              "<IPython.core.display.HTML object>"
            ],
            "text/html": [
              "Run data is saved locally in <code>/content/wandb/run-20250802_065559-6a9hsdqi</code>"
            ]
          },
          "metadata": {}
        },
        {
          "output_type": "display_data",
          "data": {
            "text/plain": [
              "<IPython.core.display.HTML object>"
            ],
            "text/html": [
              "Syncing run <strong><a href='https://wandb.ai/gtoro22-free-university-of-tbilisi-/walmart-sales-forecasting/runs/6a9hsdqi' target=\"_blank\">brisk-sweep-6</a></strong> to <a href='https://wandb.ai/gtoro22-free-university-of-tbilisi-/walmart-sales-forecasting' target=\"_blank\">Weights & Biases</a> (<a href='https://wandb.me/developer-guide' target=\"_blank\">docs</a>)<br>Sweep page: <a href='https://wandb.ai/gtoro22-free-university-of-tbilisi-/walmart-sales-forecasting/sweeps/2cqrtvqx' target=\"_blank\">https://wandb.ai/gtoro22-free-university-of-tbilisi-/walmart-sales-forecasting/sweeps/2cqrtvqx</a>"
            ]
          },
          "metadata": {}
        },
        {
          "output_type": "display_data",
          "data": {
            "text/plain": [
              "<IPython.core.display.HTML object>"
            ],
            "text/html": [
              " View project at <a href='https://wandb.ai/gtoro22-free-university-of-tbilisi-/walmart-sales-forecasting' target=\"_blank\">https://wandb.ai/gtoro22-free-university-of-tbilisi-/walmart-sales-forecasting</a>"
            ]
          },
          "metadata": {}
        },
        {
          "output_type": "display_data",
          "data": {
            "text/plain": [
              "<IPython.core.display.HTML object>"
            ],
            "text/html": [
              " View sweep at <a href='https://wandb.ai/gtoro22-free-university-of-tbilisi-/walmart-sales-forecasting/sweeps/2cqrtvqx' target=\"_blank\">https://wandb.ai/gtoro22-free-university-of-tbilisi-/walmart-sales-forecasting/sweeps/2cqrtvqx</a>"
            ]
          },
          "metadata": {}
        },
        {
          "output_type": "display_data",
          "data": {
            "text/plain": [
              "<IPython.core.display.HTML object>"
            ],
            "text/html": [
              " View run at <a href='https://wandb.ai/gtoro22-free-university-of-tbilisi-/walmart-sales-forecasting/runs/6a9hsdqi' target=\"_blank\">https://wandb.ai/gtoro22-free-university-of-tbilisi-/walmart-sales-forecasting/runs/6a9hsdqi</a>"
            ]
          },
          "metadata": {}
        },
        {
          "output_type": "stream",
          "name": "stdout",
          "text": [
            "Epoch 1/10, Train Loss: 0.3859, Val WMAE: 0.2131, NaN Count: 0\n",
            "Epoch 2/10, Train Loss: 0.2368, Val WMAE: 0.1896, NaN Count: 0\n",
            "Epoch 3/10, Train Loss: 0.1976, Val WMAE: 0.1794, NaN Count: 0\n",
            "Epoch 4/10, Train Loss: 0.1770, Val WMAE: 0.1793, NaN Count: 0\n",
            "Epoch 5/10, Train Loss: 0.1651, Val WMAE: 0.1670, NaN Count: 0\n",
            "Epoch 6/10, Train Loss: 0.1569, Val WMAE: 0.1645, NaN Count: 0\n",
            "Epoch 7/10, Train Loss: 0.1518, Val WMAE: 0.1624, NaN Count: 0\n",
            "Epoch 8/10, Train Loss: 0.1473, Val WMAE: 0.1576, NaN Count: 0\n",
            "Epoch 9/10, Train Loss: 0.1439, Val WMAE: 0.1597, NaN Count: 0\n",
            "Epoch 10/10, Train Loss: 0.1414, Val WMAE: 0.1560, NaN Count: 0\n"
          ]
        },
        {
          "output_type": "display_data",
          "data": {
            "text/plain": [
              "<IPython.core.display.HTML object>"
            ],
            "text/html": []
          },
          "metadata": {}
        },
        {
          "output_type": "display_data",
          "data": {
            "text/plain": [
              "<IPython.core.display.HTML object>"
            ],
            "text/html": [
              "<br>    <style><br>        .wandb-row {<br>            display: flex;<br>            flex-direction: row;<br>            flex-wrap: wrap;<br>            justify-content: flex-start;<br>            width: 100%;<br>        }<br>        .wandb-col {<br>            display: flex;<br>            flex-direction: column;<br>            flex-basis: 100%;<br>            flex: 1;<br>            padding: 10px;<br>        }<br>    </style><br><div class=\"wandb-row\"><div class=\"wandb-col\"><h3>Run history:</h3><br/><table class=\"wandb\"><tr><td>epoch</td><td>▁▂▃▃▄▅▆▆▇█</td></tr><tr><td>nan_count</td><td>▁▁▁▁▁▁▁▁▁▁</td></tr><tr><td>train_loss</td><td>█▄▃▂▂▁▁▁▁▁</td></tr><tr><td>val_wmae</td><td>█▅▄▄▂▂▂▁▁▁</td></tr></table><br/></div><div class=\"wandb-col\"><h3>Run summary:</h3><br/><table class=\"wandb\"><tr><td>epoch</td><td>10</td></tr><tr><td>nan_count</td><td>0</td></tr><tr><td>train_loss</td><td>0.14136</td></tr><tr><td>val_wmae</td><td>0.15604</td></tr></table><br/></div></div>"
            ]
          },
          "metadata": {}
        },
        {
          "output_type": "display_data",
          "data": {
            "text/plain": [
              "<IPython.core.display.HTML object>"
            ],
            "text/html": [
              " View run <strong style=\"color:#cdcd00\">brisk-sweep-6</strong> at: <a href='https://wandb.ai/gtoro22-free-university-of-tbilisi-/walmart-sales-forecasting/runs/6a9hsdqi' target=\"_blank\">https://wandb.ai/gtoro22-free-university-of-tbilisi-/walmart-sales-forecasting/runs/6a9hsdqi</a><br> View project at: <a href='https://wandb.ai/gtoro22-free-university-of-tbilisi-/walmart-sales-forecasting' target=\"_blank\">https://wandb.ai/gtoro22-free-university-of-tbilisi-/walmart-sales-forecasting</a><br>Synced 5 W&B file(s), 0 media file(s), 0 artifact file(s) and 1 other file(s)"
            ]
          },
          "metadata": {}
        },
        {
          "output_type": "display_data",
          "data": {
            "text/plain": [
              "<IPython.core.display.HTML object>"
            ],
            "text/html": [
              "Find logs at: <code>./wandb/run-20250802_065559-6a9hsdqi/logs</code>"
            ]
          },
          "metadata": {}
        },
        {
          "output_type": "stream",
          "name": "stderr",
          "text": [
            "\u001b[34m\u001b[1mwandb\u001b[0m: Agent Starting Run: a7lbgfcl with config:\n",
            "\u001b[34m\u001b[1mwandb\u001b[0m: \td_model: 32\n",
            "\u001b[34m\u001b[1mwandb\u001b[0m: \tepochs: 10\n",
            "\u001b[34m\u001b[1mwandb\u001b[0m: \tlearning_rate: 0.0001\n",
            "\u001b[34m\u001b[1mwandb\u001b[0m: \tn_layers: 1\n",
            "\u001b[34m\u001b[1mwandb\u001b[0m: \tpatch_len: 12\n",
            "\u001b[34m\u001b[1mwandb\u001b[0m: \tpred_len: 1\n",
            "\u001b[34m\u001b[1mwandb\u001b[0m: \tseq_len: 26\n",
            "\u001b[34m\u001b[1mwandb\u001b[0m: \tstride: 4\n"
          ]
        },
        {
          "output_type": "display_data",
          "data": {
            "text/plain": [
              "<IPython.core.display.HTML object>"
            ],
            "text/html": [
              "Tracking run with wandb version 0.21.0"
            ]
          },
          "metadata": {}
        },
        {
          "output_type": "display_data",
          "data": {
            "text/plain": [
              "<IPython.core.display.HTML object>"
            ],
            "text/html": [
              "Run data is saved locally in <code>/content/wandb/run-20250802_065750-a7lbgfcl</code>"
            ]
          },
          "metadata": {}
        },
        {
          "output_type": "display_data",
          "data": {
            "text/plain": [
              "<IPython.core.display.HTML object>"
            ],
            "text/html": [
              "Syncing run <strong><a href='https://wandb.ai/gtoro22-free-university-of-tbilisi-/walmart-sales-forecasting/runs/a7lbgfcl' target=\"_blank\">confused-sweep-7</a></strong> to <a href='https://wandb.ai/gtoro22-free-university-of-tbilisi-/walmart-sales-forecasting' target=\"_blank\">Weights & Biases</a> (<a href='https://wandb.me/developer-guide' target=\"_blank\">docs</a>)<br>Sweep page: <a href='https://wandb.ai/gtoro22-free-university-of-tbilisi-/walmart-sales-forecasting/sweeps/2cqrtvqx' target=\"_blank\">https://wandb.ai/gtoro22-free-university-of-tbilisi-/walmart-sales-forecasting/sweeps/2cqrtvqx</a>"
            ]
          },
          "metadata": {}
        },
        {
          "output_type": "display_data",
          "data": {
            "text/plain": [
              "<IPython.core.display.HTML object>"
            ],
            "text/html": [
              " View project at <a href='https://wandb.ai/gtoro22-free-university-of-tbilisi-/walmart-sales-forecasting' target=\"_blank\">https://wandb.ai/gtoro22-free-university-of-tbilisi-/walmart-sales-forecasting</a>"
            ]
          },
          "metadata": {}
        },
        {
          "output_type": "display_data",
          "data": {
            "text/plain": [
              "<IPython.core.display.HTML object>"
            ],
            "text/html": [
              " View sweep at <a href='https://wandb.ai/gtoro22-free-university-of-tbilisi-/walmart-sales-forecasting/sweeps/2cqrtvqx' target=\"_blank\">https://wandb.ai/gtoro22-free-university-of-tbilisi-/walmart-sales-forecasting/sweeps/2cqrtvqx</a>"
            ]
          },
          "metadata": {}
        },
        {
          "output_type": "display_data",
          "data": {
            "text/plain": [
              "<IPython.core.display.HTML object>"
            ],
            "text/html": [
              " View run at <a href='https://wandb.ai/gtoro22-free-university-of-tbilisi-/walmart-sales-forecasting/runs/a7lbgfcl' target=\"_blank\">https://wandb.ai/gtoro22-free-university-of-tbilisi-/walmart-sales-forecasting/runs/a7lbgfcl</a>"
            ]
          },
          "metadata": {}
        },
        {
          "output_type": "stream",
          "name": "stdout",
          "text": [
            "Epoch 1/10, Train Loss: 0.3791, Val WMAE: 0.2113, NaN Count: 0\n",
            "Epoch 2/10, Train Loss: 0.2336, Val WMAE: 0.1792, NaN Count: 0\n",
            "Epoch 3/10, Train Loss: 0.1905, Val WMAE: 0.1773, NaN Count: 0\n",
            "Epoch 4/10, Train Loss: 0.1680, Val WMAE: 0.1621, NaN Count: 0\n",
            "Epoch 5/10, Train Loss: 0.1532, Val WMAE: 0.1541, NaN Count: 0\n",
            "Epoch 6/10, Train Loss: 0.1433, Val WMAE: 0.1522, NaN Count: 0\n",
            "Epoch 7/10, Train Loss: 0.1355, Val WMAE: 0.1483, NaN Count: 0\n",
            "Epoch 8/10, Train Loss: 0.1301, Val WMAE: 0.1498, NaN Count: 0\n",
            "Epoch 9/10, Train Loss: 0.1246, Val WMAE: 0.1438, NaN Count: 0\n",
            "Epoch 10/10, Train Loss: 0.1212, Val WMAE: 0.1387, NaN Count: 0\n"
          ]
        },
        {
          "output_type": "display_data",
          "data": {
            "text/plain": [
              "<IPython.core.display.HTML object>"
            ],
            "text/html": []
          },
          "metadata": {}
        },
        {
          "output_type": "display_data",
          "data": {
            "text/plain": [
              "<IPython.core.display.HTML object>"
            ],
            "text/html": [
              "<br>    <style><br>        .wandb-row {<br>            display: flex;<br>            flex-direction: row;<br>            flex-wrap: wrap;<br>            justify-content: flex-start;<br>            width: 100%;<br>        }<br>        .wandb-col {<br>            display: flex;<br>            flex-direction: column;<br>            flex-basis: 100%;<br>            flex: 1;<br>            padding: 10px;<br>        }<br>    </style><br><div class=\"wandb-row\"><div class=\"wandb-col\"><h3>Run history:</h3><br/><table class=\"wandb\"><tr><td>epoch</td><td>▁▂▃▃▄▅▆▆▇█</td></tr><tr><td>nan_count</td><td>▁▁▁▁▁▁▁▁▁▁</td></tr><tr><td>train_loss</td><td>█▄▃▂▂▂▁▁▁▁</td></tr><tr><td>val_wmae</td><td>█▅▅▃▂▂▂▂▁▁</td></tr></table><br/></div><div class=\"wandb-col\"><h3>Run summary:</h3><br/><table class=\"wandb\"><tr><td>epoch</td><td>10</td></tr><tr><td>nan_count</td><td>0</td></tr><tr><td>train_loss</td><td>0.12115</td></tr><tr><td>val_wmae</td><td>0.13869</td></tr></table><br/></div></div>"
            ]
          },
          "metadata": {}
        },
        {
          "output_type": "display_data",
          "data": {
            "text/plain": [
              "<IPython.core.display.HTML object>"
            ],
            "text/html": [
              " View run <strong style=\"color:#cdcd00\">confused-sweep-7</strong> at: <a href='https://wandb.ai/gtoro22-free-university-of-tbilisi-/walmart-sales-forecasting/runs/a7lbgfcl' target=\"_blank\">https://wandb.ai/gtoro22-free-university-of-tbilisi-/walmart-sales-forecasting/runs/a7lbgfcl</a><br> View project at: <a href='https://wandb.ai/gtoro22-free-university-of-tbilisi-/walmart-sales-forecasting' target=\"_blank\">https://wandb.ai/gtoro22-free-university-of-tbilisi-/walmart-sales-forecasting</a><br>Synced 5 W&B file(s), 0 media file(s), 0 artifact file(s) and 1 other file(s)"
            ]
          },
          "metadata": {}
        },
        {
          "output_type": "display_data",
          "data": {
            "text/plain": [
              "<IPython.core.display.HTML object>"
            ],
            "text/html": [
              "Find logs at: <code>./wandb/run-20250802_065750-a7lbgfcl/logs</code>"
            ]
          },
          "metadata": {}
        },
        {
          "output_type": "stream",
          "name": "stderr",
          "text": [
            "\u001b[34m\u001b[1mwandb\u001b[0m: Agent Starting Run: j8o560yh with config:\n",
            "\u001b[34m\u001b[1mwandb\u001b[0m: \td_model: 32\n",
            "\u001b[34m\u001b[1mwandb\u001b[0m: \tepochs: 10\n",
            "\u001b[34m\u001b[1mwandb\u001b[0m: \tlearning_rate: 0.0001\n",
            "\u001b[34m\u001b[1mwandb\u001b[0m: \tn_layers: 1\n",
            "\u001b[34m\u001b[1mwandb\u001b[0m: \tpatch_len: 12\n",
            "\u001b[34m\u001b[1mwandb\u001b[0m: \tpred_len: 1\n",
            "\u001b[34m\u001b[1mwandb\u001b[0m: \tseq_len: 26\n",
            "\u001b[34m\u001b[1mwandb\u001b[0m: \tstride: 8\n"
          ]
        },
        {
          "output_type": "display_data",
          "data": {
            "text/plain": [
              "<IPython.core.display.HTML object>"
            ],
            "text/html": [
              "Tracking run with wandb version 0.21.0"
            ]
          },
          "metadata": {}
        },
        {
          "output_type": "display_data",
          "data": {
            "text/plain": [
              "<IPython.core.display.HTML object>"
            ],
            "text/html": [
              "Run data is saved locally in <code>/content/wandb/run-20250802_065946-j8o560yh</code>"
            ]
          },
          "metadata": {}
        },
        {
          "output_type": "display_data",
          "data": {
            "text/plain": [
              "<IPython.core.display.HTML object>"
            ],
            "text/html": [
              "Syncing run <strong><a href='https://wandb.ai/gtoro22-free-university-of-tbilisi-/walmart-sales-forecasting/runs/j8o560yh' target=\"_blank\">cerulean-sweep-8</a></strong> to <a href='https://wandb.ai/gtoro22-free-university-of-tbilisi-/walmart-sales-forecasting' target=\"_blank\">Weights & Biases</a> (<a href='https://wandb.me/developer-guide' target=\"_blank\">docs</a>)<br>Sweep page: <a href='https://wandb.ai/gtoro22-free-university-of-tbilisi-/walmart-sales-forecasting/sweeps/2cqrtvqx' target=\"_blank\">https://wandb.ai/gtoro22-free-university-of-tbilisi-/walmart-sales-forecasting/sweeps/2cqrtvqx</a>"
            ]
          },
          "metadata": {}
        },
        {
          "output_type": "display_data",
          "data": {
            "text/plain": [
              "<IPython.core.display.HTML object>"
            ],
            "text/html": [
              " View project at <a href='https://wandb.ai/gtoro22-free-university-of-tbilisi-/walmart-sales-forecasting' target=\"_blank\">https://wandb.ai/gtoro22-free-university-of-tbilisi-/walmart-sales-forecasting</a>"
            ]
          },
          "metadata": {}
        },
        {
          "output_type": "display_data",
          "data": {
            "text/plain": [
              "<IPython.core.display.HTML object>"
            ],
            "text/html": [
              " View sweep at <a href='https://wandb.ai/gtoro22-free-university-of-tbilisi-/walmart-sales-forecasting/sweeps/2cqrtvqx' target=\"_blank\">https://wandb.ai/gtoro22-free-university-of-tbilisi-/walmart-sales-forecasting/sweeps/2cqrtvqx</a>"
            ]
          },
          "metadata": {}
        },
        {
          "output_type": "display_data",
          "data": {
            "text/plain": [
              "<IPython.core.display.HTML object>"
            ],
            "text/html": [
              " View run at <a href='https://wandb.ai/gtoro22-free-university-of-tbilisi-/walmart-sales-forecasting/runs/j8o560yh' target=\"_blank\">https://wandb.ai/gtoro22-free-university-of-tbilisi-/walmart-sales-forecasting/runs/j8o560yh</a>"
            ]
          },
          "metadata": {}
        },
        {
          "output_type": "stream",
          "name": "stdout",
          "text": [
            "Epoch 1/10, Train Loss: 0.3843, Val WMAE: 0.2076, NaN Count: 0\n",
            "Epoch 2/10, Train Loss: 0.2406, Val WMAE: 0.1840, NaN Count: 0\n",
            "Epoch 3/10, Train Loss: 0.1951, Val WMAE: 0.1758, NaN Count: 0\n",
            "Epoch 4/10, Train Loss: 0.1740, Val WMAE: 0.1685, NaN Count: 0\n",
            "Epoch 5/10, Train Loss: 0.1617, Val WMAE: 0.1644, NaN Count: 0\n",
            "Epoch 6/10, Train Loss: 0.1544, Val WMAE: 0.1625, NaN Count: 0\n",
            "Epoch 7/10, Train Loss: 0.1490, Val WMAE: 0.1608, NaN Count: 0\n",
            "Epoch 8/10, Train Loss: 0.1441, Val WMAE: 0.1638, NaN Count: 0\n",
            "Epoch 9/10, Train Loss: 0.1419, Val WMAE: 0.1567, NaN Count: 0\n",
            "Epoch 10/10, Train Loss: 0.1392, Val WMAE: 0.1580, NaN Count: 0\n"
          ]
        },
        {
          "output_type": "display_data",
          "data": {
            "text/plain": [
              "<IPython.core.display.HTML object>"
            ],
            "text/html": []
          },
          "metadata": {}
        },
        {
          "output_type": "display_data",
          "data": {
            "text/plain": [
              "<IPython.core.display.HTML object>"
            ],
            "text/html": [
              "<br>    <style><br>        .wandb-row {<br>            display: flex;<br>            flex-direction: row;<br>            flex-wrap: wrap;<br>            justify-content: flex-start;<br>            width: 100%;<br>        }<br>        .wandb-col {<br>            display: flex;<br>            flex-direction: column;<br>            flex-basis: 100%;<br>            flex: 1;<br>            padding: 10px;<br>        }<br>    </style><br><div class=\"wandb-row\"><div class=\"wandb-col\"><h3>Run history:</h3><br/><table class=\"wandb\"><tr><td>epoch</td><td>▁▂▃▃▄▅▆▆▇█</td></tr><tr><td>nan_count</td><td>▁▁▁▁▁▁▁▁▁▁</td></tr><tr><td>train_loss</td><td>█▄▃▂▂▁▁▁▁▁</td></tr><tr><td>val_wmae</td><td>█▅▄▃▂▂▂▂▁▁</td></tr></table><br/></div><div class=\"wandb-col\"><h3>Run summary:</h3><br/><table class=\"wandb\"><tr><td>epoch</td><td>10</td></tr><tr><td>nan_count</td><td>0</td></tr><tr><td>train_loss</td><td>0.13918</td></tr><tr><td>val_wmae</td><td>0.15797</td></tr></table><br/></div></div>"
            ]
          },
          "metadata": {}
        },
        {
          "output_type": "display_data",
          "data": {
            "text/plain": [
              "<IPython.core.display.HTML object>"
            ],
            "text/html": [
              " View run <strong style=\"color:#cdcd00\">cerulean-sweep-8</strong> at: <a href='https://wandb.ai/gtoro22-free-university-of-tbilisi-/walmart-sales-forecasting/runs/j8o560yh' target=\"_blank\">https://wandb.ai/gtoro22-free-university-of-tbilisi-/walmart-sales-forecasting/runs/j8o560yh</a><br> View project at: <a href='https://wandb.ai/gtoro22-free-university-of-tbilisi-/walmart-sales-forecasting' target=\"_blank\">https://wandb.ai/gtoro22-free-university-of-tbilisi-/walmart-sales-forecasting</a><br>Synced 5 W&B file(s), 0 media file(s), 0 artifact file(s) and 1 other file(s)"
            ]
          },
          "metadata": {}
        },
        {
          "output_type": "display_data",
          "data": {
            "text/plain": [
              "<IPython.core.display.HTML object>"
            ],
            "text/html": [
              "Find logs at: <code>./wandb/run-20250802_065946-j8o560yh/logs</code>"
            ]
          },
          "metadata": {}
        },
        {
          "output_type": "stream",
          "name": "stderr",
          "text": [
            "\u001b[34m\u001b[1mwandb\u001b[0m: Agent Starting Run: vvwg4jt2 with config:\n",
            "\u001b[34m\u001b[1mwandb\u001b[0m: \td_model: 32\n",
            "\u001b[34m\u001b[1mwandb\u001b[0m: \tepochs: 10\n",
            "\u001b[34m\u001b[1mwandb\u001b[0m: \tlearning_rate: 0.0001\n",
            "\u001b[34m\u001b[1mwandb\u001b[0m: \tn_layers: 1\n",
            "\u001b[34m\u001b[1mwandb\u001b[0m: \tpatch_len: 12\n",
            "\u001b[34m\u001b[1mwandb\u001b[0m: \tpred_len: 1\n",
            "\u001b[34m\u001b[1mwandb\u001b[0m: \tseq_len: 26\n",
            "\u001b[34m\u001b[1mwandb\u001b[0m: \tstride: 12\n"
          ]
        },
        {
          "output_type": "display_data",
          "data": {
            "text/plain": [
              "<IPython.core.display.HTML object>"
            ],
            "text/html": [
              "Tracking run with wandb version 0.21.0"
            ]
          },
          "metadata": {}
        },
        {
          "output_type": "display_data",
          "data": {
            "text/plain": [
              "<IPython.core.display.HTML object>"
            ],
            "text/html": [
              "Run data is saved locally in <code>/content/wandb/run-20250802_070139-vvwg4jt2</code>"
            ]
          },
          "metadata": {}
        },
        {
          "output_type": "display_data",
          "data": {
            "text/plain": [
              "<IPython.core.display.HTML object>"
            ],
            "text/html": [
              "Syncing run <strong><a href='https://wandb.ai/gtoro22-free-university-of-tbilisi-/walmart-sales-forecasting/runs/vvwg4jt2' target=\"_blank\">absurd-sweep-9</a></strong> to <a href='https://wandb.ai/gtoro22-free-university-of-tbilisi-/walmart-sales-forecasting' target=\"_blank\">Weights & Biases</a> (<a href='https://wandb.me/developer-guide' target=\"_blank\">docs</a>)<br>Sweep page: <a href='https://wandb.ai/gtoro22-free-university-of-tbilisi-/walmart-sales-forecasting/sweeps/2cqrtvqx' target=\"_blank\">https://wandb.ai/gtoro22-free-university-of-tbilisi-/walmart-sales-forecasting/sweeps/2cqrtvqx</a>"
            ]
          },
          "metadata": {}
        },
        {
          "output_type": "display_data",
          "data": {
            "text/plain": [
              "<IPython.core.display.HTML object>"
            ],
            "text/html": [
              " View project at <a href='https://wandb.ai/gtoro22-free-university-of-tbilisi-/walmart-sales-forecasting' target=\"_blank\">https://wandb.ai/gtoro22-free-university-of-tbilisi-/walmart-sales-forecasting</a>"
            ]
          },
          "metadata": {}
        },
        {
          "output_type": "display_data",
          "data": {
            "text/plain": [
              "<IPython.core.display.HTML object>"
            ],
            "text/html": [
              " View sweep at <a href='https://wandb.ai/gtoro22-free-university-of-tbilisi-/walmart-sales-forecasting/sweeps/2cqrtvqx' target=\"_blank\">https://wandb.ai/gtoro22-free-university-of-tbilisi-/walmart-sales-forecasting/sweeps/2cqrtvqx</a>"
            ]
          },
          "metadata": {}
        },
        {
          "output_type": "display_data",
          "data": {
            "text/plain": [
              "<IPython.core.display.HTML object>"
            ],
            "text/html": [
              " View run at <a href='https://wandb.ai/gtoro22-free-university-of-tbilisi-/walmart-sales-forecasting/runs/vvwg4jt2' target=\"_blank\">https://wandb.ai/gtoro22-free-university-of-tbilisi-/walmart-sales-forecasting/runs/vvwg4jt2</a>"
            ]
          },
          "metadata": {}
        },
        {
          "output_type": "stream",
          "name": "stdout",
          "text": [
            "Epoch 1/10, Train Loss: 0.3893, Val WMAE: 0.1858, NaN Count: 0\n",
            "Epoch 2/10, Train Loss: 0.2248, Val WMAE: 0.1746, NaN Count: 0\n",
            "Epoch 3/10, Train Loss: 0.1841, Val WMAE: 0.1607, NaN Count: 0\n",
            "Epoch 4/10, Train Loss: 0.1645, Val WMAE: 0.1561, NaN Count: 0\n",
            "Epoch 5/10, Train Loss: 0.1544, Val WMAE: 0.1522, NaN Count: 0\n",
            "Epoch 6/10, Train Loss: 0.1450, Val WMAE: 0.1475, NaN Count: 0\n",
            "Epoch 7/10, Train Loss: 0.1385, Val WMAE: 0.1416, NaN Count: 0\n",
            "Epoch 8/10, Train Loss: 0.1334, Val WMAE: 0.1416, NaN Count: 0\n",
            "Epoch 9/10, Train Loss: 0.1284, Val WMAE: 0.1376, NaN Count: 0\n",
            "Epoch 10/10, Train Loss: 0.1239, Val WMAE: 0.1357, NaN Count: 0\n"
          ]
        },
        {
          "output_type": "display_data",
          "data": {
            "text/plain": [
              "<IPython.core.display.HTML object>"
            ],
            "text/html": []
          },
          "metadata": {}
        },
        {
          "output_type": "display_data",
          "data": {
            "text/plain": [
              "<IPython.core.display.HTML object>"
            ],
            "text/html": [
              "<br>    <style><br>        .wandb-row {<br>            display: flex;<br>            flex-direction: row;<br>            flex-wrap: wrap;<br>            justify-content: flex-start;<br>            width: 100%;<br>        }<br>        .wandb-col {<br>            display: flex;<br>            flex-direction: column;<br>            flex-basis: 100%;<br>            flex: 1;<br>            padding: 10px;<br>        }<br>    </style><br><div class=\"wandb-row\"><div class=\"wandb-col\"><h3>Run history:</h3><br/><table class=\"wandb\"><tr><td>epoch</td><td>▁▂▃▃▄▅▆▆▇█</td></tr><tr><td>nan_count</td><td>▁▁▁▁▁▁▁▁▁▁</td></tr><tr><td>train_loss</td><td>█▄▃▂▂▂▁▁▁▁</td></tr><tr><td>val_wmae</td><td>█▆▄▄▃▃▂▂▁▁</td></tr></table><br/></div><div class=\"wandb-col\"><h3>Run summary:</h3><br/><table class=\"wandb\"><tr><td>epoch</td><td>10</td></tr><tr><td>nan_count</td><td>0</td></tr><tr><td>train_loss</td><td>0.12385</td></tr><tr><td>val_wmae</td><td>0.13566</td></tr></table><br/></div></div>"
            ]
          },
          "metadata": {}
        },
        {
          "output_type": "display_data",
          "data": {
            "text/plain": [
              "<IPython.core.display.HTML object>"
            ],
            "text/html": [
              " View run <strong style=\"color:#cdcd00\">absurd-sweep-9</strong> at: <a href='https://wandb.ai/gtoro22-free-university-of-tbilisi-/walmart-sales-forecasting/runs/vvwg4jt2' target=\"_blank\">https://wandb.ai/gtoro22-free-university-of-tbilisi-/walmart-sales-forecasting/runs/vvwg4jt2</a><br> View project at: <a href='https://wandb.ai/gtoro22-free-university-of-tbilisi-/walmart-sales-forecasting' target=\"_blank\">https://wandb.ai/gtoro22-free-university-of-tbilisi-/walmart-sales-forecasting</a><br>Synced 5 W&B file(s), 0 media file(s), 0 artifact file(s) and 1 other file(s)"
            ]
          },
          "metadata": {}
        },
        {
          "output_type": "display_data",
          "data": {
            "text/plain": [
              "<IPython.core.display.HTML object>"
            ],
            "text/html": [
              "Find logs at: <code>./wandb/run-20250802_070139-vvwg4jt2/logs</code>"
            ]
          },
          "metadata": {}
        },
        {
          "output_type": "stream",
          "name": "stderr",
          "text": [
            "\u001b[34m\u001b[1mwandb\u001b[0m: Agent Starting Run: cbxzgxwe with config:\n",
            "\u001b[34m\u001b[1mwandb\u001b[0m: \td_model: 32\n",
            "\u001b[34m\u001b[1mwandb\u001b[0m: \tepochs: 10\n",
            "\u001b[34m\u001b[1mwandb\u001b[0m: \tlearning_rate: 0.0001\n",
            "\u001b[34m\u001b[1mwandb\u001b[0m: \tn_layers: 2\n",
            "\u001b[34m\u001b[1mwandb\u001b[0m: \tpatch_len: 4\n",
            "\u001b[34m\u001b[1mwandb\u001b[0m: \tpred_len: 1\n",
            "\u001b[34m\u001b[1mwandb\u001b[0m: \tseq_len: 26\n",
            "\u001b[34m\u001b[1mwandb\u001b[0m: \tstride: 4\n"
          ]
        },
        {
          "output_type": "display_data",
          "data": {
            "text/plain": [
              "<IPython.core.display.HTML object>"
            ],
            "text/html": [
              "Tracking run with wandb version 0.21.0"
            ]
          },
          "metadata": {}
        },
        {
          "output_type": "display_data",
          "data": {
            "text/plain": [
              "<IPython.core.display.HTML object>"
            ],
            "text/html": [
              "Run data is saved locally in <code>/content/wandb/run-20250802_070330-cbxzgxwe</code>"
            ]
          },
          "metadata": {}
        },
        {
          "output_type": "display_data",
          "data": {
            "text/plain": [
              "<IPython.core.display.HTML object>"
            ],
            "text/html": [
              "Syncing run <strong><a href='https://wandb.ai/gtoro22-free-university-of-tbilisi-/walmart-sales-forecasting/runs/cbxzgxwe' target=\"_blank\">graceful-sweep-10</a></strong> to <a href='https://wandb.ai/gtoro22-free-university-of-tbilisi-/walmart-sales-forecasting' target=\"_blank\">Weights & Biases</a> (<a href='https://wandb.me/developer-guide' target=\"_blank\">docs</a>)<br>Sweep page: <a href='https://wandb.ai/gtoro22-free-university-of-tbilisi-/walmart-sales-forecasting/sweeps/2cqrtvqx' target=\"_blank\">https://wandb.ai/gtoro22-free-university-of-tbilisi-/walmart-sales-forecasting/sweeps/2cqrtvqx</a>"
            ]
          },
          "metadata": {}
        },
        {
          "output_type": "display_data",
          "data": {
            "text/plain": [
              "<IPython.core.display.HTML object>"
            ],
            "text/html": [
              " View project at <a href='https://wandb.ai/gtoro22-free-university-of-tbilisi-/walmart-sales-forecasting' target=\"_blank\">https://wandb.ai/gtoro22-free-university-of-tbilisi-/walmart-sales-forecasting</a>"
            ]
          },
          "metadata": {}
        },
        {
          "output_type": "display_data",
          "data": {
            "text/plain": [
              "<IPython.core.display.HTML object>"
            ],
            "text/html": [
              " View sweep at <a href='https://wandb.ai/gtoro22-free-university-of-tbilisi-/walmart-sales-forecasting/sweeps/2cqrtvqx' target=\"_blank\">https://wandb.ai/gtoro22-free-university-of-tbilisi-/walmart-sales-forecasting/sweeps/2cqrtvqx</a>"
            ]
          },
          "metadata": {}
        },
        {
          "output_type": "display_data",
          "data": {
            "text/plain": [
              "<IPython.core.display.HTML object>"
            ],
            "text/html": [
              " View run at <a href='https://wandb.ai/gtoro22-free-university-of-tbilisi-/walmart-sales-forecasting/runs/cbxzgxwe' target=\"_blank\">https://wandb.ai/gtoro22-free-university-of-tbilisi-/walmart-sales-forecasting/runs/cbxzgxwe</a>"
            ]
          },
          "metadata": {}
        },
        {
          "output_type": "stream",
          "name": "stdout",
          "text": [
            "Epoch 1/10, Train Loss: 0.4357, Val WMAE: 0.2143, NaN Count: 0\n",
            "Epoch 2/10, Train Loss: 0.2612, Val WMAE: 0.1982, NaN Count: 0\n",
            "Epoch 3/10, Train Loss: 0.2111, Val WMAE: 0.1868, NaN Count: 0\n",
            "Epoch 4/10, Train Loss: 0.1822, Val WMAE: 0.1722, NaN Count: 0\n",
            "Epoch 5/10, Train Loss: 0.1652, Val WMAE: 0.1653, NaN Count: 0\n",
            "Epoch 6/10, Train Loss: 0.1553, Val WMAE: 0.1595, NaN Count: 0\n",
            "Epoch 7/10, Train Loss: 0.1474, Val WMAE: 0.1512, NaN Count: 0\n",
            "Epoch 8/10, Train Loss: 0.1409, Val WMAE: 0.1602, NaN Count: 0\n",
            "Epoch 9/10, Train Loss: 0.1361, Val WMAE: 0.1439, NaN Count: 0\n",
            "Epoch 10/10, Train Loss: 0.1314, Val WMAE: 0.1472, NaN Count: 0\n"
          ]
        },
        {
          "output_type": "display_data",
          "data": {
            "text/plain": [
              "<IPython.core.display.HTML object>"
            ],
            "text/html": []
          },
          "metadata": {}
        },
        {
          "output_type": "display_data",
          "data": {
            "text/plain": [
              "<IPython.core.display.HTML object>"
            ],
            "text/html": [
              "<br>    <style><br>        .wandb-row {<br>            display: flex;<br>            flex-direction: row;<br>            flex-wrap: wrap;<br>            justify-content: flex-start;<br>            width: 100%;<br>        }<br>        .wandb-col {<br>            display: flex;<br>            flex-direction: column;<br>            flex-basis: 100%;<br>            flex: 1;<br>            padding: 10px;<br>        }<br>    </style><br><div class=\"wandb-row\"><div class=\"wandb-col\"><h3>Run history:</h3><br/><table class=\"wandb\"><tr><td>epoch</td><td>▁▂▃▃▄▅▆▆▇█</td></tr><tr><td>nan_count</td><td>▁▁▁▁▁▁▁▁▁▁</td></tr><tr><td>train_loss</td><td>█▄▃▂▂▂▁▁▁▁</td></tr><tr><td>val_wmae</td><td>█▆▅▄▃▃▂▃▁▁</td></tr></table><br/></div><div class=\"wandb-col\"><h3>Run summary:</h3><br/><table class=\"wandb\"><tr><td>epoch</td><td>10</td></tr><tr><td>nan_count</td><td>0</td></tr><tr><td>train_loss</td><td>0.13138</td></tr><tr><td>val_wmae</td><td>0.14716</td></tr></table><br/></div></div>"
            ]
          },
          "metadata": {}
        },
        {
          "output_type": "display_data",
          "data": {
            "text/plain": [
              "<IPython.core.display.HTML object>"
            ],
            "text/html": [
              " View run <strong style=\"color:#cdcd00\">graceful-sweep-10</strong> at: <a href='https://wandb.ai/gtoro22-free-university-of-tbilisi-/walmart-sales-forecasting/runs/cbxzgxwe' target=\"_blank\">https://wandb.ai/gtoro22-free-university-of-tbilisi-/walmart-sales-forecasting/runs/cbxzgxwe</a><br> View project at: <a href='https://wandb.ai/gtoro22-free-university-of-tbilisi-/walmart-sales-forecasting' target=\"_blank\">https://wandb.ai/gtoro22-free-university-of-tbilisi-/walmart-sales-forecasting</a><br>Synced 5 W&B file(s), 0 media file(s), 0 artifact file(s) and 1 other file(s)"
            ]
          },
          "metadata": {}
        },
        {
          "output_type": "display_data",
          "data": {
            "text/plain": [
              "<IPython.core.display.HTML object>"
            ],
            "text/html": [
              "Find logs at: <code>./wandb/run-20250802_070330-cbxzgxwe/logs</code>"
            ]
          },
          "metadata": {}
        },
        {
          "output_type": "stream",
          "name": "stderr",
          "text": [
            "\u001b[34m\u001b[1mwandb\u001b[0m: Sweep Agent: Waiting for job.\n",
            "\u001b[34m\u001b[1mwandb\u001b[0m: Job received.\n",
            "\u001b[34m\u001b[1mwandb\u001b[0m: Agent Starting Run: n6snak8o with config:\n",
            "\u001b[34m\u001b[1mwandb\u001b[0m: \td_model: 32\n",
            "\u001b[34m\u001b[1mwandb\u001b[0m: \tepochs: 10\n",
            "\u001b[34m\u001b[1mwandb\u001b[0m: \tlearning_rate: 0.0001\n",
            "\u001b[34m\u001b[1mwandb\u001b[0m: \tn_layers: 2\n",
            "\u001b[34m\u001b[1mwandb\u001b[0m: \tpatch_len: 4\n",
            "\u001b[34m\u001b[1mwandb\u001b[0m: \tpred_len: 1\n",
            "\u001b[34m\u001b[1mwandb\u001b[0m: \tseq_len: 26\n",
            "\u001b[34m\u001b[1mwandb\u001b[0m: \tstride: 8\n"
          ]
        },
        {
          "output_type": "display_data",
          "data": {
            "text/plain": [
              "<IPython.core.display.HTML object>"
            ],
            "text/html": [
              "Tracking run with wandb version 0.21.0"
            ]
          },
          "metadata": {}
        },
        {
          "output_type": "display_data",
          "data": {
            "text/plain": [
              "<IPython.core.display.HTML object>"
            ],
            "text/html": [
              "Run data is saved locally in <code>/content/wandb/run-20250802_070658-n6snak8o</code>"
            ]
          },
          "metadata": {}
        },
        {
          "output_type": "display_data",
          "data": {
            "text/plain": [
              "<IPython.core.display.HTML object>"
            ],
            "text/html": [
              "Syncing run <strong><a href='https://wandb.ai/gtoro22-free-university-of-tbilisi-/walmart-sales-forecasting/runs/n6snak8o' target=\"_blank\">silvery-sweep-11</a></strong> to <a href='https://wandb.ai/gtoro22-free-university-of-tbilisi-/walmart-sales-forecasting' target=\"_blank\">Weights & Biases</a> (<a href='https://wandb.me/developer-guide' target=\"_blank\">docs</a>)<br>Sweep page: <a href='https://wandb.ai/gtoro22-free-university-of-tbilisi-/walmart-sales-forecasting/sweeps/2cqrtvqx' target=\"_blank\">https://wandb.ai/gtoro22-free-university-of-tbilisi-/walmart-sales-forecasting/sweeps/2cqrtvqx</a>"
            ]
          },
          "metadata": {}
        },
        {
          "output_type": "display_data",
          "data": {
            "text/plain": [
              "<IPython.core.display.HTML object>"
            ],
            "text/html": [
              " View project at <a href='https://wandb.ai/gtoro22-free-university-of-tbilisi-/walmart-sales-forecasting' target=\"_blank\">https://wandb.ai/gtoro22-free-university-of-tbilisi-/walmart-sales-forecasting</a>"
            ]
          },
          "metadata": {}
        },
        {
          "output_type": "display_data",
          "data": {
            "text/plain": [
              "<IPython.core.display.HTML object>"
            ],
            "text/html": [
              " View sweep at <a href='https://wandb.ai/gtoro22-free-university-of-tbilisi-/walmart-sales-forecasting/sweeps/2cqrtvqx' target=\"_blank\">https://wandb.ai/gtoro22-free-university-of-tbilisi-/walmart-sales-forecasting/sweeps/2cqrtvqx</a>"
            ]
          },
          "metadata": {}
        },
        {
          "output_type": "display_data",
          "data": {
            "text/plain": [
              "<IPython.core.display.HTML object>"
            ],
            "text/html": [
              " View run at <a href='https://wandb.ai/gtoro22-free-university-of-tbilisi-/walmart-sales-forecasting/runs/n6snak8o' target=\"_blank\">https://wandb.ai/gtoro22-free-university-of-tbilisi-/walmart-sales-forecasting/runs/n6snak8o</a>"
            ]
          },
          "metadata": {}
        },
        {
          "output_type": "stream",
          "name": "stdout",
          "text": [
            "Epoch 1/10, Train Loss: 0.4137, Val WMAE: 0.2113, NaN Count: 0\n",
            "Epoch 2/10, Train Loss: 0.2412, Val WMAE: 0.1879, NaN Count: 0\n",
            "Epoch 3/10, Train Loss: 0.2029, Val WMAE: 0.1773, NaN Count: 0\n",
            "Epoch 4/10, Train Loss: 0.1830, Val WMAE: 0.1718, NaN Count: 0\n",
            "Epoch 5/10, Train Loss: 0.1701, Val WMAE: 0.1739, NaN Count: 0\n",
            "Epoch 6/10, Train Loss: 0.1609, Val WMAE: 0.1693, NaN Count: 0\n",
            "Epoch 7/10, Train Loss: 0.1550, Val WMAE: 0.1580, NaN Count: 0\n",
            "Epoch 8/10, Train Loss: 0.1506, Val WMAE: 0.1544, NaN Count: 0\n",
            "Epoch 9/10, Train Loss: 0.1461, Val WMAE: 0.1519, NaN Count: 0\n",
            "Epoch 10/10, Train Loss: 0.1416, Val WMAE: 0.1654, NaN Count: 0\n"
          ]
        },
        {
          "output_type": "display_data",
          "data": {
            "text/plain": [
              "<IPython.core.display.HTML object>"
            ],
            "text/html": []
          },
          "metadata": {}
        },
        {
          "output_type": "display_data",
          "data": {
            "text/plain": [
              "<IPython.core.display.HTML object>"
            ],
            "text/html": [
              "<br>    <style><br>        .wandb-row {<br>            display: flex;<br>            flex-direction: row;<br>            flex-wrap: wrap;<br>            justify-content: flex-start;<br>            width: 100%;<br>        }<br>        .wandb-col {<br>            display: flex;<br>            flex-direction: column;<br>            flex-basis: 100%;<br>            flex: 1;<br>            padding: 10px;<br>        }<br>    </style><br><div class=\"wandb-row\"><div class=\"wandb-col\"><h3>Run history:</h3><br/><table class=\"wandb\"><tr><td>epoch</td><td>▁▂▃▃▄▅▆▆▇█</td></tr><tr><td>nan_count</td><td>▁▁▁▁▁▁▁▁▁▁</td></tr><tr><td>train_loss</td><td>█▄▃▂▂▁▁▁▁▁</td></tr><tr><td>val_wmae</td><td>█▅▄▃▄▃▂▁▁▃</td></tr></table><br/></div><div class=\"wandb-col\"><h3>Run summary:</h3><br/><table class=\"wandb\"><tr><td>epoch</td><td>10</td></tr><tr><td>nan_count</td><td>0</td></tr><tr><td>train_loss</td><td>0.14156</td></tr><tr><td>val_wmae</td><td>0.16544</td></tr></table><br/></div></div>"
            ]
          },
          "metadata": {}
        },
        {
          "output_type": "display_data",
          "data": {
            "text/plain": [
              "<IPython.core.display.HTML object>"
            ],
            "text/html": [
              " View run <strong style=\"color:#cdcd00\">silvery-sweep-11</strong> at: <a href='https://wandb.ai/gtoro22-free-university-of-tbilisi-/walmart-sales-forecasting/runs/n6snak8o' target=\"_blank\">https://wandb.ai/gtoro22-free-university-of-tbilisi-/walmart-sales-forecasting/runs/n6snak8o</a><br> View project at: <a href='https://wandb.ai/gtoro22-free-university-of-tbilisi-/walmart-sales-forecasting' target=\"_blank\">https://wandb.ai/gtoro22-free-university-of-tbilisi-/walmart-sales-forecasting</a><br>Synced 5 W&B file(s), 0 media file(s), 0 artifact file(s) and 1 other file(s)"
            ]
          },
          "metadata": {}
        },
        {
          "output_type": "display_data",
          "data": {
            "text/plain": [
              "<IPython.core.display.HTML object>"
            ],
            "text/html": [
              "Find logs at: <code>./wandb/run-20250802_070658-n6snak8o/logs</code>"
            ]
          },
          "metadata": {}
        },
        {
          "output_type": "stream",
          "name": "stderr",
          "text": [
            "\u001b[34m\u001b[1mwandb\u001b[0m: Agent Starting Run: ahhofnxz with config:\n",
            "\u001b[34m\u001b[1mwandb\u001b[0m: \td_model: 32\n",
            "\u001b[34m\u001b[1mwandb\u001b[0m: \tepochs: 10\n",
            "\u001b[34m\u001b[1mwandb\u001b[0m: \tlearning_rate: 0.0001\n",
            "\u001b[34m\u001b[1mwandb\u001b[0m: \tn_layers: 2\n",
            "\u001b[34m\u001b[1mwandb\u001b[0m: \tpatch_len: 4\n",
            "\u001b[34m\u001b[1mwandb\u001b[0m: \tpred_len: 1\n",
            "\u001b[34m\u001b[1mwandb\u001b[0m: \tseq_len: 26\n",
            "\u001b[34m\u001b[1mwandb\u001b[0m: \tstride: 12\n"
          ]
        },
        {
          "output_type": "display_data",
          "data": {
            "text/plain": [
              "<IPython.core.display.HTML object>"
            ],
            "text/html": [
              "Tracking run with wandb version 0.21.0"
            ]
          },
          "metadata": {}
        },
        {
          "output_type": "display_data",
          "data": {
            "text/plain": [
              "<IPython.core.display.HTML object>"
            ],
            "text/html": [
              "Run data is saved locally in <code>/content/wandb/run-20250802_070956-ahhofnxz</code>"
            ]
          },
          "metadata": {}
        },
        {
          "output_type": "display_data",
          "data": {
            "text/plain": [
              "<IPython.core.display.HTML object>"
            ],
            "text/html": [
              "Syncing run <strong><a href='https://wandb.ai/gtoro22-free-university-of-tbilisi-/walmart-sales-forecasting/runs/ahhofnxz' target=\"_blank\">gentle-sweep-12</a></strong> to <a href='https://wandb.ai/gtoro22-free-university-of-tbilisi-/walmart-sales-forecasting' target=\"_blank\">Weights & Biases</a> (<a href='https://wandb.me/developer-guide' target=\"_blank\">docs</a>)<br>Sweep page: <a href='https://wandb.ai/gtoro22-free-university-of-tbilisi-/walmart-sales-forecasting/sweeps/2cqrtvqx' target=\"_blank\">https://wandb.ai/gtoro22-free-university-of-tbilisi-/walmart-sales-forecasting/sweeps/2cqrtvqx</a>"
            ]
          },
          "metadata": {}
        },
        {
          "output_type": "display_data",
          "data": {
            "text/plain": [
              "<IPython.core.display.HTML object>"
            ],
            "text/html": [
              " View project at <a href='https://wandb.ai/gtoro22-free-university-of-tbilisi-/walmart-sales-forecasting' target=\"_blank\">https://wandb.ai/gtoro22-free-university-of-tbilisi-/walmart-sales-forecasting</a>"
            ]
          },
          "metadata": {}
        },
        {
          "output_type": "display_data",
          "data": {
            "text/plain": [
              "<IPython.core.display.HTML object>"
            ],
            "text/html": [
              " View sweep at <a href='https://wandb.ai/gtoro22-free-university-of-tbilisi-/walmart-sales-forecasting/sweeps/2cqrtvqx' target=\"_blank\">https://wandb.ai/gtoro22-free-university-of-tbilisi-/walmart-sales-forecasting/sweeps/2cqrtvqx</a>"
            ]
          },
          "metadata": {}
        },
        {
          "output_type": "display_data",
          "data": {
            "text/plain": [
              "<IPython.core.display.HTML object>"
            ],
            "text/html": [
              " View run at <a href='https://wandb.ai/gtoro22-free-university-of-tbilisi-/walmart-sales-forecasting/runs/ahhofnxz' target=\"_blank\">https://wandb.ai/gtoro22-free-university-of-tbilisi-/walmart-sales-forecasting/runs/ahhofnxz</a>"
            ]
          },
          "metadata": {}
        },
        {
          "output_type": "stream",
          "name": "stdout",
          "text": [
            "Epoch 1/10, Train Loss: 0.4128, Val WMAE: 0.2079, NaN Count: 0\n",
            "Epoch 2/10, Train Loss: 0.2545, Val WMAE: 0.1893, NaN Count: 0\n",
            "Epoch 3/10, Train Loss: 0.2161, Val WMAE: 0.1972, NaN Count: 0\n",
            "Epoch 4/10, Train Loss: 0.1946, Val WMAE: 0.1663, NaN Count: 0\n",
            "Epoch 5/10, Train Loss: 0.1811, Val WMAE: 0.1718, NaN Count: 0\n",
            "Epoch 6/10, Train Loss: 0.1726, Val WMAE: 0.1792, NaN Count: 0\n",
            "Epoch 7/10, Train Loss: 0.1646, Val WMAE: 0.1564, NaN Count: 0\n",
            "Epoch 8/10, Train Loss: 0.1589, Val WMAE: 0.1588, NaN Count: 0\n",
            "Epoch 9/10, Train Loss: 0.1556, Val WMAE: 0.1567, NaN Count: 0\n",
            "Epoch 10/10, Train Loss: 0.1523, Val WMAE: 0.1503, NaN Count: 0\n"
          ]
        },
        {
          "output_type": "display_data",
          "data": {
            "text/plain": [
              "<IPython.core.display.HTML object>"
            ],
            "text/html": []
          },
          "metadata": {}
        },
        {
          "output_type": "display_data",
          "data": {
            "text/plain": [
              "<IPython.core.display.HTML object>"
            ],
            "text/html": [
              "<br>    <style><br>        .wandb-row {<br>            display: flex;<br>            flex-direction: row;<br>            flex-wrap: wrap;<br>            justify-content: flex-start;<br>            width: 100%;<br>        }<br>        .wandb-col {<br>            display: flex;<br>            flex-direction: column;<br>            flex-basis: 100%;<br>            flex: 1;<br>            padding: 10px;<br>        }<br>    </style><br><div class=\"wandb-row\"><div class=\"wandb-col\"><h3>Run history:</h3><br/><table class=\"wandb\"><tr><td>epoch</td><td>▁▂▃▃▄▅▆▆▇█</td></tr><tr><td>nan_count</td><td>▁▁▁▁▁▁▁▁▁▁</td></tr><tr><td>train_loss</td><td>█▄▃▂▂▂▁▁▁▁</td></tr><tr><td>val_wmae</td><td>█▆▇▃▄▅▂▂▂▁</td></tr></table><br/></div><div class=\"wandb-col\"><h3>Run summary:</h3><br/><table class=\"wandb\"><tr><td>epoch</td><td>10</td></tr><tr><td>nan_count</td><td>0</td></tr><tr><td>train_loss</td><td>0.15229</td></tr><tr><td>val_wmae</td><td>0.1503</td></tr></table><br/></div></div>"
            ]
          },
          "metadata": {}
        },
        {
          "output_type": "display_data",
          "data": {
            "text/plain": [
              "<IPython.core.display.HTML object>"
            ],
            "text/html": [
              " View run <strong style=\"color:#cdcd00\">gentle-sweep-12</strong> at: <a href='https://wandb.ai/gtoro22-free-university-of-tbilisi-/walmart-sales-forecasting/runs/ahhofnxz' target=\"_blank\">https://wandb.ai/gtoro22-free-university-of-tbilisi-/walmart-sales-forecasting/runs/ahhofnxz</a><br> View project at: <a href='https://wandb.ai/gtoro22-free-university-of-tbilisi-/walmart-sales-forecasting' target=\"_blank\">https://wandb.ai/gtoro22-free-university-of-tbilisi-/walmart-sales-forecasting</a><br>Synced 5 W&B file(s), 0 media file(s), 0 artifact file(s) and 1 other file(s)"
            ]
          },
          "metadata": {}
        },
        {
          "output_type": "display_data",
          "data": {
            "text/plain": [
              "<IPython.core.display.HTML object>"
            ],
            "text/html": [
              "Find logs at: <code>./wandb/run-20250802_070956-ahhofnxz/logs</code>"
            ]
          },
          "metadata": {}
        },
        {
          "output_type": "stream",
          "name": "stderr",
          "text": [
            "\u001b[34m\u001b[1mwandb\u001b[0m: Agent Starting Run: xqniswmb with config:\n",
            "\u001b[34m\u001b[1mwandb\u001b[0m: \td_model: 32\n",
            "\u001b[34m\u001b[1mwandb\u001b[0m: \tepochs: 10\n",
            "\u001b[34m\u001b[1mwandb\u001b[0m: \tlearning_rate: 0.0001\n",
            "\u001b[34m\u001b[1mwandb\u001b[0m: \tn_layers: 2\n",
            "\u001b[34m\u001b[1mwandb\u001b[0m: \tpatch_len: 8\n",
            "\u001b[34m\u001b[1mwandb\u001b[0m: \tpred_len: 1\n",
            "\u001b[34m\u001b[1mwandb\u001b[0m: \tseq_len: 26\n",
            "\u001b[34m\u001b[1mwandb\u001b[0m: \tstride: 4\n"
          ]
        },
        {
          "output_type": "display_data",
          "data": {
            "text/plain": [
              "<IPython.core.display.HTML object>"
            ],
            "text/html": [
              "Tracking run with wandb version 0.21.0"
            ]
          },
          "metadata": {}
        },
        {
          "output_type": "display_data",
          "data": {
            "text/plain": [
              "<IPython.core.display.HTML object>"
            ],
            "text/html": [
              "Run data is saved locally in <code>/content/wandb/run-20250802_071243-xqniswmb</code>"
            ]
          },
          "metadata": {}
        },
        {
          "output_type": "display_data",
          "data": {
            "text/plain": [
              "<IPython.core.display.HTML object>"
            ],
            "text/html": [
              "Syncing run <strong><a href='https://wandb.ai/gtoro22-free-university-of-tbilisi-/walmart-sales-forecasting/runs/xqniswmb' target=\"_blank\">fresh-sweep-13</a></strong> to <a href='https://wandb.ai/gtoro22-free-university-of-tbilisi-/walmart-sales-forecasting' target=\"_blank\">Weights & Biases</a> (<a href='https://wandb.me/developer-guide' target=\"_blank\">docs</a>)<br>Sweep page: <a href='https://wandb.ai/gtoro22-free-university-of-tbilisi-/walmart-sales-forecasting/sweeps/2cqrtvqx' target=\"_blank\">https://wandb.ai/gtoro22-free-university-of-tbilisi-/walmart-sales-forecasting/sweeps/2cqrtvqx</a>"
            ]
          },
          "metadata": {}
        },
        {
          "output_type": "display_data",
          "data": {
            "text/plain": [
              "<IPython.core.display.HTML object>"
            ],
            "text/html": [
              " View project at <a href='https://wandb.ai/gtoro22-free-university-of-tbilisi-/walmart-sales-forecasting' target=\"_blank\">https://wandb.ai/gtoro22-free-university-of-tbilisi-/walmart-sales-forecasting</a>"
            ]
          },
          "metadata": {}
        },
        {
          "output_type": "display_data",
          "data": {
            "text/plain": [
              "<IPython.core.display.HTML object>"
            ],
            "text/html": [
              " View sweep at <a href='https://wandb.ai/gtoro22-free-university-of-tbilisi-/walmart-sales-forecasting/sweeps/2cqrtvqx' target=\"_blank\">https://wandb.ai/gtoro22-free-university-of-tbilisi-/walmart-sales-forecasting/sweeps/2cqrtvqx</a>"
            ]
          },
          "metadata": {}
        },
        {
          "output_type": "display_data",
          "data": {
            "text/plain": [
              "<IPython.core.display.HTML object>"
            ],
            "text/html": [
              " View run at <a href='https://wandb.ai/gtoro22-free-university-of-tbilisi-/walmart-sales-forecasting/runs/xqniswmb' target=\"_blank\">https://wandb.ai/gtoro22-free-university-of-tbilisi-/walmart-sales-forecasting/runs/xqniswmb</a>"
            ]
          },
          "metadata": {}
        },
        {
          "output_type": "stream",
          "name": "stdout",
          "text": [
            "Epoch 1/10, Train Loss: 0.4063, Val WMAE: 0.1932, NaN Count: 0\n",
            "Epoch 2/10, Train Loss: 0.2528, Val WMAE: 0.1998, NaN Count: 0\n",
            "Epoch 3/10, Train Loss: 0.2073, Val WMAE: 0.1696, NaN Count: 0\n",
            "Epoch 4/10, Train Loss: 0.1809, Val WMAE: 0.1684, NaN Count: 0\n",
            "Epoch 5/10, Train Loss: 0.1641, Val WMAE: 0.1573, NaN Count: 0\n",
            "Epoch 6/10, Train Loss: 0.1521, Val WMAE: 0.1656, NaN Count: 0\n",
            "Epoch 7/10, Train Loss: 0.1424, Val WMAE: 0.1514, NaN Count: 0\n",
            "Epoch 8/10, Train Loss: 0.1370, Val WMAE: 0.1502, NaN Count: 0\n",
            "Epoch 9/10, Train Loss: 0.1308, Val WMAE: 0.1487, NaN Count: 0\n",
            "Epoch 10/10, Train Loss: 0.1267, Val WMAE: 0.1409, NaN Count: 0\n"
          ]
        },
        {
          "output_type": "display_data",
          "data": {
            "text/plain": [
              "<IPython.core.display.HTML object>"
            ],
            "text/html": []
          },
          "metadata": {}
        },
        {
          "output_type": "display_data",
          "data": {
            "text/plain": [
              "<IPython.core.display.HTML object>"
            ],
            "text/html": [
              "<br>    <style><br>        .wandb-row {<br>            display: flex;<br>            flex-direction: row;<br>            flex-wrap: wrap;<br>            justify-content: flex-start;<br>            width: 100%;<br>        }<br>        .wandb-col {<br>            display: flex;<br>            flex-direction: column;<br>            flex-basis: 100%;<br>            flex: 1;<br>            padding: 10px;<br>        }<br>    </style><br><div class=\"wandb-row\"><div class=\"wandb-col\"><h3>Run history:</h3><br/><table class=\"wandb\"><tr><td>epoch</td><td>▁▂▃▃▄▅▆▆▇█</td></tr><tr><td>nan_count</td><td>▁▁▁▁▁▁▁▁▁▁</td></tr><tr><td>train_loss</td><td>█▄▃▂▂▂▁▁▁▁</td></tr><tr><td>val_wmae</td><td>▇█▄▄▃▄▂▂▂▁</td></tr></table><br/></div><div class=\"wandb-col\"><h3>Run summary:</h3><br/><table class=\"wandb\"><tr><td>epoch</td><td>10</td></tr><tr><td>nan_count</td><td>0</td></tr><tr><td>train_loss</td><td>0.12671</td></tr><tr><td>val_wmae</td><td>0.14088</td></tr></table><br/></div></div>"
            ]
          },
          "metadata": {}
        },
        {
          "output_type": "display_data",
          "data": {
            "text/plain": [
              "<IPython.core.display.HTML object>"
            ],
            "text/html": [
              " View run <strong style=\"color:#cdcd00\">fresh-sweep-13</strong> at: <a href='https://wandb.ai/gtoro22-free-university-of-tbilisi-/walmart-sales-forecasting/runs/xqniswmb' target=\"_blank\">https://wandb.ai/gtoro22-free-university-of-tbilisi-/walmart-sales-forecasting/runs/xqniswmb</a><br> View project at: <a href='https://wandb.ai/gtoro22-free-university-of-tbilisi-/walmart-sales-forecasting' target=\"_blank\">https://wandb.ai/gtoro22-free-university-of-tbilisi-/walmart-sales-forecasting</a><br>Synced 5 W&B file(s), 0 media file(s), 0 artifact file(s) and 1 other file(s)"
            ]
          },
          "metadata": {}
        },
        {
          "output_type": "display_data",
          "data": {
            "text/plain": [
              "<IPython.core.display.HTML object>"
            ],
            "text/html": [
              "Find logs at: <code>./wandb/run-20250802_071243-xqniswmb/logs</code>"
            ]
          },
          "metadata": {}
        },
        {
          "output_type": "stream",
          "name": "stderr",
          "text": [
            "\u001b[34m\u001b[1mwandb\u001b[0m: Agent Starting Run: 8mkh8qtj with config:\n",
            "\u001b[34m\u001b[1mwandb\u001b[0m: \td_model: 32\n",
            "\u001b[34m\u001b[1mwandb\u001b[0m: \tepochs: 10\n",
            "\u001b[34m\u001b[1mwandb\u001b[0m: \tlearning_rate: 0.0001\n",
            "\u001b[34m\u001b[1mwandb\u001b[0m: \tn_layers: 2\n",
            "\u001b[34m\u001b[1mwandb\u001b[0m: \tpatch_len: 8\n",
            "\u001b[34m\u001b[1mwandb\u001b[0m: \tpred_len: 1\n",
            "\u001b[34m\u001b[1mwandb\u001b[0m: \tseq_len: 26\n",
            "\u001b[34m\u001b[1mwandb\u001b[0m: \tstride: 8\n"
          ]
        },
        {
          "output_type": "display_data",
          "data": {
            "text/plain": [
              "<IPython.core.display.HTML object>"
            ],
            "text/html": [
              "Tracking run with wandb version 0.21.0"
            ]
          },
          "metadata": {}
        },
        {
          "output_type": "display_data",
          "data": {
            "text/plain": [
              "<IPython.core.display.HTML object>"
            ],
            "text/html": [
              "Run data is saved locally in <code>/content/wandb/run-20250802_071555-8mkh8qtj</code>"
            ]
          },
          "metadata": {}
        },
        {
          "output_type": "display_data",
          "data": {
            "text/plain": [
              "<IPython.core.display.HTML object>"
            ],
            "text/html": [
              "Syncing run <strong><a href='https://wandb.ai/gtoro22-free-university-of-tbilisi-/walmart-sales-forecasting/runs/8mkh8qtj' target=\"_blank\">glamorous-sweep-14</a></strong> to <a href='https://wandb.ai/gtoro22-free-university-of-tbilisi-/walmart-sales-forecasting' target=\"_blank\">Weights & Biases</a> (<a href='https://wandb.me/developer-guide' target=\"_blank\">docs</a>)<br>Sweep page: <a href='https://wandb.ai/gtoro22-free-university-of-tbilisi-/walmart-sales-forecasting/sweeps/2cqrtvqx' target=\"_blank\">https://wandb.ai/gtoro22-free-university-of-tbilisi-/walmart-sales-forecasting/sweeps/2cqrtvqx</a>"
            ]
          },
          "metadata": {}
        },
        {
          "output_type": "display_data",
          "data": {
            "text/plain": [
              "<IPython.core.display.HTML object>"
            ],
            "text/html": [
              " View project at <a href='https://wandb.ai/gtoro22-free-university-of-tbilisi-/walmart-sales-forecasting' target=\"_blank\">https://wandb.ai/gtoro22-free-university-of-tbilisi-/walmart-sales-forecasting</a>"
            ]
          },
          "metadata": {}
        },
        {
          "output_type": "display_data",
          "data": {
            "text/plain": [
              "<IPython.core.display.HTML object>"
            ],
            "text/html": [
              " View sweep at <a href='https://wandb.ai/gtoro22-free-university-of-tbilisi-/walmart-sales-forecasting/sweeps/2cqrtvqx' target=\"_blank\">https://wandb.ai/gtoro22-free-university-of-tbilisi-/walmart-sales-forecasting/sweeps/2cqrtvqx</a>"
            ]
          },
          "metadata": {}
        },
        {
          "output_type": "display_data",
          "data": {
            "text/plain": [
              "<IPython.core.display.HTML object>"
            ],
            "text/html": [
              " View run at <a href='https://wandb.ai/gtoro22-free-university-of-tbilisi-/walmart-sales-forecasting/runs/8mkh8qtj' target=\"_blank\">https://wandb.ai/gtoro22-free-university-of-tbilisi-/walmart-sales-forecasting/runs/8mkh8qtj</a>"
            ]
          },
          "metadata": {}
        },
        {
          "output_type": "stream",
          "name": "stdout",
          "text": [
            "Epoch 1/10, Train Loss: 0.3830, Val WMAE: 0.1917, NaN Count: 0\n",
            "Epoch 2/10, Train Loss: 0.2321, Val WMAE: 0.1923, NaN Count: 0\n",
            "Epoch 3/10, Train Loss: 0.1912, Val WMAE: 0.1745, NaN Count: 0\n",
            "Epoch 4/10, Train Loss: 0.1698, Val WMAE: 0.1494, NaN Count: 0\n",
            "Epoch 5/10, Train Loss: 0.1558, Val WMAE: 0.1469, NaN Count: 0\n",
            "Epoch 6/10, Train Loss: 0.1459, Val WMAE: 0.1415, NaN Count: 0\n",
            "Epoch 7/10, Train Loss: 0.1387, Val WMAE: 0.1402, NaN Count: 0\n",
            "Epoch 8/10, Train Loss: 0.1336, Val WMAE: 0.1404, NaN Count: 0\n",
            "Epoch 9/10, Train Loss: 0.1291, Val WMAE: 0.1375, NaN Count: 0\n",
            "Epoch 10/10, Train Loss: 0.1250, Val WMAE: 0.1321, NaN Count: 0\n"
          ]
        },
        {
          "output_type": "display_data",
          "data": {
            "text/plain": [
              "<IPython.core.display.HTML object>"
            ],
            "text/html": []
          },
          "metadata": {}
        },
        {
          "output_type": "display_data",
          "data": {
            "text/plain": [
              "<IPython.core.display.HTML object>"
            ],
            "text/html": [
              "<br>    <style><br>        .wandb-row {<br>            display: flex;<br>            flex-direction: row;<br>            flex-wrap: wrap;<br>            justify-content: flex-start;<br>            width: 100%;<br>        }<br>        .wandb-col {<br>            display: flex;<br>            flex-direction: column;<br>            flex-basis: 100%;<br>            flex: 1;<br>            padding: 10px;<br>        }<br>    </style><br><div class=\"wandb-row\"><div class=\"wandb-col\"><h3>Run history:</h3><br/><table class=\"wandb\"><tr><td>epoch</td><td>▁▂▃▃▄▅▆▆▇█</td></tr><tr><td>nan_count</td><td>▁▁▁▁▁▁▁▁▁▁</td></tr><tr><td>train_loss</td><td>█▄▃▂▂▂▁▁▁▁</td></tr><tr><td>val_wmae</td><td>██▆▃▃▂▂▂▂▁</td></tr></table><br/></div><div class=\"wandb-col\"><h3>Run summary:</h3><br/><table class=\"wandb\"><tr><td>epoch</td><td>10</td></tr><tr><td>nan_count</td><td>0</td></tr><tr><td>train_loss</td><td>0.12504</td></tr><tr><td>val_wmae</td><td>0.13205</td></tr></table><br/></div></div>"
            ]
          },
          "metadata": {}
        },
        {
          "output_type": "display_data",
          "data": {
            "text/plain": [
              "<IPython.core.display.HTML object>"
            ],
            "text/html": [
              " View run <strong style=\"color:#cdcd00\">glamorous-sweep-14</strong> at: <a href='https://wandb.ai/gtoro22-free-university-of-tbilisi-/walmart-sales-forecasting/runs/8mkh8qtj' target=\"_blank\">https://wandb.ai/gtoro22-free-university-of-tbilisi-/walmart-sales-forecasting/runs/8mkh8qtj</a><br> View project at: <a href='https://wandb.ai/gtoro22-free-university-of-tbilisi-/walmart-sales-forecasting' target=\"_blank\">https://wandb.ai/gtoro22-free-university-of-tbilisi-/walmart-sales-forecasting</a><br>Synced 5 W&B file(s), 0 media file(s), 0 artifact file(s) and 1 other file(s)"
            ]
          },
          "metadata": {}
        },
        {
          "output_type": "display_data",
          "data": {
            "text/plain": [
              "<IPython.core.display.HTML object>"
            ],
            "text/html": [
              "Find logs at: <code>./wandb/run-20250802_071555-8mkh8qtj/logs</code>"
            ]
          },
          "metadata": {}
        },
        {
          "output_type": "stream",
          "name": "stderr",
          "text": [
            "\u001b[34m\u001b[1mwandb\u001b[0m: Agent Starting Run: qjqb4dhg with config:\n",
            "\u001b[34m\u001b[1mwandb\u001b[0m: \td_model: 32\n",
            "\u001b[34m\u001b[1mwandb\u001b[0m: \tepochs: 10\n",
            "\u001b[34m\u001b[1mwandb\u001b[0m: \tlearning_rate: 0.0001\n",
            "\u001b[34m\u001b[1mwandb\u001b[0m: \tn_layers: 2\n",
            "\u001b[34m\u001b[1mwandb\u001b[0m: \tpatch_len: 8\n",
            "\u001b[34m\u001b[1mwandb\u001b[0m: \tpred_len: 1\n",
            "\u001b[34m\u001b[1mwandb\u001b[0m: \tseq_len: 26\n",
            "\u001b[34m\u001b[1mwandb\u001b[0m: \tstride: 12\n"
          ]
        },
        {
          "output_type": "display_data",
          "data": {
            "text/plain": [
              "<IPython.core.display.HTML object>"
            ],
            "text/html": [
              "Tracking run with wandb version 0.21.0"
            ]
          },
          "metadata": {}
        },
        {
          "output_type": "display_data",
          "data": {
            "text/plain": [
              "<IPython.core.display.HTML object>"
            ],
            "text/html": [
              "Run data is saved locally in <code>/content/wandb/run-20250802_071852-qjqb4dhg</code>"
            ]
          },
          "metadata": {}
        },
        {
          "output_type": "display_data",
          "data": {
            "text/plain": [
              "<IPython.core.display.HTML object>"
            ],
            "text/html": [
              "Syncing run <strong><a href='https://wandb.ai/gtoro22-free-university-of-tbilisi-/walmart-sales-forecasting/runs/qjqb4dhg' target=\"_blank\">atomic-sweep-15</a></strong> to <a href='https://wandb.ai/gtoro22-free-university-of-tbilisi-/walmart-sales-forecasting' target=\"_blank\">Weights & Biases</a> (<a href='https://wandb.me/developer-guide' target=\"_blank\">docs</a>)<br>Sweep page: <a href='https://wandb.ai/gtoro22-free-university-of-tbilisi-/walmart-sales-forecasting/sweeps/2cqrtvqx' target=\"_blank\">https://wandb.ai/gtoro22-free-university-of-tbilisi-/walmart-sales-forecasting/sweeps/2cqrtvqx</a>"
            ]
          },
          "metadata": {}
        },
        {
          "output_type": "display_data",
          "data": {
            "text/plain": [
              "<IPython.core.display.HTML object>"
            ],
            "text/html": [
              " View project at <a href='https://wandb.ai/gtoro22-free-university-of-tbilisi-/walmart-sales-forecasting' target=\"_blank\">https://wandb.ai/gtoro22-free-university-of-tbilisi-/walmart-sales-forecasting</a>"
            ]
          },
          "metadata": {}
        },
        {
          "output_type": "display_data",
          "data": {
            "text/plain": [
              "<IPython.core.display.HTML object>"
            ],
            "text/html": [
              " View sweep at <a href='https://wandb.ai/gtoro22-free-university-of-tbilisi-/walmart-sales-forecasting/sweeps/2cqrtvqx' target=\"_blank\">https://wandb.ai/gtoro22-free-university-of-tbilisi-/walmart-sales-forecasting/sweeps/2cqrtvqx</a>"
            ]
          },
          "metadata": {}
        },
        {
          "output_type": "display_data",
          "data": {
            "text/plain": [
              "<IPython.core.display.HTML object>"
            ],
            "text/html": [
              " View run at <a href='https://wandb.ai/gtoro22-free-university-of-tbilisi-/walmart-sales-forecasting/runs/qjqb4dhg' target=\"_blank\">https://wandb.ai/gtoro22-free-university-of-tbilisi-/walmart-sales-forecasting/runs/qjqb4dhg</a>"
            ]
          },
          "metadata": {}
        },
        {
          "output_type": "stream",
          "name": "stdout",
          "text": [
            "Epoch 1/10, Train Loss: 0.3914, Val WMAE: 0.2125, NaN Count: 0\n",
            "Epoch 2/10, Train Loss: 0.2277, Val WMAE: 0.1822, NaN Count: 0\n",
            "Epoch 3/10, Train Loss: 0.1939, Val WMAE: 0.1844, NaN Count: 0\n",
            "Epoch 4/10, Train Loss: 0.1761, Val WMAE: 0.1741, NaN Count: 0\n",
            "Epoch 5/10, Train Loss: 0.1655, Val WMAE: 0.1615, NaN Count: 0\n",
            "Epoch 6/10, Train Loss: 0.1586, Val WMAE: 0.1553, NaN Count: 0\n",
            "Epoch 7/10, Train Loss: 0.1523, Val WMAE: 0.1657, NaN Count: 0\n",
            "Epoch 8/10, Train Loss: 0.1493, Val WMAE: 0.1551, NaN Count: 0\n",
            "Epoch 9/10, Train Loss: 0.1456, Val WMAE: 0.1734, NaN Count: 0\n",
            "Epoch 10/10, Train Loss: 0.1423, Val WMAE: 0.1511, NaN Count: 0\n"
          ]
        },
        {
          "output_type": "display_data",
          "data": {
            "text/plain": [
              "<IPython.core.display.HTML object>"
            ],
            "text/html": []
          },
          "metadata": {}
        },
        {
          "output_type": "display_data",
          "data": {
            "text/plain": [
              "<IPython.core.display.HTML object>"
            ],
            "text/html": [
              "<br>    <style><br>        .wandb-row {<br>            display: flex;<br>            flex-direction: row;<br>            flex-wrap: wrap;<br>            justify-content: flex-start;<br>            width: 100%;<br>        }<br>        .wandb-col {<br>            display: flex;<br>            flex-direction: column;<br>            flex-basis: 100%;<br>            flex: 1;<br>            padding: 10px;<br>        }<br>    </style><br><div class=\"wandb-row\"><div class=\"wandb-col\"><h3>Run history:</h3><br/><table class=\"wandb\"><tr><td>epoch</td><td>▁▂▃▃▄▅▆▆▇█</td></tr><tr><td>nan_count</td><td>▁▁▁▁▁▁▁▁▁▁</td></tr><tr><td>train_loss</td><td>█▃▂▂▂▁▁▁▁▁</td></tr><tr><td>val_wmae</td><td>█▅▅▄▂▁▃▁▄▁</td></tr></table><br/></div><div class=\"wandb-col\"><h3>Run summary:</h3><br/><table class=\"wandb\"><tr><td>epoch</td><td>10</td></tr><tr><td>nan_count</td><td>0</td></tr><tr><td>train_loss</td><td>0.14229</td></tr><tr><td>val_wmae</td><td>0.15105</td></tr></table><br/></div></div>"
            ]
          },
          "metadata": {}
        },
        {
          "output_type": "display_data",
          "data": {
            "text/plain": [
              "<IPython.core.display.HTML object>"
            ],
            "text/html": [
              " View run <strong style=\"color:#cdcd00\">atomic-sweep-15</strong> at: <a href='https://wandb.ai/gtoro22-free-university-of-tbilisi-/walmart-sales-forecasting/runs/qjqb4dhg' target=\"_blank\">https://wandb.ai/gtoro22-free-university-of-tbilisi-/walmart-sales-forecasting/runs/qjqb4dhg</a><br> View project at: <a href='https://wandb.ai/gtoro22-free-university-of-tbilisi-/walmart-sales-forecasting' target=\"_blank\">https://wandb.ai/gtoro22-free-university-of-tbilisi-/walmart-sales-forecasting</a><br>Synced 5 W&B file(s), 0 media file(s), 0 artifact file(s) and 1 other file(s)"
            ]
          },
          "metadata": {}
        },
        {
          "output_type": "display_data",
          "data": {
            "text/plain": [
              "<IPython.core.display.HTML object>"
            ],
            "text/html": [
              "Find logs at: <code>./wandb/run-20250802_071852-qjqb4dhg/logs</code>"
            ]
          },
          "metadata": {}
        },
        {
          "output_type": "stream",
          "name": "stderr",
          "text": [
            "\u001b[34m\u001b[1mwandb\u001b[0m: Agent Starting Run: oll3ze3o with config:\n",
            "\u001b[34m\u001b[1mwandb\u001b[0m: \td_model: 32\n",
            "\u001b[34m\u001b[1mwandb\u001b[0m: \tepochs: 10\n",
            "\u001b[34m\u001b[1mwandb\u001b[0m: \tlearning_rate: 0.0001\n",
            "\u001b[34m\u001b[1mwandb\u001b[0m: \tn_layers: 2\n",
            "\u001b[34m\u001b[1mwandb\u001b[0m: \tpatch_len: 12\n",
            "\u001b[34m\u001b[1mwandb\u001b[0m: \tpred_len: 1\n",
            "\u001b[34m\u001b[1mwandb\u001b[0m: \tseq_len: 26\n",
            "\u001b[34m\u001b[1mwandb\u001b[0m: \tstride: 4\n"
          ]
        },
        {
          "output_type": "display_data",
          "data": {
            "text/plain": [
              "<IPython.core.display.HTML object>"
            ],
            "text/html": [
              "Tracking run with wandb version 0.21.0"
            ]
          },
          "metadata": {}
        },
        {
          "output_type": "display_data",
          "data": {
            "text/plain": [
              "<IPython.core.display.HTML object>"
            ],
            "text/html": [
              "Run data is saved locally in <code>/content/wandb/run-20250802_072150-oll3ze3o</code>"
            ]
          },
          "metadata": {}
        },
        {
          "output_type": "display_data",
          "data": {
            "text/plain": [
              "<IPython.core.display.HTML object>"
            ],
            "text/html": [
              "Syncing run <strong><a href='https://wandb.ai/gtoro22-free-university-of-tbilisi-/walmart-sales-forecasting/runs/oll3ze3o' target=\"_blank\">distinctive-sweep-16</a></strong> to <a href='https://wandb.ai/gtoro22-free-university-of-tbilisi-/walmart-sales-forecasting' target=\"_blank\">Weights & Biases</a> (<a href='https://wandb.me/developer-guide' target=\"_blank\">docs</a>)<br>Sweep page: <a href='https://wandb.ai/gtoro22-free-university-of-tbilisi-/walmart-sales-forecasting/sweeps/2cqrtvqx' target=\"_blank\">https://wandb.ai/gtoro22-free-university-of-tbilisi-/walmart-sales-forecasting/sweeps/2cqrtvqx</a>"
            ]
          },
          "metadata": {}
        },
        {
          "output_type": "display_data",
          "data": {
            "text/plain": [
              "<IPython.core.display.HTML object>"
            ],
            "text/html": [
              " View project at <a href='https://wandb.ai/gtoro22-free-university-of-tbilisi-/walmart-sales-forecasting' target=\"_blank\">https://wandb.ai/gtoro22-free-university-of-tbilisi-/walmart-sales-forecasting</a>"
            ]
          },
          "metadata": {}
        },
        {
          "output_type": "display_data",
          "data": {
            "text/plain": [
              "<IPython.core.display.HTML object>"
            ],
            "text/html": [
              " View sweep at <a href='https://wandb.ai/gtoro22-free-university-of-tbilisi-/walmart-sales-forecasting/sweeps/2cqrtvqx' target=\"_blank\">https://wandb.ai/gtoro22-free-university-of-tbilisi-/walmart-sales-forecasting/sweeps/2cqrtvqx</a>"
            ]
          },
          "metadata": {}
        },
        {
          "output_type": "display_data",
          "data": {
            "text/plain": [
              "<IPython.core.display.HTML object>"
            ],
            "text/html": [
              " View run at <a href='https://wandb.ai/gtoro22-free-university-of-tbilisi-/walmart-sales-forecasting/runs/oll3ze3o' target=\"_blank\">https://wandb.ai/gtoro22-free-university-of-tbilisi-/walmart-sales-forecasting/runs/oll3ze3o</a>"
            ]
          },
          "metadata": {}
        },
        {
          "output_type": "stream",
          "name": "stdout",
          "text": [
            "Epoch 1/10, Train Loss: 0.3723, Val WMAE: 0.2017, NaN Count: 0\n",
            "Epoch 2/10, Train Loss: 0.2244, Val WMAE: 0.1814, NaN Count: 0\n",
            "Epoch 3/10, Train Loss: 0.1881, Val WMAE: 0.1697, NaN Count: 0\n",
            "Epoch 4/10, Train Loss: 0.1696, Val WMAE: 0.1596, NaN Count: 0\n",
            "Epoch 5/10, Train Loss: 0.1542, Val WMAE: 0.1494, NaN Count: 0\n",
            "Epoch 6/10, Train Loss: 0.1463, Val WMAE: 0.1519, NaN Count: 0\n",
            "Epoch 7/10, Train Loss: 0.1395, Val WMAE: 0.1434, NaN Count: 0\n",
            "Epoch 8/10, Train Loss: 0.1337, Val WMAE: 0.1403, NaN Count: 0\n",
            "Epoch 9/10, Train Loss: 0.1288, Val WMAE: 0.1467, NaN Count: 0\n",
            "Epoch 10/10, Train Loss: 0.1249, Val WMAE: 0.1434, NaN Count: 0\n"
          ]
        },
        {
          "output_type": "display_data",
          "data": {
            "text/plain": [
              "<IPython.core.display.HTML object>"
            ],
            "text/html": []
          },
          "metadata": {}
        },
        {
          "output_type": "display_data",
          "data": {
            "text/plain": [
              "<IPython.core.display.HTML object>"
            ],
            "text/html": [
              "<br>    <style><br>        .wandb-row {<br>            display: flex;<br>            flex-direction: row;<br>            flex-wrap: wrap;<br>            justify-content: flex-start;<br>            width: 100%;<br>        }<br>        .wandb-col {<br>            display: flex;<br>            flex-direction: column;<br>            flex-basis: 100%;<br>            flex: 1;<br>            padding: 10px;<br>        }<br>    </style><br><div class=\"wandb-row\"><div class=\"wandb-col\"><h3>Run history:</h3><br/><table class=\"wandb\"><tr><td>epoch</td><td>▁▂▃▃▄▅▆▆▇█</td></tr><tr><td>nan_count</td><td>▁▁▁▁▁▁▁▁▁▁</td></tr><tr><td>train_loss</td><td>█▄▃▂▂▂▁▁▁▁</td></tr><tr><td>val_wmae</td><td>█▆▄▃▂▂▁▁▂▁</td></tr></table><br/></div><div class=\"wandb-col\"><h3>Run summary:</h3><br/><table class=\"wandb\"><tr><td>epoch</td><td>10</td></tr><tr><td>nan_count</td><td>0</td></tr><tr><td>train_loss</td><td>0.12491</td></tr><tr><td>val_wmae</td><td>0.14337</td></tr></table><br/></div></div>"
            ]
          },
          "metadata": {}
        },
        {
          "output_type": "display_data",
          "data": {
            "text/plain": [
              "<IPython.core.display.HTML object>"
            ],
            "text/html": [
              " View run <strong style=\"color:#cdcd00\">distinctive-sweep-16</strong> at: <a href='https://wandb.ai/gtoro22-free-university-of-tbilisi-/walmart-sales-forecasting/runs/oll3ze3o' target=\"_blank\">https://wandb.ai/gtoro22-free-university-of-tbilisi-/walmart-sales-forecasting/runs/oll3ze3o</a><br> View project at: <a href='https://wandb.ai/gtoro22-free-university-of-tbilisi-/walmart-sales-forecasting' target=\"_blank\">https://wandb.ai/gtoro22-free-university-of-tbilisi-/walmart-sales-forecasting</a><br>Synced 5 W&B file(s), 0 media file(s), 0 artifact file(s) and 1 other file(s)"
            ]
          },
          "metadata": {}
        },
        {
          "output_type": "display_data",
          "data": {
            "text/plain": [
              "<IPython.core.display.HTML object>"
            ],
            "text/html": [
              "Find logs at: <code>./wandb/run-20250802_072150-oll3ze3o/logs</code>"
            ]
          },
          "metadata": {}
        },
        {
          "output_type": "stream",
          "name": "stderr",
          "text": [
            "\u001b[34m\u001b[1mwandb\u001b[0m: Agent Starting Run: 18wprv65 with config:\n",
            "\u001b[34m\u001b[1mwandb\u001b[0m: \td_model: 32\n",
            "\u001b[34m\u001b[1mwandb\u001b[0m: \tepochs: 10\n",
            "\u001b[34m\u001b[1mwandb\u001b[0m: \tlearning_rate: 0.0001\n",
            "\u001b[34m\u001b[1mwandb\u001b[0m: \tn_layers: 2\n",
            "\u001b[34m\u001b[1mwandb\u001b[0m: \tpatch_len: 12\n",
            "\u001b[34m\u001b[1mwandb\u001b[0m: \tpred_len: 1\n",
            "\u001b[34m\u001b[1mwandb\u001b[0m: \tseq_len: 26\n",
            "\u001b[34m\u001b[1mwandb\u001b[0m: \tstride: 8\n"
          ]
        },
        {
          "output_type": "display_data",
          "data": {
            "text/plain": [
              "<IPython.core.display.HTML object>"
            ],
            "text/html": [
              "Tracking run with wandb version 0.21.0"
            ]
          },
          "metadata": {}
        },
        {
          "output_type": "display_data",
          "data": {
            "text/plain": [
              "<IPython.core.display.HTML object>"
            ],
            "text/html": [
              "Run data is saved locally in <code>/content/wandb/run-20250802_072453-18wprv65</code>"
            ]
          },
          "metadata": {}
        },
        {
          "output_type": "display_data",
          "data": {
            "text/plain": [
              "<IPython.core.display.HTML object>"
            ],
            "text/html": [
              "Syncing run <strong><a href='https://wandb.ai/gtoro22-free-university-of-tbilisi-/walmart-sales-forecasting/runs/18wprv65' target=\"_blank\">distinctive-sweep-17</a></strong> to <a href='https://wandb.ai/gtoro22-free-university-of-tbilisi-/walmart-sales-forecasting' target=\"_blank\">Weights & Biases</a> (<a href='https://wandb.me/developer-guide' target=\"_blank\">docs</a>)<br>Sweep page: <a href='https://wandb.ai/gtoro22-free-university-of-tbilisi-/walmart-sales-forecasting/sweeps/2cqrtvqx' target=\"_blank\">https://wandb.ai/gtoro22-free-university-of-tbilisi-/walmart-sales-forecasting/sweeps/2cqrtvqx</a>"
            ]
          },
          "metadata": {}
        },
        {
          "output_type": "display_data",
          "data": {
            "text/plain": [
              "<IPython.core.display.HTML object>"
            ],
            "text/html": [
              " View project at <a href='https://wandb.ai/gtoro22-free-university-of-tbilisi-/walmart-sales-forecasting' target=\"_blank\">https://wandb.ai/gtoro22-free-university-of-tbilisi-/walmart-sales-forecasting</a>"
            ]
          },
          "metadata": {}
        },
        {
          "output_type": "display_data",
          "data": {
            "text/plain": [
              "<IPython.core.display.HTML object>"
            ],
            "text/html": [
              " View sweep at <a href='https://wandb.ai/gtoro22-free-university-of-tbilisi-/walmart-sales-forecasting/sweeps/2cqrtvqx' target=\"_blank\">https://wandb.ai/gtoro22-free-university-of-tbilisi-/walmart-sales-forecasting/sweeps/2cqrtvqx</a>"
            ]
          },
          "metadata": {}
        },
        {
          "output_type": "display_data",
          "data": {
            "text/plain": [
              "<IPython.core.display.HTML object>"
            ],
            "text/html": [
              " View run at <a href='https://wandb.ai/gtoro22-free-university-of-tbilisi-/walmart-sales-forecasting/runs/18wprv65' target=\"_blank\">https://wandb.ai/gtoro22-free-university-of-tbilisi-/walmart-sales-forecasting/runs/18wprv65</a>"
            ]
          },
          "metadata": {}
        },
        {
          "output_type": "stream",
          "name": "stdout",
          "text": [
            "Epoch 1/10, Train Loss: 0.3840, Val WMAE: 0.2227, NaN Count: 0\n",
            "Epoch 2/10, Train Loss: 0.2299, Val WMAE: 0.1907, NaN Count: 0\n",
            "Epoch 3/10, Train Loss: 0.1943, Val WMAE: 0.1869, NaN Count: 0\n",
            "Epoch 4/10, Train Loss: 0.1775, Val WMAE: 0.1674, NaN Count: 0\n",
            "Epoch 5/10, Train Loss: 0.1663, Val WMAE: 0.1670, NaN Count: 0\n",
            "Epoch 6/10, Train Loss: 0.1586, Val WMAE: 0.1601, NaN Count: 0\n",
            "Epoch 7/10, Train Loss: 0.1536, Val WMAE: 0.1629, NaN Count: 0\n",
            "Epoch 8/10, Train Loss: 0.1495, Val WMAE: 0.1625, NaN Count: 0\n",
            "Epoch 9/10, Train Loss: 0.1454, Val WMAE: 0.1560, NaN Count: 0\n",
            "Epoch 10/10, Train Loss: 0.1426, Val WMAE: 0.1591, NaN Count: 0\n"
          ]
        },
        {
          "output_type": "display_data",
          "data": {
            "text/plain": [
              "<IPython.core.display.HTML object>"
            ],
            "text/html": []
          },
          "metadata": {}
        },
        {
          "output_type": "display_data",
          "data": {
            "text/plain": [
              "<IPython.core.display.HTML object>"
            ],
            "text/html": [
              "<br>    <style><br>        .wandb-row {<br>            display: flex;<br>            flex-direction: row;<br>            flex-wrap: wrap;<br>            justify-content: flex-start;<br>            width: 100%;<br>        }<br>        .wandb-col {<br>            display: flex;<br>            flex-direction: column;<br>            flex-basis: 100%;<br>            flex: 1;<br>            padding: 10px;<br>        }<br>    </style><br><div class=\"wandb-row\"><div class=\"wandb-col\"><h3>Run history:</h3><br/><table class=\"wandb\"><tr><td>epoch</td><td>▁▂▃▃▄▅▆▆▇█</td></tr><tr><td>nan_count</td><td>▁▁▁▁▁▁▁▁▁▁</td></tr><tr><td>train_loss</td><td>█▄▃▂▂▁▁▁▁▁</td></tr><tr><td>val_wmae</td><td>█▅▄▂▂▁▂▂▁▁</td></tr></table><br/></div><div class=\"wandb-col\"><h3>Run summary:</h3><br/><table class=\"wandb\"><tr><td>epoch</td><td>10</td></tr><tr><td>nan_count</td><td>0</td></tr><tr><td>train_loss</td><td>0.14259</td></tr><tr><td>val_wmae</td><td>0.15908</td></tr></table><br/></div></div>"
            ]
          },
          "metadata": {}
        },
        {
          "output_type": "display_data",
          "data": {
            "text/plain": [
              "<IPython.core.display.HTML object>"
            ],
            "text/html": [
              " View run <strong style=\"color:#cdcd00\">distinctive-sweep-17</strong> at: <a href='https://wandb.ai/gtoro22-free-university-of-tbilisi-/walmart-sales-forecasting/runs/18wprv65' target=\"_blank\">https://wandb.ai/gtoro22-free-university-of-tbilisi-/walmart-sales-forecasting/runs/18wprv65</a><br> View project at: <a href='https://wandb.ai/gtoro22-free-university-of-tbilisi-/walmart-sales-forecasting' target=\"_blank\">https://wandb.ai/gtoro22-free-university-of-tbilisi-/walmart-sales-forecasting</a><br>Synced 5 W&B file(s), 0 media file(s), 0 artifact file(s) and 1 other file(s)"
            ]
          },
          "metadata": {}
        },
        {
          "output_type": "display_data",
          "data": {
            "text/plain": [
              "<IPython.core.display.HTML object>"
            ],
            "text/html": [
              "Find logs at: <code>./wandb/run-20250802_072453-18wprv65/logs</code>"
            ]
          },
          "metadata": {}
        },
        {
          "output_type": "stream",
          "name": "stderr",
          "text": [
            "\u001b[34m\u001b[1mwandb\u001b[0m: Agent Starting Run: kuecs68v with config:\n",
            "\u001b[34m\u001b[1mwandb\u001b[0m: \td_model: 32\n",
            "\u001b[34m\u001b[1mwandb\u001b[0m: \tepochs: 10\n",
            "\u001b[34m\u001b[1mwandb\u001b[0m: \tlearning_rate: 0.0001\n",
            "\u001b[34m\u001b[1mwandb\u001b[0m: \tn_layers: 2\n",
            "\u001b[34m\u001b[1mwandb\u001b[0m: \tpatch_len: 12\n",
            "\u001b[34m\u001b[1mwandb\u001b[0m: \tpred_len: 1\n",
            "\u001b[34m\u001b[1mwandb\u001b[0m: \tseq_len: 26\n",
            "\u001b[34m\u001b[1mwandb\u001b[0m: \tstride: 12\n"
          ]
        },
        {
          "output_type": "display_data",
          "data": {
            "text/plain": [
              "<IPython.core.display.HTML object>"
            ],
            "text/html": [
              "Tracking run with wandb version 0.21.0"
            ]
          },
          "metadata": {}
        },
        {
          "output_type": "display_data",
          "data": {
            "text/plain": [
              "<IPython.core.display.HTML object>"
            ],
            "text/html": [
              "Run data is saved locally in <code>/content/wandb/run-20250802_072740-kuecs68v</code>"
            ]
          },
          "metadata": {}
        },
        {
          "output_type": "display_data",
          "data": {
            "text/plain": [
              "<IPython.core.display.HTML object>"
            ],
            "text/html": [
              "Syncing run <strong><a href='https://wandb.ai/gtoro22-free-university-of-tbilisi-/walmart-sales-forecasting/runs/kuecs68v' target=\"_blank\">worldly-sweep-18</a></strong> to <a href='https://wandb.ai/gtoro22-free-university-of-tbilisi-/walmart-sales-forecasting' target=\"_blank\">Weights & Biases</a> (<a href='https://wandb.me/developer-guide' target=\"_blank\">docs</a>)<br>Sweep page: <a href='https://wandb.ai/gtoro22-free-university-of-tbilisi-/walmart-sales-forecasting/sweeps/2cqrtvqx' target=\"_blank\">https://wandb.ai/gtoro22-free-university-of-tbilisi-/walmart-sales-forecasting/sweeps/2cqrtvqx</a>"
            ]
          },
          "metadata": {}
        },
        {
          "output_type": "display_data",
          "data": {
            "text/plain": [
              "<IPython.core.display.HTML object>"
            ],
            "text/html": [
              " View project at <a href='https://wandb.ai/gtoro22-free-university-of-tbilisi-/walmart-sales-forecasting' target=\"_blank\">https://wandb.ai/gtoro22-free-university-of-tbilisi-/walmart-sales-forecasting</a>"
            ]
          },
          "metadata": {}
        },
        {
          "output_type": "display_data",
          "data": {
            "text/plain": [
              "<IPython.core.display.HTML object>"
            ],
            "text/html": [
              " View sweep at <a href='https://wandb.ai/gtoro22-free-university-of-tbilisi-/walmart-sales-forecasting/sweeps/2cqrtvqx' target=\"_blank\">https://wandb.ai/gtoro22-free-university-of-tbilisi-/walmart-sales-forecasting/sweeps/2cqrtvqx</a>"
            ]
          },
          "metadata": {}
        },
        {
          "output_type": "display_data",
          "data": {
            "text/plain": [
              "<IPython.core.display.HTML object>"
            ],
            "text/html": [
              " View run at <a href='https://wandb.ai/gtoro22-free-university-of-tbilisi-/walmart-sales-forecasting/runs/kuecs68v' target=\"_blank\">https://wandb.ai/gtoro22-free-university-of-tbilisi-/walmart-sales-forecasting/runs/kuecs68v</a>"
            ]
          },
          "metadata": {}
        },
        {
          "output_type": "stream",
          "name": "stdout",
          "text": [
            "Epoch 1/10, Train Loss: 0.3939, Val WMAE: 0.1901, NaN Count: 0\n",
            "Epoch 2/10, Train Loss: 0.2232, Val WMAE: 0.1776, NaN Count: 0\n",
            "Epoch 3/10, Train Loss: 0.1870, Val WMAE: 0.1638, NaN Count: 0\n",
            "Epoch 4/10, Train Loss: 0.1674, Val WMAE: 0.1592, NaN Count: 0\n",
            "Epoch 5/10, Train Loss: 0.1559, Val WMAE: 0.1544, NaN Count: 0\n",
            "Epoch 6/10, Train Loss: 0.1476, Val WMAE: 0.1463, NaN Count: 0\n",
            "Epoch 7/10, Train Loss: 0.1399, Val WMAE: 0.1448, NaN Count: 0\n",
            "Epoch 8/10, Train Loss: 0.1343, Val WMAE: 0.1513, NaN Count: 0\n"
          ]
        },
        {
          "output_type": "stream",
          "name": "stderr",
          "text": [
            "\u001b[34m\u001b[1mwandb\u001b[0m: Ctrl + C detected. Stopping sweep.\n"
          ]
        }
      ]
    },
    {
      "cell_type": "code",
      "source": [
        "# This cell assumes wandb.config is set by the sweep\n",
        "# For standalone testing, temporarily set config values:\n",
        "import wandb\n",
        "wandb.init(config={'seq_len': 26, 'pred_len': 1})  # Temporary for testing\n",
        "X, y, is_holiday = create_sequences(train_df, wandb.config.seq_len, wandb.config.pred_len, feature_cols, 'Weekly_Sales')\n",
        "X = torch.tensor(X, dtype=torch.float32)\n",
        "y = torch.tensor(y, dtype=torch.float32)\n",
        "is_holiday = np.array(is_holiday)\n",
        "if np.any(np.isnan(X.numpy())) or np.any(np.isnan(y.numpy())):\n",
        "    print(\"Warning: NaN values in sequences or targets\")\n",
        "    X = torch.tensor(np.nan_to_num(X.numpy(), nan=0.0), dtype=torch.float32)\n",
        "    y = torch.tensor(np.nan_to_num(y.numpy(), nan=0.0), dtype=torch.float32)"
      ],
      "metadata": {
        "colab": {
          "base_uri": "https://localhost:8080/",
          "height": 214
        },
        "id": "tPIpUe7agU9w",
        "outputId": "adc24c00-d586-4cc4-f5e9-23bc75e66505"
      },
      "execution_count": 34,
      "outputs": [
        {
          "output_type": "display_data",
          "data": {
            "text/plain": [
              "<IPython.core.display.HTML object>"
            ],
            "text/html": [
              "Changes to your `wandb` environment variables will be ignored because your `wandb` session has already started. For more information on how to modify your settings with `wandb.init()` arguments, please refer to <a href='https://wandb.me/wandb-init' target=\"_blank\">the W&B docs</a>."
            ]
          },
          "metadata": {}
        },
        {
          "output_type": "display_data",
          "data": {
            "text/plain": [
              "<IPython.core.display.HTML object>"
            ],
            "text/html": [
              "Finishing previous runs because reinit is set to 'default'."
            ]
          },
          "metadata": {}
        },
        {
          "output_type": "display_data",
          "data": {
            "text/plain": [
              "<IPython.core.display.HTML object>"
            ],
            "text/html": []
          },
          "metadata": {}
        },
        {
          "output_type": "display_data",
          "data": {
            "text/plain": [
              "<IPython.core.display.HTML object>"
            ],
            "text/html": [
              " View run <strong style=\"color:#cdcd00\">colorful-puddle-9</strong> at: <a href='https://wandb.ai/gtoro22-free-university-of-tbilisi-/walmart-sales-forecasting/runs/w7mvgnmp' target=\"_blank\">https://wandb.ai/gtoro22-free-university-of-tbilisi-/walmart-sales-forecasting/runs/w7mvgnmp</a><br> View project at: <a href='https://wandb.ai/gtoro22-free-university-of-tbilisi-/walmart-sales-forecasting' target=\"_blank\">https://wandb.ai/gtoro22-free-university-of-tbilisi-/walmart-sales-forecasting</a><br>Synced 5 W&B file(s), 0 media file(s), 0 artifact file(s) and 0 other file(s)"
            ]
          },
          "metadata": {}
        },
        {
          "output_type": "display_data",
          "data": {
            "text/plain": [
              "<IPython.core.display.HTML object>"
            ],
            "text/html": [
              "Find logs at: <code>./wandb/run-20250802_061240-w7mvgnmp/logs</code>"
            ]
          },
          "metadata": {}
        },
        {
          "output_type": "display_data",
          "data": {
            "text/plain": [
              "<IPython.core.display.HTML object>"
            ],
            "text/html": [
              "Tracking run with wandb version 0.21.0"
            ]
          },
          "metadata": {}
        },
        {
          "output_type": "display_data",
          "data": {
            "text/plain": [
              "<IPython.core.display.HTML object>"
            ],
            "text/html": [
              "Run data is saved locally in <code>/content/wandb/run-20250802_064423-kdix1uf8</code>"
            ]
          },
          "metadata": {}
        },
        {
          "output_type": "display_data",
          "data": {
            "text/plain": [
              "<IPython.core.display.HTML object>"
            ],
            "text/html": [
              "Syncing run <strong><a href='https://wandb.ai/gtoro22-free-university-of-tbilisi-/walmart-sales-forecasting/runs/kdix1uf8' target=\"_blank\">glad-elevator-2</a></strong> to <a href='https://wandb.ai/gtoro22-free-university-of-tbilisi-/walmart-sales-forecasting' target=\"_blank\">Weights & Biases</a> (<a href='https://wandb.me/developer-guide' target=\"_blank\">docs</a>)<br>"
            ]
          },
          "metadata": {}
        },
        {
          "output_type": "display_data",
          "data": {
            "text/plain": [
              "<IPython.core.display.HTML object>"
            ],
            "text/html": [
              " View project at <a href='https://wandb.ai/gtoro22-free-university-of-tbilisi-/walmart-sales-forecasting' target=\"_blank\">https://wandb.ai/gtoro22-free-university-of-tbilisi-/walmart-sales-forecasting</a>"
            ]
          },
          "metadata": {}
        },
        {
          "output_type": "display_data",
          "data": {
            "text/plain": [
              "<IPython.core.display.HTML object>"
            ],
            "text/html": [
              " View run at <a href='https://wandb.ai/gtoro22-free-university-of-tbilisi-/walmart-sales-forecasting/runs/kdix1uf8' target=\"_blank\">https://wandb.ai/gtoro22-free-university-of-tbilisi-/walmart-sales-forecasting/runs/kdix1uf8</a>"
            ]
          },
          "metadata": {}
        }
      ]
    },
    {
      "cell_type": "code",
      "source": [],
      "metadata": {
        "id": "CWf-Y1FRVPZ9",
        "colab": {
          "base_uri": "https://localhost:8080/",
          "height": 787
        },
        "outputId": "e869f68d-0f17-40bc-ff48-f1699753bb04"
      },
      "execution_count": 28,
      "outputs": [
        {
          "output_type": "error",
          "ename": "Error",
          "evalue": "You must call wandb.init() before wandb.log()",
          "traceback": [
            "\u001b[0;31m---------------------------------------------------------------------------\u001b[0m",
            "\u001b[0;31mError\u001b[0m                                     Traceback (most recent call last)",
            "\u001b[0;32m/tmp/ipython-input-4124708207.py\u001b[0m in \u001b[0;36m<cell line: 0>\u001b[0;34m()\u001b[0m\n\u001b[1;32m     15\u001b[0m \u001b[0mplt\u001b[0m\u001b[0;34m.\u001b[0m\u001b[0mlegend\u001b[0m\u001b[0;34m(\u001b[0m\u001b[0;34m)\u001b[0m\u001b[0;34m\u001b[0m\u001b[0;34m\u001b[0m\u001b[0m\n\u001b[1;32m     16\u001b[0m \u001b[0mplt\u001b[0m\u001b[0;34m.\u001b[0m\u001b[0mtitle\u001b[0m\u001b[0;34m(\u001b[0m\u001b[0;34m'Actual vs Predicted Sales (Sample Store-Dept)'\u001b[0m\u001b[0;34m)\u001b[0m\u001b[0;34m\u001b[0m\u001b[0;34m\u001b[0m\u001b[0m\n\u001b[0;32m---> 17\u001b[0;31m \u001b[0mwandb\u001b[0m\u001b[0;34m.\u001b[0m\u001b[0mlog\u001b[0m\u001b[0;34m(\u001b[0m\u001b[0;34m{\u001b[0m\u001b[0;34m'sample_prediction_plot'\u001b[0m\u001b[0;34m:\u001b[0m \u001b[0mwandb\u001b[0m\u001b[0;34m.\u001b[0m\u001b[0mImage\u001b[0m\u001b[0;34m(\u001b[0m\u001b[0mplt\u001b[0m\u001b[0;34m)\u001b[0m\u001b[0;34m}\u001b[0m\u001b[0;34m)\u001b[0m\u001b[0;34m\u001b[0m\u001b[0;34m\u001b[0m\u001b[0m\n\u001b[0m\u001b[1;32m     18\u001b[0m \u001b[0mplt\u001b[0m\u001b[0;34m.\u001b[0m\u001b[0mclose\u001b[0m\u001b[0;34m(\u001b[0m\u001b[0;34m)\u001b[0m\u001b[0;34m\u001b[0m\u001b[0;34m\u001b[0m\u001b[0m\n\u001b[1;32m     19\u001b[0m \u001b[0;34m\u001b[0m\u001b[0m\n",
            "\u001b[0;32m/usr/local/lib/python3.11/dist-packages/wandb/sdk/lib/preinit.py\u001b[0m in \u001b[0;36mpreinit_wrapper\u001b[0;34m(*args, **kwargs)\u001b[0m\n\u001b[1;32m     34\u001b[0m ) -> Callable:\n\u001b[1;32m     35\u001b[0m     \u001b[0;32mdef\u001b[0m \u001b[0mpreinit_wrapper\u001b[0m\u001b[0;34m(\u001b[0m\u001b[0;34m*\u001b[0m\u001b[0margs\u001b[0m\u001b[0;34m:\u001b[0m \u001b[0mAny\u001b[0m\u001b[0;34m,\u001b[0m \u001b[0;34m**\u001b[0m\u001b[0mkwargs\u001b[0m\u001b[0;34m:\u001b[0m \u001b[0mAny\u001b[0m\u001b[0;34m)\u001b[0m \u001b[0;34m->\u001b[0m \u001b[0mAny\u001b[0m\u001b[0;34m:\u001b[0m\u001b[0;34m\u001b[0m\u001b[0;34m\u001b[0m\u001b[0m\n\u001b[0;32m---> 36\u001b[0;31m         \u001b[0;32mraise\u001b[0m \u001b[0mwandb\u001b[0m\u001b[0;34m.\u001b[0m\u001b[0mError\u001b[0m\u001b[0;34m(\u001b[0m\u001b[0;34mf\"You must call wandb.init() before {name}()\"\u001b[0m\u001b[0;34m)\u001b[0m\u001b[0;34m\u001b[0m\u001b[0;34m\u001b[0m\u001b[0m\n\u001b[0m\u001b[1;32m     37\u001b[0m \u001b[0;34m\u001b[0m\u001b[0m\n\u001b[1;32m     38\u001b[0m     \u001b[0mpreinit_wrapper\u001b[0m\u001b[0;34m.\u001b[0m\u001b[0m__name__\u001b[0m \u001b[0;34m=\u001b[0m \u001b[0mstr\u001b[0m\u001b[0;34m(\u001b[0m\u001b[0mname\u001b[0m\u001b[0;34m)\u001b[0m\u001b[0;34m\u001b[0m\u001b[0;34m\u001b[0m\u001b[0m\n",
            "\u001b[0;31mError\u001b[0m: You must call wandb.init() before wandb.log()"
          ]
        },
        {
          "output_type": "display_data",
          "data": {
            "text/plain": [
              "<Figure size 1000x500 with 1 Axes>"
            ],
            "image/png": "[encoded data removed]"
          },
          "metadata": {}
        }
      ]
    },
    {
      "cell_type": "code",
      "source": [
        "import matplotlib.pyplot as plt\n",
        "import wandb\n",
        "\n",
        "wandb.init()\n",
        "\n",
        "# Load the best model\n",
        "best_model_path = 'patchtst_model_8mkh8qtj.pth'\n",
        "best_model_config = {\n",
        "    'c_in': len(feature_cols),\n",
        "    'seq_len': 26,\n",
        "    'pred_len': 1,\n",
        "    'n_layers': 2,\n",
        "    'd_model': 32,\n",
        "    'd_ff': 64,\n",
        "    'patch_len': 8,\n",
        "    'stride': 8,\n",
        "    'n_heads': 8\n",
        "}\n",
        "\n",
        "best_model = PatchTST(**best_model_config)\n",
        "best_model.load_state_dict(torch.load(best_model_path))\n",
        "best_model.to(device)\n",
        "best_model.eval()\n",
        "\n",
        "# Make predictions on the validation set\n",
        "with torch.no_grad():\n",
        "    predictions = []\n",
        "    for batch_X, _ in val_loader:\n",
        "        batch_X = batch_X.to(device)\n",
        "        outputs = best_model(batch_X).cpu().numpy()\n",
        "        predictions.extend(outputs)\n",
        "\n",
        "# Plot a sample from the validation set\n",
        "sample_idx = 0\n",
        "plt.figure(figsize=(10, 5))\n",
        "plt.plot(X_val[sample_idx, :, 0].numpy(), label='Actual')\n",
        "plt.plot(len(X_val[sample_idx, :, 0]), predictions[sample_idx], 'ro', label='Predicted')\n",
        "plt.xlabel('Week Index')\n",
        "plt.ylabel('Weekly Sales')\n",
        "plt.legend()\n",
        "plt.title('Actual vs Predicted Sales (Sample Store-Dept)')\n",
        "wandb.log({'sample_prediction_plot': wandb.Image(plt)})\n",
        "plt.show()"
      ],
      "metadata": {
        "colab": {
          "base_uri": "https://localhost:8080/",
          "height": 635
        },
        "id": "b6NcdNYjsFiU",
        "outputId": "7b4eac1e-c82c-4ef1-ece2-3c75756b3a35"
      },
      "execution_count": 40,
      "outputs": [
        {
          "output_type": "display_data",
          "data": {
            "text/plain": [
              "<IPython.core.display.HTML object>"
            ],
            "text/html": [
              "Changes to your `wandb` environment variables will be ignored because your `wandb` session has already started. For more information on how to modify your settings with `wandb.init()` arguments, please refer to <a href='https://wandb.me/wandb-init' target=\"_blank\">the W&B docs</a>."
            ]
          },
          "metadata": {}
        },
        {
          "output_type": "display_data",
          "data": {
            "text/plain": [
              "<IPython.core.display.HTML object>"
            ],
            "text/html": [
              "Tracking run with wandb version 0.21.0"
            ]
          },
          "metadata": {}
        },
        {
          "output_type": "display_data",
          "data": {
            "text/plain": [
              "<IPython.core.display.HTML object>"
            ],
            "text/html": [
              "Run data is saved locally in <code>/content/wandb/run-20250802_073145-kuecs68v</code>"
            ]
          },
          "metadata": {}
        },
        {
          "output_type": "display_data",
          "data": {
            "text/plain": [
              "<IPython.core.display.HTML object>"
            ],
            "text/html": [
              "Syncing run <strong><a href='https://wandb.ai/gtoro22-free-university-of-tbilisi-/walmart-sales-forecasting/runs/kuecs68v' target=\"_blank\">worldly-sweep-18</a></strong> to <a href='https://wandb.ai/gtoro22-free-university-of-tbilisi-/walmart-sales-forecasting' target=\"_blank\">Weights & Biases</a> (<a href='https://wandb.me/developer-guide' target=\"_blank\">docs</a>)<br>Sweep page: <a href='https://wandb.ai/gtoro22-free-university-of-tbilisi-/walmart-sales-forecasting/sweeps/2cqrtvqx' target=\"_blank\">https://wandb.ai/gtoro22-free-university-of-tbilisi-/walmart-sales-forecasting/sweeps/2cqrtvqx</a>"
            ]
          },
          "metadata": {}
        },
        {
          "output_type": "display_data",
          "data": {
            "text/plain": [
              "<IPython.core.display.HTML object>"
            ],
            "text/html": [
              " View project at <a href='https://wandb.ai/gtoro22-free-university-of-tbilisi-/walmart-sales-forecasting' target=\"_blank\">https://wandb.ai/gtoro22-free-university-of-tbilisi-/walmart-sales-forecasting</a>"
            ]
          },
          "metadata": {}
        },
        {
          "output_type": "display_data",
          "data": {
            "text/plain": [
              "<IPython.core.display.HTML object>"
            ],
            "text/html": [
              " View sweep at <a href='https://wandb.ai/gtoro22-free-university-of-tbilisi-/walmart-sales-forecasting/sweeps/2cqrtvqx' target=\"_blank\">https://wandb.ai/gtoro22-free-university-of-tbilisi-/walmart-sales-forecasting/sweeps/2cqrtvqx</a>"
            ]
          },
          "metadata": {}
        },
        {
          "output_type": "display_data",
          "data": {
            "text/plain": [
              "<IPython.core.display.HTML object>"
            ],
            "text/html": [
              " View run at <a href='https://wandb.ai/gtoro22-free-university-of-tbilisi-/walmart-sales-forecasting/runs/kuecs68v' target=\"_blank\">https://wandb.ai/gtoro22-free-university-of-tbilisi-/walmart-sales-forecasting/runs/kuecs68v</a>"
            ]
          },
          "metadata": {}
        },
        {
          "output_type": "display_data",
          "data": {
            "text/plain": [
              "<Figure size 1000x500 with 1 Axes>"
            ],
            "image/png": "[encoded data removed]"
          },
          "metadata": {}
        }
      ]
    }
  ]
}